{
 "cells": [
  {
   "cell_type": "code",
   "execution_count": 1,
   "id": "5e43815d",
   "metadata": {},
   "outputs": [],
   "source": [
    "import pandas as pd\n",
    "import numpy as np\n",
    "import matplotlib.pyplot as plt\n",
    "from sklearn.model_selection import GridSearchCV\n",
    "from sklearn.ensemble import RandomForestRegressor, AdaBoostRegressor, VotingRegressor, GradientBoostingRegressor, StackingRegressor\n",
    "from sklearn.svm import SVR\n",
    "from sklearn.metrics import mean_squared_error\n",
    "from sklearn.svm import SVR\n",
    "from sklearn.model_selection import cross_val_predict\n",
    "import joblib\n",
    "plt.style.use(\"ggplot\")\n",
    "pd.set_option('display.max_columns', None)"
   ]
  },
  {
   "cell_type": "code",
   "execution_count": 2,
   "id": "a0f3d16f",
   "metadata": {},
   "outputs": [
    {
     "data": {
      "text/html": [
       "<div>\n",
       "<style scoped>\n",
       "    .dataframe tbody tr th:only-of-type {\n",
       "        vertical-align: middle;\n",
       "    }\n",
       "\n",
       "    .dataframe tbody tr th {\n",
       "        vertical-align: top;\n",
       "    }\n",
       "\n",
       "    .dataframe thead th {\n",
       "        text-align: right;\n",
       "    }\n",
       "</style>\n",
       "<table border=\"1\" class=\"dataframe\">\n",
       "  <thead>\n",
       "    <tr style=\"text-align: right;\">\n",
       "      <th></th>\n",
       "      <th>Site</th>\n",
       "      <th>Site Name</th>\n",
       "      <th>Date</th>\n",
       "      <th>Battery (V)</th>\n",
       "      <th>Conductivity 25C continuous (uS/cm)</th>\n",
       "      <th>Oxygen dissolved continuous (%satn)</th>\n",
       "      <th>pH continuous</th>\n",
       "      <th>Temperature water continuous (C)</th>\n",
       "      <th>Water level continuous (mm)</th>\n",
       "    </tr>\n",
       "  </thead>\n",
       "  <tbody>\n",
       "    <tr>\n",
       "      <th>0</th>\n",
       "      <td>FP01</td>\n",
       "      <td>Bere Stream at Snatford Bridge</td>\n",
       "      <td>2002-11-13 13:45:00</td>\n",
       "      <td>12.0</td>\n",
       "      <td>405.0</td>\n",
       "      <td>117.3</td>\n",
       "      <td>8.02</td>\n",
       "      <td>11.4</td>\n",
       "      <td>450.8</td>\n",
       "    </tr>\n",
       "    <tr>\n",
       "      <th>1</th>\n",
       "      <td>FP01</td>\n",
       "      <td>Bere Stream at Snatford Bridge</td>\n",
       "      <td>2002-11-13 14:00:00</td>\n",
       "      <td>12.0</td>\n",
       "      <td>405.0</td>\n",
       "      <td>117.1</td>\n",
       "      <td>8.02</td>\n",
       "      <td>11.4</td>\n",
       "      <td>451.5</td>\n",
       "    </tr>\n",
       "    <tr>\n",
       "      <th>2</th>\n",
       "      <td>FP01</td>\n",
       "      <td>Bere Stream at Snatford Bridge</td>\n",
       "      <td>2002-11-13 14:15:00</td>\n",
       "      <td>12.0</td>\n",
       "      <td>405.0</td>\n",
       "      <td>116.3</td>\n",
       "      <td>8.02</td>\n",
       "      <td>11.4</td>\n",
       "      <td>450.7</td>\n",
       "    </tr>\n",
       "    <tr>\n",
       "      <th>3</th>\n",
       "      <td>FP01</td>\n",
       "      <td>Bere Stream at Snatford Bridge</td>\n",
       "      <td>2002-11-13 14:30:00</td>\n",
       "      <td>12.0</td>\n",
       "      <td>405.0</td>\n",
       "      <td>115.2</td>\n",
       "      <td>8.02</td>\n",
       "      <td>11.3</td>\n",
       "      <td>450.9</td>\n",
       "    </tr>\n",
       "    <tr>\n",
       "      <th>4</th>\n",
       "      <td>FP01</td>\n",
       "      <td>Bere Stream at Snatford Bridge</td>\n",
       "      <td>2002-11-13 14:45:00</td>\n",
       "      <td>12.0</td>\n",
       "      <td>405.0</td>\n",
       "      <td>114.9</td>\n",
       "      <td>8.01</td>\n",
       "      <td>11.3</td>\n",
       "      <td>451.1</td>\n",
       "    </tr>\n",
       "  </tbody>\n",
       "</table>\n",
       "</div>"
      ],
      "text/plain": [
       "   Site                       Site Name                 Date  Battery (V)  \\\n",
       "0  FP01  Bere Stream at Snatford Bridge  2002-11-13 13:45:00         12.0   \n",
       "1  FP01  Bere Stream at Snatford Bridge  2002-11-13 14:00:00         12.0   \n",
       "2  FP01  Bere Stream at Snatford Bridge  2002-11-13 14:15:00         12.0   \n",
       "3  FP01  Bere Stream at Snatford Bridge  2002-11-13 14:30:00         12.0   \n",
       "4  FP01  Bere Stream at Snatford Bridge  2002-11-13 14:45:00         12.0   \n",
       "\n",
       "   Conductivity 25C continuous (uS/cm)  Oxygen dissolved continuous (%satn)  \\\n",
       "0                                405.0                                117.3   \n",
       "1                                405.0                                117.1   \n",
       "2                                405.0                                116.3   \n",
       "3                                405.0                                115.2   \n",
       "4                                405.0                                114.9   \n",
       "\n",
       "   pH continuous  Temperature water continuous (C)  \\\n",
       "0           8.02                              11.4   \n",
       "1           8.02                              11.4   \n",
       "2           8.02                              11.4   \n",
       "3           8.02                              11.3   \n",
       "4           8.01                              11.3   \n",
       "\n",
       "   Water level continuous (mm)  \n",
       "0                        450.8  \n",
       "1                        451.5  \n",
       "2                        450.7  \n",
       "3                        450.9  \n",
       "4                        451.1  "
      ]
     },
     "execution_count": 2,
     "metadata": {},
     "output_type": "execute_result"
    }
   ],
   "source": [
    "data = pd.read_csv(\"LCWQ_Continuous_FPSites.csv\")\n",
    "data.head()"
   ]
  },
  {
   "cell_type": "code",
   "execution_count": 3,
   "id": "151fdb10",
   "metadata": {},
   "outputs": [
    {
     "data": {
      "text/html": [
       "<div>\n",
       "<style scoped>\n",
       "    .dataframe tbody tr th:only-of-type {\n",
       "        vertical-align: middle;\n",
       "    }\n",
       "\n",
       "    .dataframe tbody tr th {\n",
       "        vertical-align: top;\n",
       "    }\n",
       "\n",
       "    .dataframe thead th {\n",
       "        text-align: right;\n",
       "    }\n",
       "</style>\n",
       "<table border=\"1\" class=\"dataframe\">\n",
       "  <thead>\n",
       "    <tr style=\"text-align: right;\">\n",
       "      <th></th>\n",
       "      <th>site</th>\n",
       "      <th>site_name</th>\n",
       "      <th>date</th>\n",
       "      <th>battery</th>\n",
       "      <th>conductivity</th>\n",
       "      <th>oxygen</th>\n",
       "      <th>ph</th>\n",
       "      <th>temp</th>\n",
       "      <th>water_level</th>\n",
       "    </tr>\n",
       "  </thead>\n",
       "  <tbody>\n",
       "    <tr>\n",
       "      <th>0</th>\n",
       "      <td>FP01</td>\n",
       "      <td>Bere Stream at Snatford Bridge</td>\n",
       "      <td>2002-11-13 13:45:00</td>\n",
       "      <td>12.0</td>\n",
       "      <td>405.0</td>\n",
       "      <td>117.3</td>\n",
       "      <td>8.02</td>\n",
       "      <td>11.4</td>\n",
       "      <td>450.8</td>\n",
       "    </tr>\n",
       "    <tr>\n",
       "      <th>1</th>\n",
       "      <td>FP01</td>\n",
       "      <td>Bere Stream at Snatford Bridge</td>\n",
       "      <td>2002-11-13 14:00:00</td>\n",
       "      <td>12.0</td>\n",
       "      <td>405.0</td>\n",
       "      <td>117.1</td>\n",
       "      <td>8.02</td>\n",
       "      <td>11.4</td>\n",
       "      <td>451.5</td>\n",
       "    </tr>\n",
       "    <tr>\n",
       "      <th>2</th>\n",
       "      <td>FP01</td>\n",
       "      <td>Bere Stream at Snatford Bridge</td>\n",
       "      <td>2002-11-13 14:15:00</td>\n",
       "      <td>12.0</td>\n",
       "      <td>405.0</td>\n",
       "      <td>116.3</td>\n",
       "      <td>8.02</td>\n",
       "      <td>11.4</td>\n",
       "      <td>450.7</td>\n",
       "    </tr>\n",
       "    <tr>\n",
       "      <th>3</th>\n",
       "      <td>FP01</td>\n",
       "      <td>Bere Stream at Snatford Bridge</td>\n",
       "      <td>2002-11-13 14:30:00</td>\n",
       "      <td>12.0</td>\n",
       "      <td>405.0</td>\n",
       "      <td>115.2</td>\n",
       "      <td>8.02</td>\n",
       "      <td>11.3</td>\n",
       "      <td>450.9</td>\n",
       "    </tr>\n",
       "    <tr>\n",
       "      <th>4</th>\n",
       "      <td>FP01</td>\n",
       "      <td>Bere Stream at Snatford Bridge</td>\n",
       "      <td>2002-11-13 14:45:00</td>\n",
       "      <td>12.0</td>\n",
       "      <td>405.0</td>\n",
       "      <td>114.9</td>\n",
       "      <td>8.01</td>\n",
       "      <td>11.3</td>\n",
       "      <td>451.1</td>\n",
       "    </tr>\n",
       "  </tbody>\n",
       "</table>\n",
       "</div>"
      ],
      "text/plain": [
       "   site                       site_name                 date  battery  \\\n",
       "0  FP01  Bere Stream at Snatford Bridge  2002-11-13 13:45:00     12.0   \n",
       "1  FP01  Bere Stream at Snatford Bridge  2002-11-13 14:00:00     12.0   \n",
       "2  FP01  Bere Stream at Snatford Bridge  2002-11-13 14:15:00     12.0   \n",
       "3  FP01  Bere Stream at Snatford Bridge  2002-11-13 14:30:00     12.0   \n",
       "4  FP01  Bere Stream at Snatford Bridge  2002-11-13 14:45:00     12.0   \n",
       "\n",
       "   conductivity  oxygen    ph  temp  water_level  \n",
       "0         405.0   117.3  8.02  11.4        450.8  \n",
       "1         405.0   117.1  8.02  11.4        451.5  \n",
       "2         405.0   116.3  8.02  11.4        450.7  \n",
       "3         405.0   115.2  8.02  11.3        450.9  \n",
       "4         405.0   114.9  8.01  11.3        451.1  "
      ]
     },
     "execution_count": 3,
     "metadata": {},
     "output_type": "execute_result"
    }
   ],
   "source": [
    "# Creating a subset of the data and Renaming the features of the dataset \n",
    "\n",
    "sub_data = data.iloc[:5000, :].copy()\n",
    "\n",
    "sub_data = sub_data.rename(columns= {\n",
    "    'Site':\"site\",\n",
    "    'Site Name':\"site_name\",\n",
    "    'Date':\"date\",\n",
    "    'Battery (V)':\"battery\",\n",
    "    'Conductivity 25C continuous (uS/cm)':\"conductivity\",\n",
    "    'Oxygen dissolved continuous (%satn)':\"oxygen\",\n",
    "    'pH continuous':\"ph\",\n",
    "    'Temperature water continuous (C)':\"temp\",\n",
    "     'Water level continuous (mm)':\"water_level\"\n",
    "})\n",
    "sub_data.head()"
   ]
  },
  {
   "cell_type": "code",
   "execution_count": 4,
   "id": "fb7dcae1",
   "metadata": {},
   "outputs": [
    {
     "name": "stdout",
     "output_type": "stream",
     "text": [
      "<class 'pandas.core.frame.DataFrame'>\n",
      "RangeIndex: 5000 entries, 0 to 4999\n",
      "Data columns (total 9 columns):\n",
      " #   Column        Non-Null Count  Dtype  \n",
      "---  ------        --------------  -----  \n",
      " 0   site          5000 non-null   object \n",
      " 1   site_name     5000 non-null   object \n",
      " 2   date          5000 non-null   object \n",
      " 3   battery       5000 non-null   float64\n",
      " 4   conductivity  5000 non-null   float64\n",
      " 5   oxygen        5000 non-null   float64\n",
      " 6   ph            5000 non-null   float64\n",
      " 7   temp          5000 non-null   float64\n",
      " 8   water_level   5000 non-null   float64\n",
      "dtypes: float64(6), object(3)\n",
      "memory usage: 351.7+ KB\n"
     ]
    }
   ],
   "source": [
    "sub_data.info()"
   ]
  },
  {
   "cell_type": "code",
   "execution_count": 5,
   "id": "33c370ac",
   "metadata": {},
   "outputs": [
    {
     "data": {
      "text/html": [
       "<div>\n",
       "<style scoped>\n",
       "    .dataframe tbody tr th:only-of-type {\n",
       "        vertical-align: middle;\n",
       "    }\n",
       "\n",
       "    .dataframe tbody tr th {\n",
       "        vertical-align: top;\n",
       "    }\n",
       "\n",
       "    .dataframe thead th {\n",
       "        text-align: right;\n",
       "    }\n",
       "</style>\n",
       "<table border=\"1\" class=\"dataframe\">\n",
       "  <thead>\n",
       "    <tr style=\"text-align: right;\">\n",
       "      <th></th>\n",
       "      <th>battery</th>\n",
       "      <th>conductivity</th>\n",
       "      <th>oxygen</th>\n",
       "      <th>ph</th>\n",
       "      <th>temp</th>\n",
       "      <th>water_level</th>\n",
       "    </tr>\n",
       "  </thead>\n",
       "  <tbody>\n",
       "    <tr>\n",
       "      <th>battery</th>\n",
       "      <td>1.000000</td>\n",
       "      <td>0.458313</td>\n",
       "      <td>0.381633</td>\n",
       "      <td>0.504574</td>\n",
       "      <td>-0.129025</td>\n",
       "      <td>0.246596</td>\n",
       "    </tr>\n",
       "    <tr>\n",
       "      <th>conductivity</th>\n",
       "      <td>0.458313</td>\n",
       "      <td>1.000000</td>\n",
       "      <td>0.549594</td>\n",
       "      <td>0.646532</td>\n",
       "      <td>0.144615</td>\n",
       "      <td>-0.057854</td>\n",
       "    </tr>\n",
       "    <tr>\n",
       "      <th>oxygen</th>\n",
       "      <td>0.381633</td>\n",
       "      <td>0.549594</td>\n",
       "      <td>1.000000</td>\n",
       "      <td>0.622929</td>\n",
       "      <td>-0.146134</td>\n",
       "      <td>-0.193903</td>\n",
       "    </tr>\n",
       "    <tr>\n",
       "      <th>ph</th>\n",
       "      <td>0.504574</td>\n",
       "      <td>0.646532</td>\n",
       "      <td>0.622929</td>\n",
       "      <td>1.000000</td>\n",
       "      <td>-0.356340</td>\n",
       "      <td>0.009238</td>\n",
       "    </tr>\n",
       "    <tr>\n",
       "      <th>temp</th>\n",
       "      <td>-0.129025</td>\n",
       "      <td>0.144615</td>\n",
       "      <td>-0.146134</td>\n",
       "      <td>-0.356340</td>\n",
       "      <td>1.000000</td>\n",
       "      <td>0.249668</td>\n",
       "    </tr>\n",
       "    <tr>\n",
       "      <th>water_level</th>\n",
       "      <td>0.246596</td>\n",
       "      <td>-0.057854</td>\n",
       "      <td>-0.193903</td>\n",
       "      <td>0.009238</td>\n",
       "      <td>0.249668</td>\n",
       "      <td>1.000000</td>\n",
       "    </tr>\n",
       "  </tbody>\n",
       "</table>\n",
       "</div>"
      ],
      "text/plain": [
       "               battery  conductivity    oxygen        ph      temp  \\\n",
       "battery       1.000000      0.458313  0.381633  0.504574 -0.129025   \n",
       "conductivity  0.458313      1.000000  0.549594  0.646532  0.144615   \n",
       "oxygen        0.381633      0.549594  1.000000  0.622929 -0.146134   \n",
       "ph            0.504574      0.646532  0.622929  1.000000 -0.356340   \n",
       "temp         -0.129025      0.144615 -0.146134 -0.356340  1.000000   \n",
       "water_level   0.246596     -0.057854 -0.193903  0.009238  0.249668   \n",
       "\n",
       "              water_level  \n",
       "battery          0.246596  \n",
       "conductivity    -0.057854  \n",
       "oxygen          -0.193903  \n",
       "ph               0.009238  \n",
       "temp             0.249668  \n",
       "water_level      1.000000  "
      ]
     },
     "execution_count": 5,
     "metadata": {},
     "output_type": "execute_result"
    }
   ],
   "source": [
    "sub_data.corr(numeric_only=True) # correlation between the features"
   ]
  },
  {
   "cell_type": "code",
   "execution_count": 6,
   "id": "6d61d08b",
   "metadata": {},
   "outputs": [
    {
     "data": {
      "text/plain": [
       "oxygen                  1.000000\n",
       "ph                      0.622929\n",
       "ph_conductivity         0.600378\n",
       "conductivity_battery    0.554313\n",
       "conductivity            0.549594\n",
       "battery                 0.381633\n",
       "conductivity/battery    0.288778\n",
       "water_conductivity      0.177132\n",
       "ph_temp                 0.135670\n",
       "temp                   -0.146134\n",
       "water_level            -0.193903\n",
       "water_temp             -0.204790\n",
       "Name: oxygen, dtype: float64"
      ]
     },
     "execution_count": 6,
     "metadata": {},
     "output_type": "execute_result"
    }
   ],
   "source": [
    "# Quick feature creation\n",
    "\n",
    "sub_data[\"conductivity/battery\"] = sub_data[\"conductivity\"] / sub_data[\"battery\"]\n",
    "sub_data[\"water_temp\"] = sub_data[\"water_level\"] * sub_data[\"temp\"]\n",
    "sub_data[\"conductivity_battery\"] = sub_data[\"conductivity\"] * sub_data[\"battery\"]\n",
    "sub_data[\"ph_conductivity\"] = sub_data[\"conductivity\"] * sub_data[\"ph\"]\n",
    "sub_data[\"water_conductivity\"] = sub_data[\"conductivity\"] * sub_data[\"water_level\"]\n",
    "sub_data[\"ph_temp\"] = sub_data[\"conductivity\"] * sub_data[\"temp\"]\n",
    "\n",
    "# Correlation of the all features, including created features\n",
    "sub_data.corr(numeric_only=True)[\"oxygen\"].sort_values(ascending=False)"
   ]
  },
  {
   "cell_type": "code",
   "execution_count": 7,
   "id": "dca88740",
   "metadata": {},
   "outputs": [
    {
     "data": {
      "text/html": [
       "<div>\n",
       "<style scoped>\n",
       "    .dataframe tbody tr th:only-of-type {\n",
       "        vertical-align: middle;\n",
       "    }\n",
       "\n",
       "    .dataframe tbody tr th {\n",
       "        vertical-align: top;\n",
       "    }\n",
       "\n",
       "    .dataframe thead th {\n",
       "        text-align: right;\n",
       "    }\n",
       "</style>\n",
       "<table border=\"1\" class=\"dataframe\">\n",
       "  <thead>\n",
       "    <tr style=\"text-align: right;\">\n",
       "      <th></th>\n",
       "      <th>oxygen</th>\n",
       "      <th>ph</th>\n",
       "      <th>ph_conductivity</th>\n",
       "      <th>conductivity_battery</th>\n",
       "      <th>conductivity</th>\n",
       "      <th>battery</th>\n",
       "      <th>conductivity/battery</th>\n",
       "      <th>water_conductivity</th>\n",
       "      <th>water_temp</th>\n",
       "    </tr>\n",
       "  </thead>\n",
       "  <tbody>\n",
       "    <tr>\n",
       "      <th>0</th>\n",
       "      <td>117.3</td>\n",
       "      <td>8.02</td>\n",
       "      <td>3248.10</td>\n",
       "      <td>4860.0</td>\n",
       "      <td>405.0</td>\n",
       "      <td>12.0</td>\n",
       "      <td>33.75</td>\n",
       "      <td>182574.0</td>\n",
       "      <td>5139.12</td>\n",
       "    </tr>\n",
       "    <tr>\n",
       "      <th>1</th>\n",
       "      <td>117.1</td>\n",
       "      <td>8.02</td>\n",
       "      <td>3248.10</td>\n",
       "      <td>4860.0</td>\n",
       "      <td>405.0</td>\n",
       "      <td>12.0</td>\n",
       "      <td>33.75</td>\n",
       "      <td>182857.5</td>\n",
       "      <td>5147.10</td>\n",
       "    </tr>\n",
       "    <tr>\n",
       "      <th>2</th>\n",
       "      <td>116.3</td>\n",
       "      <td>8.02</td>\n",
       "      <td>3248.10</td>\n",
       "      <td>4860.0</td>\n",
       "      <td>405.0</td>\n",
       "      <td>12.0</td>\n",
       "      <td>33.75</td>\n",
       "      <td>182533.5</td>\n",
       "      <td>5137.98</td>\n",
       "    </tr>\n",
       "    <tr>\n",
       "      <th>3</th>\n",
       "      <td>115.2</td>\n",
       "      <td>8.02</td>\n",
       "      <td>3248.10</td>\n",
       "      <td>4860.0</td>\n",
       "      <td>405.0</td>\n",
       "      <td>12.0</td>\n",
       "      <td>33.75</td>\n",
       "      <td>182614.5</td>\n",
       "      <td>5095.17</td>\n",
       "    </tr>\n",
       "    <tr>\n",
       "      <th>4</th>\n",
       "      <td>114.9</td>\n",
       "      <td>8.01</td>\n",
       "      <td>3244.05</td>\n",
       "      <td>4860.0</td>\n",
       "      <td>405.0</td>\n",
       "      <td>12.0</td>\n",
       "      <td>33.75</td>\n",
       "      <td>182695.5</td>\n",
       "      <td>5097.43</td>\n",
       "    </tr>\n",
       "  </tbody>\n",
       "</table>\n",
       "</div>"
      ],
      "text/plain": [
       "   oxygen    ph  ph_conductivity  conductivity_battery  conductivity  battery  \\\n",
       "0   117.3  8.02          3248.10                4860.0         405.0     12.0   \n",
       "1   117.1  8.02          3248.10                4860.0         405.0     12.0   \n",
       "2   116.3  8.02          3248.10                4860.0         405.0     12.0   \n",
       "3   115.2  8.02          3248.10                4860.0         405.0     12.0   \n",
       "4   114.9  8.01          3244.05                4860.0         405.0     12.0   \n",
       "\n",
       "   conductivity/battery  water_conductivity  water_temp  \n",
       "0                 33.75            182574.0     5139.12  \n",
       "1                 33.75            182857.5     5147.10  \n",
       "2                 33.75            182533.5     5137.98  \n",
       "3                 33.75            182614.5     5095.17  \n",
       "4                 33.75            182695.5     5097.43  "
      ]
     },
     "execution_count": 7,
     "metadata": {},
     "output_type": "execute_result"
    }
   ],
   "source": [
    "# Selection of features based on their correlation values\n",
    "\n",
    "sub_data_useful = sub_data[['oxygen', 'ph', 'ph_conductivity', \n",
    "            'conductivity_battery', 'conductivity', \n",
    "            'battery', 'conductivity/battery', \n",
    "            'water_conductivity', \"water_temp\"]].copy()\n",
    "sub_data_useful.head()"
   ]
  },
  {
   "cell_type": "markdown",
   "id": "a125e0d6",
   "metadata": {},
   "source": [
    "# Data Vizualization"
   ]
  },
  {
   "cell_type": "code",
   "execution_count": 21,
   "id": "c4dc8356",
   "metadata": {},
   "outputs": [],
   "source": [
    "from sklearn.preprocessing import FunctionTransformer\n",
    "\n",
    "log_transformer = FunctionTransformer(np.log)\n",
    "square_root_transformer = FunctionTransformer(lambda x: x**(1/2))\n",
    "cube_root_transformer = FunctionTransformer(lambda x: x**(1/3))"
   ]
  },
  {
   "cell_type": "code",
   "execution_count": 15,
   "id": "172d4b24",
   "metadata": {},
   "outputs": [
    {
     "data": {
      "image/png": "[encoded data removed]",
      "text/plain": [
       "<Figure size 2000x1200 with 9 Axes>"
      ]
     },
     "metadata": {},
     "output_type": "display_data"
    }
   ],
   "source": [
    "# Histogram of all features\n",
    "sub_data_useful.hist(bins=50, figsize=(20,12))\n",
    "plt.show()"
   ]
  },
  {
   "cell_type": "code",
   "execution_count": 22,
   "id": "5d784f24",
   "metadata": {},
   "outputs": [
    {
     "data": {
      "image/png": "[encoded data removed]",
      "text/plain": [
       "<Figure size 2000x1200 with 9 Axes>"
      ]
     },
     "metadata": {},
     "output_type": "display_data"
    }
   ],
   "source": [
    "# Cube root transformation\n",
    "cube_root_transform = cube_root_transformer.transform(sub_data_useful)\n",
    "cube_root_transform.hist(bins=50, figsize=(20,12))\n",
    "plt.show()"
   ]
  },
  {
   "cell_type": "code",
   "execution_count": 23,
   "id": "e1465b2f",
   "metadata": {},
   "outputs": [
    {
     "data": {
      "image/png": "[encoded data removed]",
      "text/plain": [
       "<Figure size 2000x1200 with 9 Axes>"
      ]
     },
     "metadata": {},
     "output_type": "display_data"
    }
   ],
   "source": [
    "# Square Root Transformation\n",
    "square_root_transform = square_root_transformer.transform(sub_data_useful)\n",
    "square_root_transform.hist(bins=50, figsize=(20,12))\n",
    "plt.show()"
   ]
  },
  {
   "cell_type": "code",
   "execution_count": 24,
   "id": "8b89bc52",
   "metadata": {},
   "outputs": [
    {
     "data": {
      "image/png": "[encoded data removed]",
      "text/plain": [
       "<Figure size 2000x1200 with 9 Axes>"
      ]
     },
     "metadata": {},
     "output_type": "display_data"
    }
   ],
   "source": [
    "# Natural Log Transformation\n",
    "log_transform = log_transformer.transform(sub_data_useful)\n",
    "log_transform.hist(bins=50, figsize=(20,12))\n",
    "plt.show()"
   ]
  },
  {
   "cell_type": "markdown",
   "id": "fb8f9c30",
   "metadata": {},
   "source": [
    "# Preprocessing"
   ]
  },
  {
   "cell_type": "code",
   "execution_count": 8,
   "id": "9ccf009f",
   "metadata": {},
   "outputs": [],
   "source": [
    "from sklearn.pipeline import Pipeline, make_pipeline\n",
    "from sklearn.compose import ColumnTransformer, make_column_selector\n",
    "from sklearn.preprocessing import StandardScaler, FunctionTransformer, PolynomialFeatures, OrdinalEncoder\n",
    "from sklearn.impute import SimpleImputer\n",
    "from sklearn.linear_model import LinearRegression, Lasso, Ridge\n",
    "\n",
    "from sklearn.model_selection import cross_val_score\n",
    "from sklearn.metrics import make_scorer, mean_squared_error"
   ]
  },
  {
   "cell_type": "code",
   "execution_count": 9,
   "id": "563a19d4",
   "metadata": {},
   "outputs": [],
   "source": [
    "# Train-Test split\n",
    "from sklearn.model_selection import train_test_split\n",
    "\n",
    "train_set, test_set = train_test_split(sub_data_useful, test_size=0.2, random_state=42, stratify=sub_data_useful[\"battery\"])\n",
    "X_train, y_train = train_set.drop([\"oxygen\"], axis=1), train_set[\"oxygen\"]\n",
    "X_test, y_test = test_set.drop([\"oxygen\"], axis=1), test_set[\"oxygen\"]"
   ]
  },
  {
   "cell_type": "code",
   "execution_count": 10,
   "id": "d2d036d2",
   "metadata": {},
   "outputs": [],
   "source": [
    "from sklearn.base import BaseEstimator, TransformerMixin\n",
    "\n",
    "class input_outlier(BaseEstimator, TransformerMixin):\n",
    "    def __init__(self):\n",
    "        pass\n",
    "    def fit(self, X, y=None):\n",
    "        a=False\n",
    "        if a:\n",
    "            self.feature_names_in = X.columns\n",
    "        else:\n",
    "            self.feature_names_in = [str(i) for i in range(X.shape[1])]\n",
    "            \n",
    "        self.upper_limit = np.percentile(X, 99)\n",
    "        self.lower_limit = np.percentile(X, 1)\n",
    "        \n",
    "        #--> for pandas\n",
    "        #self.upper_limit = X.quantile(0.99)\n",
    "        #self.lower_limit = X.quantile(0.01)\n",
    "        return self\n",
    "    def transform(self, X, y=None):\n",
    "        fixed_X = np.where(X>self.upper_limit, self.upper_limit, np.where(X<self.lower_limit, self.lower_limit, X))\n",
    "        return fixed_X\n",
    "    def get_feature_names_out(self, names=None):\n",
    "        return self.feature_names_in"
   ]
  },
  {
   "cell_type": "code",
   "execution_count": 11,
   "id": "b3c0e766",
   "metadata": {},
   "outputs": [],
   "source": [
    "log_transformer = FunctionTransformer(np.log, inverse_func=np.exp, feature_names_out=\"one-to-one\")\n",
    "\n",
    "num_features = make_pipeline(\n",
    "    input_outlier(),\n",
    "    SimpleImputer(strategy=\"median\"),\n",
    "    log_transformer,\n",
    "    StandardScaler(),\n",
    ")\n",
    "\n",
    "cat_features = make_pipeline(\n",
    "    SimpleImputer(strategy=\"most_frequent\"),\n",
    "    OrdinalEncoder(handle_unknown=\"error\")\n",
    ")\n",
    "\n",
    "cleaning = ColumnTransformer([\n",
    "    #(\"cat\", cat_features, (\"battery\",)),\n",
    "    (\"num\", num_features, make_column_selector(dtype_include=np.number))\n",
    "])\n",
    "\n",
    "target_cleaning = make_pipeline(\n",
    "    input_outlier(),\n",
    "    SimpleImputer(strategy=\"median\"),\n",
    "    log_transformer,\n",
    "    StandardScaler(),\n",
    ")\n",
    "\n",
    "class target_cleaner(BaseEstimator, TransformerMixin):\n",
    "    def __init__(self):\n",
    "        pass\n",
    "    def fit(self, X, y=None):\n",
    "        self.fix_outlier = input_outlier()\n",
    "        self.imputer = SimpleImputer(strategy=\"median\")\n",
    "        self.scaler = StandardScaler()\n",
    "        self.log_transformer = FunctionTransformer(np.log)\n",
    "        self.exp_transformer = FunctionTransformer(np.exp)\n",
    "\n",
    "        return self\n",
    "    \n",
    "    def transform(self, X, y=None):\n",
    "        fixed_outlier = self.fix_outlier.fit_transform(X)\n",
    "        fixed_missing = self.imputer.fit_transform(fixed_outlier)\n",
    "        fixed_log = self.log_transformer.transform(fixed_missing)\n",
    "        fixed_scale = self.scaler.fit_transform(fixed_log)\n",
    "        \n",
    "        return fixed_scale\n",
    "    \n",
    "    def inverse_transform(self, X, y=None):\n",
    "        X_unscaled = self.scaler.inverse_transform(X)\n",
    "        X_unlog = self.exp_transformer.transform(X_unscaled)\n",
    "        return X_unlog\n",
    "    \n",
    "mse_scorer = make_scorer(mean_squared_error, greater_is_better=True, squared=False, needs_threshold=False)"
   ]
  },
  {
   "cell_type": "code",
   "execution_count": 12,
   "id": "817e4a5f",
   "metadata": {},
   "outputs": [
    {
     "data": {
      "text/html": [
       "<style>#sk-container-id-1 {color: black;background-color: white;}#sk-container-id-1 pre{padding: 0;}#sk-container-id-1 div.sk-toggleable {background-color: white;}#sk-container-id-1 label.sk-toggleable__label {cursor: pointer;display: block;width: 100%;margin-bottom: 0;padding: 0.3em;box-sizing: border-box;text-align: center;}#sk-container-id-1 label.sk-toggleable__label-arrow:before {content: \"▸\";float: left;margin-right: 0.25em;color: #696969;}#sk-container-id-1 label.sk-toggleable__label-arrow:hover:before {color: black;}#sk-container-id-1 div.sk-estimator:hover label.sk-toggleable__label-arrow:before {color: black;}#sk-container-id-1 div.sk-toggleable__content {max-height: 0;max-width: 0;overflow: hidden;text-align: left;background-color: #f0f8ff;}#sk-container-id-1 div.sk-toggleable__content pre {margin: 0.2em;color: black;border-radius: 0.25em;background-color: #f0f8ff;}#sk-container-id-1 input.sk-toggleable__control:checked~div.sk-toggleable__content {max-height: 200px;max-width: 100%;overflow: auto;}#sk-container-id-1 input.sk-toggleable__control:checked~label.sk-toggleable__label-arrow:before {content: \"▾\";}#sk-container-id-1 div.sk-estimator input.sk-toggleable__control:checked~label.sk-toggleable__label {background-color: #d4ebff;}#sk-container-id-1 div.sk-label input.sk-toggleable__control:checked~label.sk-toggleable__label {background-color: #d4ebff;}#sk-container-id-1 input.sk-hidden--visually {border: 0;clip: rect(1px 1px 1px 1px);clip: rect(1px, 1px, 1px, 1px);height: 1px;margin: -1px;overflow: hidden;padding: 0;position: absolute;width: 1px;}#sk-container-id-1 div.sk-estimator {font-family: monospace;background-color: #f0f8ff;border: 1px dotted black;border-radius: 0.25em;box-sizing: border-box;margin-bottom: 0.5em;}#sk-container-id-1 div.sk-estimator:hover {background-color: #d4ebff;}#sk-container-id-1 div.sk-parallel-item::after {content: \"\";width: 100%;border-bottom: 1px solid gray;flex-grow: 1;}#sk-container-id-1 div.sk-label:hover label.sk-toggleable__label {background-color: #d4ebff;}#sk-container-id-1 div.sk-serial::before {content: \"\";position: absolute;border-left: 1px solid gray;box-sizing: border-box;top: 0;bottom: 0;left: 50%;z-index: 0;}#sk-container-id-1 div.sk-serial {display: flex;flex-direction: column;align-items: center;background-color: white;padding-right: 0.2em;padding-left: 0.2em;position: relative;}#sk-container-id-1 div.sk-item {position: relative;z-index: 1;}#sk-container-id-1 div.sk-parallel {display: flex;align-items: stretch;justify-content: center;background-color: white;position: relative;}#sk-container-id-1 div.sk-item::before, #sk-container-id-1 div.sk-parallel-item::before {content: \"\";position: absolute;border-left: 1px solid gray;box-sizing: border-box;top: 0;bottom: 0;left: 50%;z-index: -1;}#sk-container-id-1 div.sk-parallel-item {display: flex;flex-direction: column;z-index: 1;position: relative;background-color: white;}#sk-container-id-1 div.sk-parallel-item:first-child::after {align-self: flex-end;width: 50%;}#sk-container-id-1 div.sk-parallel-item:last-child::after {align-self: flex-start;width: 50%;}#sk-container-id-1 div.sk-parallel-item:only-child::after {width: 0;}#sk-container-id-1 div.sk-dashed-wrapped {border: 1px dashed gray;margin: 0 0.4em 0.5em 0.4em;box-sizing: border-box;padding-bottom: 0.4em;background-color: white;}#sk-container-id-1 div.sk-label label {font-family: monospace;font-weight: bold;display: inline-block;line-height: 1.2em;}#sk-container-id-1 div.sk-label-container {text-align: center;}#sk-container-id-1 div.sk-container {/* jupyter's `normalize.less` sets `[hidden] { display: none; }` but bootstrap.min.css set `[hidden] { display: none !important; }` so we also need the `!important` here to be able to override the default hidden behavior on the sphinx rendered scikit-learn.org. See: https://github.com/scikit-learn/scikit-learn/issues/21755 */display: inline-block !important;position: relative;}#sk-container-id-1 div.sk-text-repr-fallback {display: none;}</style><div id=\"sk-container-id-1\" class=\"sk-top-container\"><div class=\"sk-text-repr-fallback\"><pre>ColumnTransformer(transformers=[(&#x27;num&#x27;,\n",
       "                                 Pipeline(steps=[(&#x27;input_outlier&#x27;,\n",
       "                                                  input_outlier()),\n",
       "                                                 (&#x27;simpleimputer&#x27;,\n",
       "                                                  SimpleImputer(strategy=&#x27;median&#x27;)),\n",
       "                                                 (&#x27;functiontransformer&#x27;,\n",
       "                                                  FunctionTransformer(feature_names_out=&#x27;one-to-one&#x27;,\n",
       "                                                                      func=&lt;ufunc &#x27;log&#x27;&gt;,\n",
       "                                                                      inverse_func=&lt;ufunc &#x27;exp&#x27;&gt;)),\n",
       "                                                 (&#x27;standardscaler&#x27;,\n",
       "                                                  StandardScaler())]),\n",
       "                                 &lt;sklearn.compose._column_transformer.make_column_selector object at 0x0000021385EEC700&gt;)])</pre><b>In a Jupyter environment, please rerun this cell to show the HTML representation or trust the notebook. <br />On GitHub, the HTML representation is unable to render, please try loading this page with nbviewer.org.</b></div><div class=\"sk-container\" hidden><div class=\"sk-item sk-dashed-wrapped\"><div class=\"sk-label-container\"><div class=\"sk-label sk-toggleable\"><input class=\"sk-toggleable__control sk-hidden--visually\" id=\"sk-estimator-id-1\" type=\"checkbox\" ><label for=\"sk-estimator-id-1\" class=\"sk-toggleable__label sk-toggleable__label-arrow\">ColumnTransformer</label><div class=\"sk-toggleable__content\"><pre>ColumnTransformer(transformers=[(&#x27;num&#x27;,\n",
       "                                 Pipeline(steps=[(&#x27;input_outlier&#x27;,\n",
       "                                                  input_outlier()),\n",
       "                                                 (&#x27;simpleimputer&#x27;,\n",
       "                                                  SimpleImputer(strategy=&#x27;median&#x27;)),\n",
       "                                                 (&#x27;functiontransformer&#x27;,\n",
       "                                                  FunctionTransformer(feature_names_out=&#x27;one-to-one&#x27;,\n",
       "                                                                      func=&lt;ufunc &#x27;log&#x27;&gt;,\n",
       "                                                                      inverse_func=&lt;ufunc &#x27;exp&#x27;&gt;)),\n",
       "                                                 (&#x27;standardscaler&#x27;,\n",
       "                                                  StandardScaler())]),\n",
       "                                 &lt;sklearn.compose._column_transformer.make_column_selector object at 0x0000021385EEC700&gt;)])</pre></div></div></div><div class=\"sk-parallel\"><div class=\"sk-parallel-item\"><div class=\"sk-item\"><div class=\"sk-label-container\"><div class=\"sk-label sk-toggleable\"><input class=\"sk-toggleable__control sk-hidden--visually\" id=\"sk-estimator-id-2\" type=\"checkbox\" ><label for=\"sk-estimator-id-2\" class=\"sk-toggleable__label sk-toggleable__label-arrow\">num</label><div class=\"sk-toggleable__content\"><pre>&lt;sklearn.compose._column_transformer.make_column_selector object at 0x0000021385EEC700&gt;</pre></div></div></div><div class=\"sk-serial\"><div class=\"sk-item\"><div class=\"sk-serial\"><div class=\"sk-item\"><div class=\"sk-estimator sk-toggleable\"><input class=\"sk-toggleable__control sk-hidden--visually\" id=\"sk-estimator-id-3\" type=\"checkbox\" ><label for=\"sk-estimator-id-3\" class=\"sk-toggleable__label sk-toggleable__label-arrow\">input_outlier</label><div class=\"sk-toggleable__content\"><pre>input_outlier()</pre></div></div></div><div class=\"sk-item\"><div class=\"sk-estimator sk-toggleable\"><input class=\"sk-toggleable__control sk-hidden--visually\" id=\"sk-estimator-id-4\" type=\"checkbox\" ><label for=\"sk-estimator-id-4\" class=\"sk-toggleable__label sk-toggleable__label-arrow\">SimpleImputer</label><div class=\"sk-toggleable__content\"><pre>SimpleImputer(strategy=&#x27;median&#x27;)</pre></div></div></div><div class=\"sk-item\"><div class=\"sk-estimator sk-toggleable\"><input class=\"sk-toggleable__control sk-hidden--visually\" id=\"sk-estimator-id-5\" type=\"checkbox\" ><label for=\"sk-estimator-id-5\" class=\"sk-toggleable__label sk-toggleable__label-arrow\">FunctionTransformer</label><div class=\"sk-toggleable__content\"><pre>FunctionTransformer(feature_names_out=&#x27;one-to-one&#x27;, func=&lt;ufunc &#x27;log&#x27;&gt;,\n",
       "                    inverse_func=&lt;ufunc &#x27;exp&#x27;&gt;)</pre></div></div></div><div class=\"sk-item\"><div class=\"sk-estimator sk-toggleable\"><input class=\"sk-toggleable__control sk-hidden--visually\" id=\"sk-estimator-id-6\" type=\"checkbox\" ><label for=\"sk-estimator-id-6\" class=\"sk-toggleable__label sk-toggleable__label-arrow\">StandardScaler</label><div class=\"sk-toggleable__content\"><pre>StandardScaler()</pre></div></div></div></div></div></div></div></div></div></div></div></div>"
      ],
      "text/plain": [
       "ColumnTransformer(transformers=[('num',\n",
       "                                 Pipeline(steps=[('input_outlier',\n",
       "                                                  input_outlier()),\n",
       "                                                 ('simpleimputer',\n",
       "                                                  SimpleImputer(strategy='median')),\n",
       "                                                 ('functiontransformer',\n",
       "                                                  FunctionTransformer(feature_names_out='one-to-one',\n",
       "                                                                      func=<ufunc 'log'>,\n",
       "                                                                      inverse_func=<ufunc 'exp'>)),\n",
       "                                                 ('standardscaler',\n",
       "                                                  StandardScaler())]),\n",
       "                                 <sklearn.compose._column_transformer.make_column_selector object at 0x0000021385EEC700>)])"
      ]
     },
     "execution_count": 12,
     "metadata": {},
     "output_type": "execute_result"
    }
   ],
   "source": [
    "cleaning.fit(X_train)"
   ]
  },
  {
   "cell_type": "code",
   "execution_count": 13,
   "id": "ba5503df",
   "metadata": {},
   "outputs": [],
   "source": [
    "X_train_clean = cleaning.fit_transform(X_train)\n",
    "X_test_clean = cleaning.transform(X_test)"
   ]
  },
  {
   "cell_type": "code",
   "execution_count": 32,
   "id": "d2fa6291",
   "metadata": {},
   "outputs": [
    {
     "data": {
      "text/plain": [
       "['trained_models/cleaning.plk']"
      ]
     },
     "execution_count": 32,
     "metadata": {},
     "output_type": "execute_result"
    }
   ],
   "source": [
    "# save cleaning preprocessor\n",
    "joblib.dump(cleaning, \"trained_models/cleaning.plk\")"
   ]
  },
  {
   "cell_type": "markdown",
   "id": "fbf0c9fc",
   "metadata": {},
   "source": [
    "# Random Forest"
   ]
  },
  {
   "cell_type": "code",
   "execution_count": 34,
   "id": "84075bee",
   "metadata": {},
   "outputs": [],
   "source": [
    "from sklearn.ensemble import RandomForestRegressor\n",
    "random_frst = Pipeline([\n",
    "    (\"cleaning\", cleaning),\n",
    "    (\"poly_feat\", PolynomialFeatures(degree=2)),\n",
    "    (\"forest\", RandomForestRegressor())\n",
    "])"
   ]
  },
  {
   "cell_type": "code",
   "execution_count": 35,
   "id": "1ac4f088",
   "metadata": {},
   "outputs": [
    {
     "data": {
      "text/plain": [
       "7.6753458935182355"
      ]
     },
     "execution_count": 35,
     "metadata": {},
     "output_type": "execute_result"
    }
   ],
   "source": [
    "cross_score = cross_val_score(random_frst, X=X_train, y=y_train, cv=5, scoring=mse_scorer, n_jobs=-1)\n",
    "cross_score.mean()"
   ]
  },
  {
   "cell_type": "markdown",
   "id": "40e8e2cc",
   "metadata": {},
   "source": [
    "### Random Forest Grid Search"
   ]
  },
  {
   "cell_type": "code",
   "execution_count": 36,
   "id": "5d46566f",
   "metadata": {},
   "outputs": [],
   "source": [
    "params = [{\"forest__n_estimators\":[100, 150, 200], \n",
    "           \"forest__criterion\":[\"friedman_mse\"],\n",
    "          \"forest__max_depth\": [25, 30, 35],\n",
    "          \"forest__min_samples_split\": [2, 3],\n",
    "          \"forest__max_features\": [7, 9, 10],\n",
    "          \"forest__n_jobs\": [-1],\n",
    "          }]\n",
    "\n",
    "forest_grid_search = GridSearchCV(random_frst, cv=3, param_grid = params, n_jobs=-1, verbose=2, scoring=mse_scorer)"
   ]
  },
  {
   "cell_type": "code",
   "execution_count": 37,
   "id": "18f8f97f",
   "metadata": {},
   "outputs": [
    {
     "name": "stdout",
     "output_type": "stream",
     "text": [
      "Fitting 3 folds for each of 54 candidates, totalling 162 fits\n"
     ]
    },
    {
     "data": {
      "text/html": [
       "<style>#sk-container-id-2 {color: black;background-color: white;}#sk-container-id-2 pre{padding: 0;}#sk-container-id-2 div.sk-toggleable {background-color: white;}#sk-container-id-2 label.sk-toggleable__label {cursor: pointer;display: block;width: 100%;margin-bottom: 0;padding: 0.3em;box-sizing: border-box;text-align: center;}#sk-container-id-2 label.sk-toggleable__label-arrow:before {content: \"▸\";float: left;margin-right: 0.25em;color: #696969;}#sk-container-id-2 label.sk-toggleable__label-arrow:hover:before {color: black;}#sk-container-id-2 div.sk-estimator:hover label.sk-toggleable__label-arrow:before {color: black;}#sk-container-id-2 div.sk-toggleable__content {max-height: 0;max-width: 0;overflow: hidden;text-align: left;background-color: #f0f8ff;}#sk-container-id-2 div.sk-toggleable__content pre {margin: 0.2em;color: black;border-radius: 0.25em;background-color: #f0f8ff;}#sk-container-id-2 input.sk-toggleable__control:checked~div.sk-toggleable__content {max-height: 200px;max-width: 100%;overflow: auto;}#sk-container-id-2 input.sk-toggleable__control:checked~label.sk-toggleable__label-arrow:before {content: \"▾\";}#sk-container-id-2 div.sk-estimator input.sk-toggleable__control:checked~label.sk-toggleable__label {background-color: #d4ebff;}#sk-container-id-2 div.sk-label input.sk-toggleable__control:checked~label.sk-toggleable__label {background-color: #d4ebff;}#sk-container-id-2 input.sk-hidden--visually {border: 0;clip: rect(1px 1px 1px 1px);clip: rect(1px, 1px, 1px, 1px);height: 1px;margin: -1px;overflow: hidden;padding: 0;position: absolute;width: 1px;}#sk-container-id-2 div.sk-estimator {font-family: monospace;background-color: #f0f8ff;border: 1px dotted black;border-radius: 0.25em;box-sizing: border-box;margin-bottom: 0.5em;}#sk-container-id-2 div.sk-estimator:hover {background-color: #d4ebff;}#sk-container-id-2 div.sk-parallel-item::after {content: \"\";width: 100%;border-bottom: 1px solid gray;flex-grow: 1;}#sk-container-id-2 div.sk-label:hover label.sk-toggleable__label {background-color: #d4ebff;}#sk-container-id-2 div.sk-serial::before {content: \"\";position: absolute;border-left: 1px solid gray;box-sizing: border-box;top: 0;bottom: 0;left: 50%;z-index: 0;}#sk-container-id-2 div.sk-serial {display: flex;flex-direction: column;align-items: center;background-color: white;padding-right: 0.2em;padding-left: 0.2em;position: relative;}#sk-container-id-2 div.sk-item {position: relative;z-index: 1;}#sk-container-id-2 div.sk-parallel {display: flex;align-items: stretch;justify-content: center;background-color: white;position: relative;}#sk-container-id-2 div.sk-item::before, #sk-container-id-2 div.sk-parallel-item::before {content: \"\";position: absolute;border-left: 1px solid gray;box-sizing: border-box;top: 0;bottom: 0;left: 50%;z-index: -1;}#sk-container-id-2 div.sk-parallel-item {display: flex;flex-direction: column;z-index: 1;position: relative;background-color: white;}#sk-container-id-2 div.sk-parallel-item:first-child::after {align-self: flex-end;width: 50%;}#sk-container-id-2 div.sk-parallel-item:last-child::after {align-self: flex-start;width: 50%;}#sk-container-id-2 div.sk-parallel-item:only-child::after {width: 0;}#sk-container-id-2 div.sk-dashed-wrapped {border: 1px dashed gray;margin: 0 0.4em 0.5em 0.4em;box-sizing: border-box;padding-bottom: 0.4em;background-color: white;}#sk-container-id-2 div.sk-label label {font-family: monospace;font-weight: bold;display: inline-block;line-height: 1.2em;}#sk-container-id-2 div.sk-label-container {text-align: center;}#sk-container-id-2 div.sk-container {/* jupyter's `normalize.less` sets `[hidden] { display: none; }` but bootstrap.min.css set `[hidden] { display: none !important; }` so we also need the `!important` here to be able to override the default hidden behavior on the sphinx rendered scikit-learn.org. See: https://github.com/scikit-learn/scikit-learn/issues/21755 */display: inline-block !important;position: relative;}#sk-container-id-2 div.sk-text-repr-fallback {display: none;}</style><div id=\"sk-container-id-2\" class=\"sk-top-container\"><div class=\"sk-text-repr-fallback\"><pre>GridSearchCV(cv=3,\n",
       "             estimator=Pipeline(steps=[(&#x27;cleaning&#x27;,\n",
       "                                        ColumnTransformer(transformers=[(&#x27;num&#x27;,\n",
       "                                                                         Pipeline(steps=[(&#x27;input_outlier&#x27;,\n",
       "                                                                                          input_outlier()),\n",
       "                                                                                         (&#x27;simpleimputer&#x27;,\n",
       "                                                                                          SimpleImputer(strategy=&#x27;median&#x27;)),\n",
       "                                                                                         (&#x27;functiontransformer&#x27;,\n",
       "                                                                                          FunctionTransformer(feature_names_out=&#x27;one-to-one&#x27;,\n",
       "                                                                                                              func=&lt;ufunc &#x27;log&#x27;&gt;,\n",
       "                                                                                                              inverse_func=&lt;ufunc &#x27;exp&#x27;&gt;)),\n",
       "                                                                                         (&#x27;standardscaler&#x27;,\n",
       "                                                                                          StandardScaler()...\n",
       "                                       (&#x27;poly_feat&#x27;, PolynomialFeatures()),\n",
       "                                       (&#x27;forest&#x27;, RandomForestRegressor())]),\n",
       "             n_jobs=-1,\n",
       "             param_grid=[{&#x27;forest__criterion&#x27;: [&#x27;friedman_mse&#x27;],\n",
       "                          &#x27;forest__max_depth&#x27;: [25, 30, 35],\n",
       "                          &#x27;forest__max_features&#x27;: [7, 9, 10],\n",
       "                          &#x27;forest__min_samples_split&#x27;: [2, 3],\n",
       "                          &#x27;forest__n_estimators&#x27;: [100, 150, 200],\n",
       "                          &#x27;forest__n_jobs&#x27;: [-1]}],\n",
       "             scoring=make_scorer(mean_squared_error, squared=False), verbose=2)</pre><b>In a Jupyter environment, please rerun this cell to show the HTML representation or trust the notebook. <br />On GitHub, the HTML representation is unable to render, please try loading this page with nbviewer.org.</b></div><div class=\"sk-container\" hidden><div class=\"sk-item sk-dashed-wrapped\"><div class=\"sk-label-container\"><div class=\"sk-label sk-toggleable\"><input class=\"sk-toggleable__control sk-hidden--visually\" id=\"sk-estimator-id-7\" type=\"checkbox\" ><label for=\"sk-estimator-id-7\" class=\"sk-toggleable__label sk-toggleable__label-arrow\">GridSearchCV</label><div class=\"sk-toggleable__content\"><pre>GridSearchCV(cv=3,\n",
       "             estimator=Pipeline(steps=[(&#x27;cleaning&#x27;,\n",
       "                                        ColumnTransformer(transformers=[(&#x27;num&#x27;,\n",
       "                                                                         Pipeline(steps=[(&#x27;input_outlier&#x27;,\n",
       "                                                                                          input_outlier()),\n",
       "                                                                                         (&#x27;simpleimputer&#x27;,\n",
       "                                                                                          SimpleImputer(strategy=&#x27;median&#x27;)),\n",
       "                                                                                         (&#x27;functiontransformer&#x27;,\n",
       "                                                                                          FunctionTransformer(feature_names_out=&#x27;one-to-one&#x27;,\n",
       "                                                                                                              func=&lt;ufunc &#x27;log&#x27;&gt;,\n",
       "                                                                                                              inverse_func=&lt;ufunc &#x27;exp&#x27;&gt;)),\n",
       "                                                                                         (&#x27;standardscaler&#x27;,\n",
       "                                                                                          StandardScaler()...\n",
       "                                       (&#x27;poly_feat&#x27;, PolynomialFeatures()),\n",
       "                                       (&#x27;forest&#x27;, RandomForestRegressor())]),\n",
       "             n_jobs=-1,\n",
       "             param_grid=[{&#x27;forest__criterion&#x27;: [&#x27;friedman_mse&#x27;],\n",
       "                          &#x27;forest__max_depth&#x27;: [25, 30, 35],\n",
       "                          &#x27;forest__max_features&#x27;: [7, 9, 10],\n",
       "                          &#x27;forest__min_samples_split&#x27;: [2, 3],\n",
       "                          &#x27;forest__n_estimators&#x27;: [100, 150, 200],\n",
       "                          &#x27;forest__n_jobs&#x27;: [-1]}],\n",
       "             scoring=make_scorer(mean_squared_error, squared=False), verbose=2)</pre></div></div></div><div class=\"sk-parallel\"><div class=\"sk-parallel-item\"><div class=\"sk-item\"><div class=\"sk-label-container\"><div class=\"sk-label sk-toggleable\"><input class=\"sk-toggleable__control sk-hidden--visually\" id=\"sk-estimator-id-8\" type=\"checkbox\" ><label for=\"sk-estimator-id-8\" class=\"sk-toggleable__label sk-toggleable__label-arrow\">estimator: Pipeline</label><div class=\"sk-toggleable__content\"><pre>Pipeline(steps=[(&#x27;cleaning&#x27;,\n",
       "                 ColumnTransformer(transformers=[(&#x27;num&#x27;,\n",
       "                                                  Pipeline(steps=[(&#x27;input_outlier&#x27;,\n",
       "                                                                   input_outlier()),\n",
       "                                                                  (&#x27;simpleimputer&#x27;,\n",
       "                                                                   SimpleImputer(strategy=&#x27;median&#x27;)),\n",
       "                                                                  (&#x27;functiontransformer&#x27;,\n",
       "                                                                   FunctionTransformer(feature_names_out=&#x27;one-to-one&#x27;,\n",
       "                                                                                       func=&lt;ufunc &#x27;log&#x27;&gt;,\n",
       "                                                                                       inverse_func=&lt;ufunc &#x27;exp&#x27;&gt;)),\n",
       "                                                                  (&#x27;standardscaler&#x27;,\n",
       "                                                                   StandardScaler())]),\n",
       "                                                  &lt;sklearn.compose._column_transformer.make_column_selector object at 0x000002F29E8676A0&gt;)])),\n",
       "                (&#x27;poly_feat&#x27;, PolynomialFeatures()),\n",
       "                (&#x27;forest&#x27;, RandomForestRegressor())])</pre></div></div></div><div class=\"sk-serial\"><div class=\"sk-item\"><div class=\"sk-serial\"><div class=\"sk-item sk-dashed-wrapped\"><div class=\"sk-label-container\"><div class=\"sk-label sk-toggleable\"><input class=\"sk-toggleable__control sk-hidden--visually\" id=\"sk-estimator-id-9\" type=\"checkbox\" ><label for=\"sk-estimator-id-9\" class=\"sk-toggleable__label sk-toggleable__label-arrow\">cleaning: ColumnTransformer</label><div class=\"sk-toggleable__content\"><pre>ColumnTransformer(transformers=[(&#x27;num&#x27;,\n",
       "                                 Pipeline(steps=[(&#x27;input_outlier&#x27;,\n",
       "                                                  input_outlier()),\n",
       "                                                 (&#x27;simpleimputer&#x27;,\n",
       "                                                  SimpleImputer(strategy=&#x27;median&#x27;)),\n",
       "                                                 (&#x27;functiontransformer&#x27;,\n",
       "                                                  FunctionTransformer(feature_names_out=&#x27;one-to-one&#x27;,\n",
       "                                                                      func=&lt;ufunc &#x27;log&#x27;&gt;,\n",
       "                                                                      inverse_func=&lt;ufunc &#x27;exp&#x27;&gt;)),\n",
       "                                                 (&#x27;standardscaler&#x27;,\n",
       "                                                  StandardScaler())]),\n",
       "                                 &lt;sklearn.compose._column_transformer.make_column_selector object at 0x000002F29E8676A0&gt;)])</pre></div></div></div><div class=\"sk-parallel\"><div class=\"sk-parallel-item\"><div class=\"sk-item\"><div class=\"sk-label-container\"><div class=\"sk-label sk-toggleable\"><input class=\"sk-toggleable__control sk-hidden--visually\" id=\"sk-estimator-id-10\" type=\"checkbox\" ><label for=\"sk-estimator-id-10\" class=\"sk-toggleable__label sk-toggleable__label-arrow\">num</label><div class=\"sk-toggleable__content\"><pre>&lt;sklearn.compose._column_transformer.make_column_selector object at 0x000002F29E8676A0&gt;</pre></div></div></div><div class=\"sk-serial\"><div class=\"sk-item\"><div class=\"sk-serial\"><div class=\"sk-item\"><div class=\"sk-estimator sk-toggleable\"><input class=\"sk-toggleable__control sk-hidden--visually\" id=\"sk-estimator-id-11\" type=\"checkbox\" ><label for=\"sk-estimator-id-11\" class=\"sk-toggleable__label sk-toggleable__label-arrow\">input_outlier</label><div class=\"sk-toggleable__content\"><pre>input_outlier()</pre></div></div></div><div class=\"sk-item\"><div class=\"sk-estimator sk-toggleable\"><input class=\"sk-toggleable__control sk-hidden--visually\" id=\"sk-estimator-id-12\" type=\"checkbox\" ><label for=\"sk-estimator-id-12\" class=\"sk-toggleable__label sk-toggleable__label-arrow\">SimpleImputer</label><div class=\"sk-toggleable__content\"><pre>SimpleImputer(strategy=&#x27;median&#x27;)</pre></div></div></div><div class=\"sk-item\"><div class=\"sk-estimator sk-toggleable\"><input class=\"sk-toggleable__control sk-hidden--visually\" id=\"sk-estimator-id-13\" type=\"checkbox\" ><label for=\"sk-estimator-id-13\" class=\"sk-toggleable__label sk-toggleable__label-arrow\">FunctionTransformer</label><div class=\"sk-toggleable__content\"><pre>FunctionTransformer(feature_names_out=&#x27;one-to-one&#x27;, func=&lt;ufunc &#x27;log&#x27;&gt;,\n",
       "                    inverse_func=&lt;ufunc &#x27;exp&#x27;&gt;)</pre></div></div></div><div class=\"sk-item\"><div class=\"sk-estimator sk-toggleable\"><input class=\"sk-toggleable__control sk-hidden--visually\" id=\"sk-estimator-id-14\" type=\"checkbox\" ><label for=\"sk-estimator-id-14\" class=\"sk-toggleable__label sk-toggleable__label-arrow\">StandardScaler</label><div class=\"sk-toggleable__content\"><pre>StandardScaler()</pre></div></div></div></div></div></div></div></div></div></div><div class=\"sk-item\"><div class=\"sk-estimator sk-toggleable\"><input class=\"sk-toggleable__control sk-hidden--visually\" id=\"sk-estimator-id-15\" type=\"checkbox\" ><label for=\"sk-estimator-id-15\" class=\"sk-toggleable__label sk-toggleable__label-arrow\">PolynomialFeatures</label><div class=\"sk-toggleable__content\"><pre>PolynomialFeatures()</pre></div></div></div><div class=\"sk-item\"><div class=\"sk-estimator sk-toggleable\"><input class=\"sk-toggleable__control sk-hidden--visually\" id=\"sk-estimator-id-16\" type=\"checkbox\" ><label for=\"sk-estimator-id-16\" class=\"sk-toggleable__label sk-toggleable__label-arrow\">RandomForestRegressor</label><div class=\"sk-toggleable__content\"><pre>RandomForestRegressor()</pre></div></div></div></div></div></div></div></div></div></div></div></div>"
      ],
      "text/plain": [
       "GridSearchCV(cv=3,\n",
       "             estimator=Pipeline(steps=[('cleaning',\n",
       "                                        ColumnTransformer(transformers=[('num',\n",
       "                                                                         Pipeline(steps=[('input_outlier',\n",
       "                                                                                          input_outlier()),\n",
       "                                                                                         ('simpleimputer',\n",
       "                                                                                          SimpleImputer(strategy='median')),\n",
       "                                                                                         ('functiontransformer',\n",
       "                                                                                          FunctionTransformer(feature_names_out='one-to-one',\n",
       "                                                                                                              func=<ufunc 'log'>,\n",
       "                                                                                                              inverse_func=<ufunc 'exp'>)),\n",
       "                                                                                         ('standardscaler',\n",
       "                                                                                          StandardScaler()...\n",
       "                                       ('poly_feat', PolynomialFeatures()),\n",
       "                                       ('forest', RandomForestRegressor())]),\n",
       "             n_jobs=-1,\n",
       "             param_grid=[{'forest__criterion': ['friedman_mse'],\n",
       "                          'forest__max_depth': [25, 30, 35],\n",
       "                          'forest__max_features': [7, 9, 10],\n",
       "                          'forest__min_samples_split': [2, 3],\n",
       "                          'forest__n_estimators': [100, 150, 200],\n",
       "                          'forest__n_jobs': [-1]}],\n",
       "             scoring=make_scorer(mean_squared_error, squared=False), verbose=2)"
      ]
     },
     "execution_count": 37,
     "metadata": {},
     "output_type": "execute_result"
    }
   ],
   "source": [
    "forest_grid_search.fit(X_train, y_train)"
   ]
  },
  {
   "cell_type": "code",
   "execution_count": 26,
   "id": "13c3db1e",
   "metadata": {},
   "outputs": [
    {
     "data": {
      "text/html": [
       "<div>\n",
       "<style scoped>\n",
       "    .dataframe tbody tr th:only-of-type {\n",
       "        vertical-align: middle;\n",
       "    }\n",
       "\n",
       "    .dataframe tbody tr th {\n",
       "        vertical-align: top;\n",
       "    }\n",
       "\n",
       "    .dataframe thead th {\n",
       "        text-align: right;\n",
       "    }\n",
       "</style>\n",
       "<table border=\"1\" class=\"dataframe\">\n",
       "  <thead>\n",
       "    <tr style=\"text-align: right;\">\n",
       "      <th></th>\n",
       "      <th>mean_fit_time</th>\n",
       "      <th>std_fit_time</th>\n",
       "      <th>mean_score_time</th>\n",
       "      <th>std_score_time</th>\n",
       "      <th>param_forest__bootstrap</th>\n",
       "      <th>param_forest__ccp_alpha</th>\n",
       "      <th>param_forest__criterion</th>\n",
       "      <th>param_forest__max_depth</th>\n",
       "      <th>param_forest__max_features</th>\n",
       "      <th>param_forest__min_samples_split</th>\n",
       "      <th>param_forest__n_estimators</th>\n",
       "      <th>param_forest__n_jobs</th>\n",
       "      <th>params</th>\n",
       "      <th>split0_test_score</th>\n",
       "      <th>split1_test_score</th>\n",
       "      <th>split2_test_score</th>\n",
       "      <th>mean_test_score</th>\n",
       "      <th>std_test_score</th>\n",
       "      <th>rank_test_score</th>\n",
       "    </tr>\n",
       "  </thead>\n",
       "  <tbody>\n",
       "    <tr>\n",
       "      <th>7</th>\n",
       "      <td>4.760197</td>\n",
       "      <td>0.203449</td>\n",
       "      <td>0.937458</td>\n",
       "      <td>0.43878</td>\n",
       "      <td>False</td>\n",
       "      <td>0</td>\n",
       "      <td>friedman_mse</td>\n",
       "      <td>25</td>\n",
       "      <td>9</td>\n",
       "      <td>2</td>\n",
       "      <td>150</td>\n",
       "      <td>-1</td>\n",
       "      <td>{'forest__bootstrap': False, 'forest__ccp_alph...</td>\n",
       "      <td>7.231413</td>\n",
       "      <td>6.856122</td>\n",
       "      <td>7.147053</td>\n",
       "      <td>7.078196</td>\n",
       "      <td>0.160763</td>\n",
       "      <td>36</td>\n",
       "    </tr>\n",
       "  </tbody>\n",
       "</table>\n",
       "</div>"
      ],
      "text/plain": [
       "   mean_fit_time  std_fit_time  mean_score_time  std_score_time  \\\n",
       "7       4.760197      0.203449         0.937458         0.43878   \n",
       "\n",
       "  param_forest__bootstrap param_forest__ccp_alpha param_forest__criterion  \\\n",
       "7                   False                       0            friedman_mse   \n",
       "\n",
       "  param_forest__max_depth param_forest__max_features  \\\n",
       "7                      25                          9   \n",
       "\n",
       "  param_forest__min_samples_split param_forest__n_estimators  \\\n",
       "7                               2                        150   \n",
       "\n",
       "  param_forest__n_jobs                                             params  \\\n",
       "7                   -1  {'forest__bootstrap': False, 'forest__ccp_alph...   \n",
       "\n",
       "   split0_test_score  split1_test_score  split2_test_score  mean_test_score  \\\n",
       "7           7.231413           6.856122           7.147053         7.078196   \n",
       "\n",
       "   std_test_score  rank_test_score  \n",
       "7        0.160763               36  "
      ]
     },
     "execution_count": 26,
     "metadata": {},
     "output_type": "execute_result"
    }
   ],
   "source": [
    "pd.DataFrame(forest_grid_search.cv_results_).sort_values(by=\"mean_test_score\", ascending=True).head(1)"
   ]
  },
  {
   "cell_type": "markdown",
   "id": "33b7f455",
   "metadata": {},
   "source": [
    "### Final Random Forest Model"
   ]
  },
  {
   "cell_type": "code",
   "execution_count": 15,
   "id": "aa505a55",
   "metadata": {},
   "outputs": [
    {
     "data": {
      "text/plain": [
       "6.431861916492119"
      ]
     },
     "execution_count": 15,
     "metadata": {},
     "output_type": "execute_result"
    }
   ],
   "source": [
    "final_rand_frst = Pipeline([(\"cleaning\", cleaning), \n",
    "                                            (\"poly_feat\", PolynomialFeatures(degree=2)), \n",
    "                                            (\"forest\", RandomForestRegressor(ccp_alpha=0, criterion='friedman_mse', \n",
    "                                                                             max_features=9, max_depth=25, \n",
    "                                                                             min_samples_split=2, \n",
    "                                                                             n_estimators=150, \n",
    "                                                                             n_jobs=-1, \n",
    "                                                                             bootstrap=False))])\n",
    "\n",
    "final_rand_frst_cv = cross_val_score(final_rand_frst, X=X_train, y=y_train, cv=5, scoring=mse_scorer)\n",
    "final_rand_frst_cv.mean()"
   ]
  },
  {
   "cell_type": "code",
   "execution_count": 16,
   "id": "c6df1642",
   "metadata": {},
   "outputs": [
    {
     "data": {
      "text/html": [
       "<style>#sk-container-id-2 {color: black;background-color: white;}#sk-container-id-2 pre{padding: 0;}#sk-container-id-2 div.sk-toggleable {background-color: white;}#sk-container-id-2 label.sk-toggleable__label {cursor: pointer;display: block;width: 100%;margin-bottom: 0;padding: 0.3em;box-sizing: border-box;text-align: center;}#sk-container-id-2 label.sk-toggleable__label-arrow:before {content: \"▸\";float: left;margin-right: 0.25em;color: #696969;}#sk-container-id-2 label.sk-toggleable__label-arrow:hover:before {color: black;}#sk-container-id-2 div.sk-estimator:hover label.sk-toggleable__label-arrow:before {color: black;}#sk-container-id-2 div.sk-toggleable__content {max-height: 0;max-width: 0;overflow: hidden;text-align: left;background-color: #f0f8ff;}#sk-container-id-2 div.sk-toggleable__content pre {margin: 0.2em;color: black;border-radius: 0.25em;background-color: #f0f8ff;}#sk-container-id-2 input.sk-toggleable__control:checked~div.sk-toggleable__content {max-height: 200px;max-width: 100%;overflow: auto;}#sk-container-id-2 input.sk-toggleable__control:checked~label.sk-toggleable__label-arrow:before {content: \"▾\";}#sk-container-id-2 div.sk-estimator input.sk-toggleable__control:checked~label.sk-toggleable__label {background-color: #d4ebff;}#sk-container-id-2 div.sk-label input.sk-toggleable__control:checked~label.sk-toggleable__label {background-color: #d4ebff;}#sk-container-id-2 input.sk-hidden--visually {border: 0;clip: rect(1px 1px 1px 1px);clip: rect(1px, 1px, 1px, 1px);height: 1px;margin: -1px;overflow: hidden;padding: 0;position: absolute;width: 1px;}#sk-container-id-2 div.sk-estimator {font-family: monospace;background-color: #f0f8ff;border: 1px dotted black;border-radius: 0.25em;box-sizing: border-box;margin-bottom: 0.5em;}#sk-container-id-2 div.sk-estimator:hover {background-color: #d4ebff;}#sk-container-id-2 div.sk-parallel-item::after {content: \"\";width: 100%;border-bottom: 1px solid gray;flex-grow: 1;}#sk-container-id-2 div.sk-label:hover label.sk-toggleable__label {background-color: #d4ebff;}#sk-container-id-2 div.sk-serial::before {content: \"\";position: absolute;border-left: 1px solid gray;box-sizing: border-box;top: 0;bottom: 0;left: 50%;z-index: 0;}#sk-container-id-2 div.sk-serial {display: flex;flex-direction: column;align-items: center;background-color: white;padding-right: 0.2em;padding-left: 0.2em;position: relative;}#sk-container-id-2 div.sk-item {position: relative;z-index: 1;}#sk-container-id-2 div.sk-parallel {display: flex;align-items: stretch;justify-content: center;background-color: white;position: relative;}#sk-container-id-2 div.sk-item::before, #sk-container-id-2 div.sk-parallel-item::before {content: \"\";position: absolute;border-left: 1px solid gray;box-sizing: border-box;top: 0;bottom: 0;left: 50%;z-index: -1;}#sk-container-id-2 div.sk-parallel-item {display: flex;flex-direction: column;z-index: 1;position: relative;background-color: white;}#sk-container-id-2 div.sk-parallel-item:first-child::after {align-self: flex-end;width: 50%;}#sk-container-id-2 div.sk-parallel-item:last-child::after {align-self: flex-start;width: 50%;}#sk-container-id-2 div.sk-parallel-item:only-child::after {width: 0;}#sk-container-id-2 div.sk-dashed-wrapped {border: 1px dashed gray;margin: 0 0.4em 0.5em 0.4em;box-sizing: border-box;padding-bottom: 0.4em;background-color: white;}#sk-container-id-2 div.sk-label label {font-family: monospace;font-weight: bold;display: inline-block;line-height: 1.2em;}#sk-container-id-2 div.sk-label-container {text-align: center;}#sk-container-id-2 div.sk-container {/* jupyter's `normalize.less` sets `[hidden] { display: none; }` but bootstrap.min.css set `[hidden] { display: none !important; }` so we also need the `!important` here to be able to override the default hidden behavior on the sphinx rendered scikit-learn.org. See: https://github.com/scikit-learn/scikit-learn/issues/21755 */display: inline-block !important;position: relative;}#sk-container-id-2 div.sk-text-repr-fallback {display: none;}</style><div id=\"sk-container-id-2\" class=\"sk-top-container\"><div class=\"sk-text-repr-fallback\"><pre>Pipeline(steps=[(&#x27;cleaning&#x27;,\n",
       "                 ColumnTransformer(transformers=[(&#x27;num&#x27;,\n",
       "                                                  Pipeline(steps=[(&#x27;input_outlier&#x27;,\n",
       "                                                                   input_outlier()),\n",
       "                                                                  (&#x27;simpleimputer&#x27;,\n",
       "                                                                   SimpleImputer(strategy=&#x27;median&#x27;)),\n",
       "                                                                  (&#x27;functiontransformer&#x27;,\n",
       "                                                                   FunctionTransformer(feature_names_out=&#x27;one-to-one&#x27;,\n",
       "                                                                                       func=&lt;ufunc &#x27;log&#x27;&gt;,\n",
       "                                                                                       inverse_func=&lt;ufunc &#x27;exp&#x27;&gt;)),\n",
       "                                                                  (&#x27;standardscaler&#x27;,\n",
       "                                                                   StandardScaler())]),\n",
       "                                                  &lt;sklearn.compose._column_transformer.make_column_selector object at 0x00000226A5841060&gt;)])),\n",
       "                (&#x27;poly_feat&#x27;, PolynomialFeatures()),\n",
       "                (&#x27;forest&#x27;,\n",
       "                 RandomForestRegressor(bootstrap=False, ccp_alpha=0,\n",
       "                                       criterion=&#x27;friedman_mse&#x27;, max_depth=25,\n",
       "                                       max_features=9, n_estimators=150,\n",
       "                                       n_jobs=-1))])</pre><b>In a Jupyter environment, please rerun this cell to show the HTML representation or trust the notebook. <br />On GitHub, the HTML representation is unable to render, please try loading this page with nbviewer.org.</b></div><div class=\"sk-container\" hidden><div class=\"sk-item sk-dashed-wrapped\"><div class=\"sk-label-container\"><div class=\"sk-label sk-toggleable\"><input class=\"sk-toggleable__control sk-hidden--visually\" id=\"sk-estimator-id-7\" type=\"checkbox\" ><label for=\"sk-estimator-id-7\" class=\"sk-toggleable__label sk-toggleable__label-arrow\">Pipeline</label><div class=\"sk-toggleable__content\"><pre>Pipeline(steps=[(&#x27;cleaning&#x27;,\n",
       "                 ColumnTransformer(transformers=[(&#x27;num&#x27;,\n",
       "                                                  Pipeline(steps=[(&#x27;input_outlier&#x27;,\n",
       "                                                                   input_outlier()),\n",
       "                                                                  (&#x27;simpleimputer&#x27;,\n",
       "                                                                   SimpleImputer(strategy=&#x27;median&#x27;)),\n",
       "                                                                  (&#x27;functiontransformer&#x27;,\n",
       "                                                                   FunctionTransformer(feature_names_out=&#x27;one-to-one&#x27;,\n",
       "                                                                                       func=&lt;ufunc &#x27;log&#x27;&gt;,\n",
       "                                                                                       inverse_func=&lt;ufunc &#x27;exp&#x27;&gt;)),\n",
       "                                                                  (&#x27;standardscaler&#x27;,\n",
       "                                                                   StandardScaler())]),\n",
       "                                                  &lt;sklearn.compose._column_transformer.make_column_selector object at 0x00000226A5841060&gt;)])),\n",
       "                (&#x27;poly_feat&#x27;, PolynomialFeatures()),\n",
       "                (&#x27;forest&#x27;,\n",
       "                 RandomForestRegressor(bootstrap=False, ccp_alpha=0,\n",
       "                                       criterion=&#x27;friedman_mse&#x27;, max_depth=25,\n",
       "                                       max_features=9, n_estimators=150,\n",
       "                                       n_jobs=-1))])</pre></div></div></div><div class=\"sk-serial\"><div class=\"sk-item sk-dashed-wrapped\"><div class=\"sk-label-container\"><div class=\"sk-label sk-toggleable\"><input class=\"sk-toggleable__control sk-hidden--visually\" id=\"sk-estimator-id-8\" type=\"checkbox\" ><label for=\"sk-estimator-id-8\" class=\"sk-toggleable__label sk-toggleable__label-arrow\">cleaning: ColumnTransformer</label><div class=\"sk-toggleable__content\"><pre>ColumnTransformer(transformers=[(&#x27;num&#x27;,\n",
       "                                 Pipeline(steps=[(&#x27;input_outlier&#x27;,\n",
       "                                                  input_outlier()),\n",
       "                                                 (&#x27;simpleimputer&#x27;,\n",
       "                                                  SimpleImputer(strategy=&#x27;median&#x27;)),\n",
       "                                                 (&#x27;functiontransformer&#x27;,\n",
       "                                                  FunctionTransformer(feature_names_out=&#x27;one-to-one&#x27;,\n",
       "                                                                      func=&lt;ufunc &#x27;log&#x27;&gt;,\n",
       "                                                                      inverse_func=&lt;ufunc &#x27;exp&#x27;&gt;)),\n",
       "                                                 (&#x27;standardscaler&#x27;,\n",
       "                                                  StandardScaler())]),\n",
       "                                 &lt;sklearn.compose._column_transformer.make_column_selector object at 0x00000226A5841060&gt;)])</pre></div></div></div><div class=\"sk-parallel\"><div class=\"sk-parallel-item\"><div class=\"sk-item\"><div class=\"sk-label-container\"><div class=\"sk-label sk-toggleable\"><input class=\"sk-toggleable__control sk-hidden--visually\" id=\"sk-estimator-id-9\" type=\"checkbox\" ><label for=\"sk-estimator-id-9\" class=\"sk-toggleable__label sk-toggleable__label-arrow\">num</label><div class=\"sk-toggleable__content\"><pre>&lt;sklearn.compose._column_transformer.make_column_selector object at 0x00000226A5841060&gt;</pre></div></div></div><div class=\"sk-serial\"><div class=\"sk-item\"><div class=\"sk-serial\"><div class=\"sk-item\"><div class=\"sk-estimator sk-toggleable\"><input class=\"sk-toggleable__control sk-hidden--visually\" id=\"sk-estimator-id-10\" type=\"checkbox\" ><label for=\"sk-estimator-id-10\" class=\"sk-toggleable__label sk-toggleable__label-arrow\">input_outlier</label><div class=\"sk-toggleable__content\"><pre>input_outlier()</pre></div></div></div><div class=\"sk-item\"><div class=\"sk-estimator sk-toggleable\"><input class=\"sk-toggleable__control sk-hidden--visually\" id=\"sk-estimator-id-11\" type=\"checkbox\" ><label for=\"sk-estimator-id-11\" class=\"sk-toggleable__label sk-toggleable__label-arrow\">SimpleImputer</label><div class=\"sk-toggleable__content\"><pre>SimpleImputer(strategy=&#x27;median&#x27;)</pre></div></div></div><div class=\"sk-item\"><div class=\"sk-estimator sk-toggleable\"><input class=\"sk-toggleable__control sk-hidden--visually\" id=\"sk-estimator-id-12\" type=\"checkbox\" ><label for=\"sk-estimator-id-12\" class=\"sk-toggleable__label sk-toggleable__label-arrow\">FunctionTransformer</label><div class=\"sk-toggleable__content\"><pre>FunctionTransformer(feature_names_out=&#x27;one-to-one&#x27;, func=&lt;ufunc &#x27;log&#x27;&gt;,\n",
       "                    inverse_func=&lt;ufunc &#x27;exp&#x27;&gt;)</pre></div></div></div><div class=\"sk-item\"><div class=\"sk-estimator sk-toggleable\"><input class=\"sk-toggleable__control sk-hidden--visually\" id=\"sk-estimator-id-13\" type=\"checkbox\" ><label for=\"sk-estimator-id-13\" class=\"sk-toggleable__label sk-toggleable__label-arrow\">StandardScaler</label><div class=\"sk-toggleable__content\"><pre>StandardScaler()</pre></div></div></div></div></div></div></div></div></div></div><div class=\"sk-item\"><div class=\"sk-estimator sk-toggleable\"><input class=\"sk-toggleable__control sk-hidden--visually\" id=\"sk-estimator-id-14\" type=\"checkbox\" ><label for=\"sk-estimator-id-14\" class=\"sk-toggleable__label sk-toggleable__label-arrow\">PolynomialFeatures</label><div class=\"sk-toggleable__content\"><pre>PolynomialFeatures()</pre></div></div></div><div class=\"sk-item\"><div class=\"sk-estimator sk-toggleable\"><input class=\"sk-toggleable__control sk-hidden--visually\" id=\"sk-estimator-id-15\" type=\"checkbox\" ><label for=\"sk-estimator-id-15\" class=\"sk-toggleable__label sk-toggleable__label-arrow\">RandomForestRegressor</label><div class=\"sk-toggleable__content\"><pre>RandomForestRegressor(bootstrap=False, ccp_alpha=0, criterion=&#x27;friedman_mse&#x27;,\n",
       "                      max_depth=25, max_features=9, n_estimators=150,\n",
       "                      n_jobs=-1)</pre></div></div></div></div></div></div></div>"
      ],
      "text/plain": [
       "Pipeline(steps=[('cleaning',\n",
       "                 ColumnTransformer(transformers=[('num',\n",
       "                                                  Pipeline(steps=[('input_outlier',\n",
       "                                                                   input_outlier()),\n",
       "                                                                  ('simpleimputer',\n",
       "                                                                   SimpleImputer(strategy='median')),\n",
       "                                                                  ('functiontransformer',\n",
       "                                                                   FunctionTransformer(feature_names_out='one-to-one',\n",
       "                                                                                       func=<ufunc 'log'>,\n",
       "                                                                                       inverse_func=<ufunc 'exp'>)),\n",
       "                                                                  ('standardscaler',\n",
       "                                                                   StandardScaler())]),\n",
       "                                                  <sklearn.compose._column_transformer.make_column_selector object at 0x00000226A5841060>)])),\n",
       "                ('poly_feat', PolynomialFeatures()),\n",
       "                ('forest',\n",
       "                 RandomForestRegressor(bootstrap=False, ccp_alpha=0,\n",
       "                                       criterion='friedman_mse', max_depth=25,\n",
       "                                       max_features=9, n_estimators=150,\n",
       "                                       n_jobs=-1))])"
      ]
     },
     "execution_count": 16,
     "metadata": {},
     "output_type": "execute_result"
    }
   ],
   "source": [
    "# fitting the final random forest model\n",
    "final_rand_frst.fit(X_train, y_train)"
   ]
  },
  {
   "cell_type": "code",
   "execution_count": 18,
   "id": "eb4bcd65",
   "metadata": {},
   "outputs": [
    {
     "data": {
      "text/plain": [
       "5.84519396327744"
      ]
     },
     "execution_count": 18,
     "metadata": {},
     "output_type": "execute_result"
    }
   ],
   "source": [
    "mean_squared_error(y_test, final_rand_frst.predict(X_test), squared=False)"
   ]
  },
  {
   "cell_type": "code",
   "execution_count": 49,
   "id": "f12aa98a",
   "metadata": {},
   "outputs": [
    {
     "data": {
      "text/plain": [
       "['trained_models/fish_RandomForest.plk']"
      ]
     },
     "execution_count": 49,
     "metadata": {},
     "output_type": "execute_result"
    }
   ],
   "source": [
    "# Saving fine-runed random forest model\n",
    "joblib.dump(final_rand_frst, \"trained_models/fish_RandomForest.plk\")"
   ]
  },
  {
   "cell_type": "markdown",
   "id": "9b815b66",
   "metadata": {},
   "source": [
    "# SVM"
   ]
  },
  {
   "cell_type": "code",
   "execution_count": 19,
   "id": "42615651",
   "metadata": {},
   "outputs": [],
   "source": [
    "svm_reg = Pipeline([\n",
    "    (\"cleaning\", cleaning),\n",
    "    (\"svm\", SVR())\n",
    "])"
   ]
  },
  {
   "cell_type": "code",
   "execution_count": 51,
   "id": "5062cc1b",
   "metadata": {},
   "outputs": [
    {
     "data": {
      "text/plain": [
       "23.846614841729835"
      ]
     },
     "execution_count": 51,
     "metadata": {},
     "output_type": "execute_result"
    }
   ],
   "source": [
    "cross_score = cross_val_score(svm_reg, X=X_train, y=y_train, cv=5, scoring=mse_scorer)\n",
    "cross_score.mean()"
   ]
  },
  {
   "cell_type": "markdown",
   "id": "e1cee699",
   "metadata": {},
   "source": [
    "### SVM Grid Search"
   ]
  },
  {
   "cell_type": "code",
   "execution_count": 36,
   "id": "e6b2f688",
   "metadata": {},
   "outputs": [],
   "source": [
    "params = [{\n",
    "    \"svm__kernel\":[\"rbf\"],\n",
    "    \"svm__gamma\":[2, 3],\n",
    "    \"svm__C\":[800, 900],\n",
    "    \"svm__epsilon\":[1,2]\n",
    "}]\n",
    "\n",
    "svm_grid_search = GridSearchCV(svm_reg, param_grid=params, cv=3, n_jobs=-1, verbose=2, scoring=mse_scorer)"
   ]
  },
  {
   "cell_type": "code",
   "execution_count": 37,
   "id": "cb5138e7",
   "metadata": {},
   "outputs": [
    {
     "name": "stdout",
     "output_type": "stream",
     "text": [
      "Fitting 3 folds for each of 8 candidates, totalling 24 fits\n"
     ]
    },
    {
     "data": {
      "text/html": [
       "<style>#sk-container-id-6 {color: black;background-color: white;}#sk-container-id-6 pre{padding: 0;}#sk-container-id-6 div.sk-toggleable {background-color: white;}#sk-container-id-6 label.sk-toggleable__label {cursor: pointer;display: block;width: 100%;margin-bottom: 0;padding: 0.3em;box-sizing: border-box;text-align: center;}#sk-container-id-6 label.sk-toggleable__label-arrow:before {content: \"▸\";float: left;margin-right: 0.25em;color: #696969;}#sk-container-id-6 label.sk-toggleable__label-arrow:hover:before {color: black;}#sk-container-id-6 div.sk-estimator:hover label.sk-toggleable__label-arrow:before {color: black;}#sk-container-id-6 div.sk-toggleable__content {max-height: 0;max-width: 0;overflow: hidden;text-align: left;background-color: #f0f8ff;}#sk-container-id-6 div.sk-toggleable__content pre {margin: 0.2em;color: black;border-radius: 0.25em;background-color: #f0f8ff;}#sk-container-id-6 input.sk-toggleable__control:checked~div.sk-toggleable__content {max-height: 200px;max-width: 100%;overflow: auto;}#sk-container-id-6 input.sk-toggleable__control:checked~label.sk-toggleable__label-arrow:before {content: \"▾\";}#sk-container-id-6 div.sk-estimator input.sk-toggleable__control:checked~label.sk-toggleable__label {background-color: #d4ebff;}#sk-container-id-6 div.sk-label input.sk-toggleable__control:checked~label.sk-toggleable__label {background-color: #d4ebff;}#sk-container-id-6 input.sk-hidden--visually {border: 0;clip: rect(1px 1px 1px 1px);clip: rect(1px, 1px, 1px, 1px);height: 1px;margin: -1px;overflow: hidden;padding: 0;position: absolute;width: 1px;}#sk-container-id-6 div.sk-estimator {font-family: monospace;background-color: #f0f8ff;border: 1px dotted black;border-radius: 0.25em;box-sizing: border-box;margin-bottom: 0.5em;}#sk-container-id-6 div.sk-estimator:hover {background-color: #d4ebff;}#sk-container-id-6 div.sk-parallel-item::after {content: \"\";width: 100%;border-bottom: 1px solid gray;flex-grow: 1;}#sk-container-id-6 div.sk-label:hover label.sk-toggleable__label {background-color: #d4ebff;}#sk-container-id-6 div.sk-serial::before {content: \"\";position: absolute;border-left: 1px solid gray;box-sizing: border-box;top: 0;bottom: 0;left: 50%;z-index: 0;}#sk-container-id-6 div.sk-serial {display: flex;flex-direction: column;align-items: center;background-color: white;padding-right: 0.2em;padding-left: 0.2em;position: relative;}#sk-container-id-6 div.sk-item {position: relative;z-index: 1;}#sk-container-id-6 div.sk-parallel {display: flex;align-items: stretch;justify-content: center;background-color: white;position: relative;}#sk-container-id-6 div.sk-item::before, #sk-container-id-6 div.sk-parallel-item::before {content: \"\";position: absolute;border-left: 1px solid gray;box-sizing: border-box;top: 0;bottom: 0;left: 50%;z-index: -1;}#sk-container-id-6 div.sk-parallel-item {display: flex;flex-direction: column;z-index: 1;position: relative;background-color: white;}#sk-container-id-6 div.sk-parallel-item:first-child::after {align-self: flex-end;width: 50%;}#sk-container-id-6 div.sk-parallel-item:last-child::after {align-self: flex-start;width: 50%;}#sk-container-id-6 div.sk-parallel-item:only-child::after {width: 0;}#sk-container-id-6 div.sk-dashed-wrapped {border: 1px dashed gray;margin: 0 0.4em 0.5em 0.4em;box-sizing: border-box;padding-bottom: 0.4em;background-color: white;}#sk-container-id-6 div.sk-label label {font-family: monospace;font-weight: bold;display: inline-block;line-height: 1.2em;}#sk-container-id-6 div.sk-label-container {text-align: center;}#sk-container-id-6 div.sk-container {/* jupyter's `normalize.less` sets `[hidden] { display: none; }` but bootstrap.min.css set `[hidden] { display: none !important; }` so we also need the `!important` here to be able to override the default hidden behavior on the sphinx rendered scikit-learn.org. See: https://github.com/scikit-learn/scikit-learn/issues/21755 */display: inline-block !important;position: relative;}#sk-container-id-6 div.sk-text-repr-fallback {display: none;}</style><div id=\"sk-container-id-6\" class=\"sk-top-container\"><div class=\"sk-text-repr-fallback\"><pre>GridSearchCV(cv=3,\n",
       "             estimator=Pipeline(steps=[(&#x27;cleaning&#x27;,\n",
       "                                        ColumnTransformer(transformers=[(&#x27;num&#x27;,\n",
       "                                                                         Pipeline(steps=[(&#x27;input_outlier&#x27;,\n",
       "                                                                                          input_outlier()),\n",
       "                                                                                         (&#x27;simpleimputer&#x27;,\n",
       "                                                                                          SimpleImputer(strategy=&#x27;median&#x27;)),\n",
       "                                                                                         (&#x27;functiontransformer&#x27;,\n",
       "                                                                                          FunctionTransformer(feature_names_out=&#x27;one-to-one&#x27;,\n",
       "                                                                                                              func=&lt;ufunc &#x27;log&#x27;&gt;,\n",
       "                                                                                                              inverse_func=&lt;ufunc &#x27;exp&#x27;&gt;)),\n",
       "                                                                                         (&#x27;standardscaler&#x27;,\n",
       "                                                                                          StandardScaler())]),\n",
       "                                                                         &lt;sklearn.compose._column_transformer.make_column_selector object at 0x0000015E531480A0&gt;)])),\n",
       "                                       (&#x27;svm&#x27;, SVR())]),\n",
       "             n_jobs=-1,\n",
       "             param_grid=[{&#x27;svm__C&#x27;: [800, 900], &#x27;svm__epsilon&#x27;: [1, 2],\n",
       "                          &#x27;svm__gamma&#x27;: [2, 3], &#x27;svm__kernel&#x27;: [&#x27;rbf&#x27;]}],\n",
       "             scoring=make_scorer(mean_squared_error, squared=False), verbose=2)</pre><b>In a Jupyter environment, please rerun this cell to show the HTML representation or trust the notebook. <br />On GitHub, the HTML representation is unable to render, please try loading this page with nbviewer.org.</b></div><div class=\"sk-container\" hidden><div class=\"sk-item sk-dashed-wrapped\"><div class=\"sk-label-container\"><div class=\"sk-label sk-toggleable\"><input class=\"sk-toggleable__control sk-hidden--visually\" id=\"sk-estimator-id-46\" type=\"checkbox\" ><label for=\"sk-estimator-id-46\" class=\"sk-toggleable__label sk-toggleable__label-arrow\">GridSearchCV</label><div class=\"sk-toggleable__content\"><pre>GridSearchCV(cv=3,\n",
       "             estimator=Pipeline(steps=[(&#x27;cleaning&#x27;,\n",
       "                                        ColumnTransformer(transformers=[(&#x27;num&#x27;,\n",
       "                                                                         Pipeline(steps=[(&#x27;input_outlier&#x27;,\n",
       "                                                                                          input_outlier()),\n",
       "                                                                                         (&#x27;simpleimputer&#x27;,\n",
       "                                                                                          SimpleImputer(strategy=&#x27;median&#x27;)),\n",
       "                                                                                         (&#x27;functiontransformer&#x27;,\n",
       "                                                                                          FunctionTransformer(feature_names_out=&#x27;one-to-one&#x27;,\n",
       "                                                                                                              func=&lt;ufunc &#x27;log&#x27;&gt;,\n",
       "                                                                                                              inverse_func=&lt;ufunc &#x27;exp&#x27;&gt;)),\n",
       "                                                                                         (&#x27;standardscaler&#x27;,\n",
       "                                                                                          StandardScaler())]),\n",
       "                                                                         &lt;sklearn.compose._column_transformer.make_column_selector object at 0x0000015E531480A0&gt;)])),\n",
       "                                       (&#x27;svm&#x27;, SVR())]),\n",
       "             n_jobs=-1,\n",
       "             param_grid=[{&#x27;svm__C&#x27;: [800, 900], &#x27;svm__epsilon&#x27;: [1, 2],\n",
       "                          &#x27;svm__gamma&#x27;: [2, 3], &#x27;svm__kernel&#x27;: [&#x27;rbf&#x27;]}],\n",
       "             scoring=make_scorer(mean_squared_error, squared=False), verbose=2)</pre></div></div></div><div class=\"sk-parallel\"><div class=\"sk-parallel-item\"><div class=\"sk-item\"><div class=\"sk-label-container\"><div class=\"sk-label sk-toggleable\"><input class=\"sk-toggleable__control sk-hidden--visually\" id=\"sk-estimator-id-47\" type=\"checkbox\" ><label for=\"sk-estimator-id-47\" class=\"sk-toggleable__label sk-toggleable__label-arrow\">estimator: Pipeline</label><div class=\"sk-toggleable__content\"><pre>Pipeline(steps=[(&#x27;cleaning&#x27;,\n",
       "                 ColumnTransformer(transformers=[(&#x27;num&#x27;,\n",
       "                                                  Pipeline(steps=[(&#x27;input_outlier&#x27;,\n",
       "                                                                   input_outlier()),\n",
       "                                                                  (&#x27;simpleimputer&#x27;,\n",
       "                                                                   SimpleImputer(strategy=&#x27;median&#x27;)),\n",
       "                                                                  (&#x27;functiontransformer&#x27;,\n",
       "                                                                   FunctionTransformer(feature_names_out=&#x27;one-to-one&#x27;,\n",
       "                                                                                       func=&lt;ufunc &#x27;log&#x27;&gt;,\n",
       "                                                                                       inverse_func=&lt;ufunc &#x27;exp&#x27;&gt;)),\n",
       "                                                                  (&#x27;standardscaler&#x27;,\n",
       "                                                                   StandardScaler())]),\n",
       "                                                  &lt;sklearn.compose._column_transformer.make_column_selector object at 0x0000015E531480A0&gt;)])),\n",
       "                (&#x27;svm&#x27;, SVR())])</pre></div></div></div><div class=\"sk-serial\"><div class=\"sk-item\"><div class=\"sk-serial\"><div class=\"sk-item sk-dashed-wrapped\"><div class=\"sk-label-container\"><div class=\"sk-label sk-toggleable\"><input class=\"sk-toggleable__control sk-hidden--visually\" id=\"sk-estimator-id-48\" type=\"checkbox\" ><label for=\"sk-estimator-id-48\" class=\"sk-toggleable__label sk-toggleable__label-arrow\">cleaning: ColumnTransformer</label><div class=\"sk-toggleable__content\"><pre>ColumnTransformer(transformers=[(&#x27;num&#x27;,\n",
       "                                 Pipeline(steps=[(&#x27;input_outlier&#x27;,\n",
       "                                                  input_outlier()),\n",
       "                                                 (&#x27;simpleimputer&#x27;,\n",
       "                                                  SimpleImputer(strategy=&#x27;median&#x27;)),\n",
       "                                                 (&#x27;functiontransformer&#x27;,\n",
       "                                                  FunctionTransformer(feature_names_out=&#x27;one-to-one&#x27;,\n",
       "                                                                      func=&lt;ufunc &#x27;log&#x27;&gt;,\n",
       "                                                                      inverse_func=&lt;ufunc &#x27;exp&#x27;&gt;)),\n",
       "                                                 (&#x27;standardscaler&#x27;,\n",
       "                                                  StandardScaler())]),\n",
       "                                 &lt;sklearn.compose._column_transformer.make_column_selector object at 0x0000015E531480A0&gt;)])</pre></div></div></div><div class=\"sk-parallel\"><div class=\"sk-parallel-item\"><div class=\"sk-item\"><div class=\"sk-label-container\"><div class=\"sk-label sk-toggleable\"><input class=\"sk-toggleable__control sk-hidden--visually\" id=\"sk-estimator-id-49\" type=\"checkbox\" ><label for=\"sk-estimator-id-49\" class=\"sk-toggleable__label sk-toggleable__label-arrow\">num</label><div class=\"sk-toggleable__content\"><pre>&lt;sklearn.compose._column_transformer.make_column_selector object at 0x0000015E531480A0&gt;</pre></div></div></div><div class=\"sk-serial\"><div class=\"sk-item\"><div class=\"sk-serial\"><div class=\"sk-item\"><div class=\"sk-estimator sk-toggleable\"><input class=\"sk-toggleable__control sk-hidden--visually\" id=\"sk-estimator-id-50\" type=\"checkbox\" ><label for=\"sk-estimator-id-50\" class=\"sk-toggleable__label sk-toggleable__label-arrow\">input_outlier</label><div class=\"sk-toggleable__content\"><pre>input_outlier()</pre></div></div></div><div class=\"sk-item\"><div class=\"sk-estimator sk-toggleable\"><input class=\"sk-toggleable__control sk-hidden--visually\" id=\"sk-estimator-id-51\" type=\"checkbox\" ><label for=\"sk-estimator-id-51\" class=\"sk-toggleable__label sk-toggleable__label-arrow\">SimpleImputer</label><div class=\"sk-toggleable__content\"><pre>SimpleImputer(strategy=&#x27;median&#x27;)</pre></div></div></div><div class=\"sk-item\"><div class=\"sk-estimator sk-toggleable\"><input class=\"sk-toggleable__control sk-hidden--visually\" id=\"sk-estimator-id-52\" type=\"checkbox\" ><label for=\"sk-estimator-id-52\" class=\"sk-toggleable__label sk-toggleable__label-arrow\">FunctionTransformer</label><div class=\"sk-toggleable__content\"><pre>FunctionTransformer(feature_names_out=&#x27;one-to-one&#x27;, func=&lt;ufunc &#x27;log&#x27;&gt;,\n",
       "                    inverse_func=&lt;ufunc &#x27;exp&#x27;&gt;)</pre></div></div></div><div class=\"sk-item\"><div class=\"sk-estimator sk-toggleable\"><input class=\"sk-toggleable__control sk-hidden--visually\" id=\"sk-estimator-id-53\" type=\"checkbox\" ><label for=\"sk-estimator-id-53\" class=\"sk-toggleable__label sk-toggleable__label-arrow\">StandardScaler</label><div class=\"sk-toggleable__content\"><pre>StandardScaler()</pre></div></div></div></div></div></div></div></div></div></div><div class=\"sk-item\"><div class=\"sk-estimator sk-toggleable\"><input class=\"sk-toggleable__control sk-hidden--visually\" id=\"sk-estimator-id-54\" type=\"checkbox\" ><label for=\"sk-estimator-id-54\" class=\"sk-toggleable__label sk-toggleable__label-arrow\">SVR</label><div class=\"sk-toggleable__content\"><pre>SVR()</pre></div></div></div></div></div></div></div></div></div></div></div></div>"
      ],
      "text/plain": [
       "GridSearchCV(cv=3,\n",
       "             estimator=Pipeline(steps=[('cleaning',\n",
       "                                        ColumnTransformer(transformers=[('num',\n",
       "                                                                         Pipeline(steps=[('input_outlier',\n",
       "                                                                                          input_outlier()),\n",
       "                                                                                         ('simpleimputer',\n",
       "                                                                                          SimpleImputer(strategy='median')),\n",
       "                                                                                         ('functiontransformer',\n",
       "                                                                                          FunctionTransformer(feature_names_out='one-to-one',\n",
       "                                                                                                              func=<ufunc 'log'>,\n",
       "                                                                                                              inverse_func=<ufunc 'exp'>)),\n",
       "                                                                                         ('standardscaler',\n",
       "                                                                                          StandardScaler())]),\n",
       "                                                                         <sklearn.compose._column_transformer.make_column_selector object at 0x0000015E531480A0>)])),\n",
       "                                       ('svm', SVR())]),\n",
       "             n_jobs=-1,\n",
       "             param_grid=[{'svm__C': [800, 900], 'svm__epsilon': [1, 2],\n",
       "                          'svm__gamma': [2, 3], 'svm__kernel': ['rbf']}],\n",
       "             scoring=make_scorer(mean_squared_error, squared=False), verbose=2)"
      ]
     },
     "execution_count": 37,
     "metadata": {},
     "output_type": "execute_result"
    }
   ],
   "source": [
    "svm_grid_search.fit(X_train, y_train)"
   ]
  },
  {
   "cell_type": "code",
   "execution_count": 40,
   "id": "830db5f9",
   "metadata": {},
   "outputs": [
    {
     "data": {
      "text/html": [
       "<div>\n",
       "<style scoped>\n",
       "    .dataframe tbody tr th:only-of-type {\n",
       "        vertical-align: middle;\n",
       "    }\n",
       "\n",
       "    .dataframe tbody tr th {\n",
       "        vertical-align: top;\n",
       "    }\n",
       "\n",
       "    .dataframe thead th {\n",
       "        text-align: right;\n",
       "    }\n",
       "</style>\n",
       "<table border=\"1\" class=\"dataframe\">\n",
       "  <thead>\n",
       "    <tr style=\"text-align: right;\">\n",
       "      <th></th>\n",
       "      <th>mean_fit_time</th>\n",
       "      <th>std_fit_time</th>\n",
       "      <th>mean_score_time</th>\n",
       "      <th>std_score_time</th>\n",
       "      <th>param_svm__C</th>\n",
       "      <th>param_svm__epsilon</th>\n",
       "      <th>param_svm__gamma</th>\n",
       "      <th>param_svm__kernel</th>\n",
       "      <th>params</th>\n",
       "      <th>split0_test_score</th>\n",
       "      <th>split1_test_score</th>\n",
       "      <th>split2_test_score</th>\n",
       "      <th>mean_test_score</th>\n",
       "      <th>std_test_score</th>\n",
       "      <th>rank_test_score</th>\n",
       "    </tr>\n",
       "  </thead>\n",
       "  <tbody>\n",
       "    <tr>\n",
       "      <th>0</th>\n",
       "      <td>7.38898</td>\n",
       "      <td>0.754241</td>\n",
       "      <td>0.307278</td>\n",
       "      <td>0.007365</td>\n",
       "      <td>800</td>\n",
       "      <td>1</td>\n",
       "      <td>2</td>\n",
       "      <td>rbf</td>\n",
       "      <td>{'svm__C': 800, 'svm__epsilon': 1, 'svm__gamma...</td>\n",
       "      <td>6.941438</td>\n",
       "      <td>6.159607</td>\n",
       "      <td>5.182666</td>\n",
       "      <td>6.09457</td>\n",
       "      <td>0.719487</td>\n",
       "      <td>8</td>\n",
       "    </tr>\n",
       "  </tbody>\n",
       "</table>\n",
       "</div>"
      ],
      "text/plain": [
       "   mean_fit_time  std_fit_time  mean_score_time  std_score_time param_svm__C  \\\n",
       "0        7.38898      0.754241         0.307278        0.007365          800   \n",
       "\n",
       "  param_svm__epsilon param_svm__gamma param_svm__kernel  \\\n",
       "0                  1                2               rbf   \n",
       "\n",
       "                                              params  split0_test_score  \\\n",
       "0  {'svm__C': 800, 'svm__epsilon': 1, 'svm__gamma...           6.941438   \n",
       "\n",
       "   split1_test_score  split2_test_score  mean_test_score  std_test_score  \\\n",
       "0           6.159607           5.182666          6.09457        0.719487   \n",
       "\n",
       "   rank_test_score  \n",
       "0                8  "
      ]
     },
     "execution_count": 40,
     "metadata": {},
     "output_type": "execute_result"
    }
   ],
   "source": [
    "svm_grid_results = pd.DataFrame(svm_grid_search.cv_results_)\n",
    "svm_grid_results.sort_values(by=\"mean_test_score\", ascending=True).head(1)"
   ]
  },
  {
   "cell_type": "markdown",
   "id": "6d3e9758",
   "metadata": {},
   "source": [
    "## FInal SVM Model"
   ]
  },
  {
   "cell_type": "code",
   "execution_count": 20,
   "id": "3baf04be",
   "metadata": {},
   "outputs": [],
   "source": [
    "final_svm_reg = Pipeline([\n",
    "    (\"cleaning\", cleaning),\n",
    "    (\"svm\", SVR(C=800, epsilon=1, gamma=2, kernel=\"rbf\"))\n",
    "])\n",
    "\n",
    "#final_svm = SVR(C=800, epsilon=1, gamma=2, kernel=\"rbf\")"
   ]
  },
  {
   "cell_type": "code",
   "execution_count": 21,
   "id": "3b54ec55",
   "metadata": {},
   "outputs": [
    {
     "data": {
      "text/plain": [
       "5.0626326415649645"
      ]
     },
     "execution_count": 21,
     "metadata": {},
     "output_type": "execute_result"
    }
   ],
   "source": [
    "final_svm_reg_cv = cross_val_score(final_svm_reg, X=X_train, y=y_train, cv=5, scoring=mse_scorer)\n",
    "final_svm_reg_cv.mean()"
   ]
  },
  {
   "cell_type": "code",
   "execution_count": 22,
   "id": "d6bd4a97",
   "metadata": {},
   "outputs": [
    {
     "data": {
      "text/html": [
       "<style>#sk-container-id-3 {color: black;background-color: white;}#sk-container-id-3 pre{padding: 0;}#sk-container-id-3 div.sk-toggleable {background-color: white;}#sk-container-id-3 label.sk-toggleable__label {cursor: pointer;display: block;width: 100%;margin-bottom: 0;padding: 0.3em;box-sizing: border-box;text-align: center;}#sk-container-id-3 label.sk-toggleable__label-arrow:before {content: \"▸\";float: left;margin-right: 0.25em;color: #696969;}#sk-container-id-3 label.sk-toggleable__label-arrow:hover:before {color: black;}#sk-container-id-3 div.sk-estimator:hover label.sk-toggleable__label-arrow:before {color: black;}#sk-container-id-3 div.sk-toggleable__content {max-height: 0;max-width: 0;overflow: hidden;text-align: left;background-color: #f0f8ff;}#sk-container-id-3 div.sk-toggleable__content pre {margin: 0.2em;color: black;border-radius: 0.25em;background-color: #f0f8ff;}#sk-container-id-3 input.sk-toggleable__control:checked~div.sk-toggleable__content {max-height: 200px;max-width: 100%;overflow: auto;}#sk-container-id-3 input.sk-toggleable__control:checked~label.sk-toggleable__label-arrow:before {content: \"▾\";}#sk-container-id-3 div.sk-estimator input.sk-toggleable__control:checked~label.sk-toggleable__label {background-color: #d4ebff;}#sk-container-id-3 div.sk-label input.sk-toggleable__control:checked~label.sk-toggleable__label {background-color: #d4ebff;}#sk-container-id-3 input.sk-hidden--visually {border: 0;clip: rect(1px 1px 1px 1px);clip: rect(1px, 1px, 1px, 1px);height: 1px;margin: -1px;overflow: hidden;padding: 0;position: absolute;width: 1px;}#sk-container-id-3 div.sk-estimator {font-family: monospace;background-color: #f0f8ff;border: 1px dotted black;border-radius: 0.25em;box-sizing: border-box;margin-bottom: 0.5em;}#sk-container-id-3 div.sk-estimator:hover {background-color: #d4ebff;}#sk-container-id-3 div.sk-parallel-item::after {content: \"\";width: 100%;border-bottom: 1px solid gray;flex-grow: 1;}#sk-container-id-3 div.sk-label:hover label.sk-toggleable__label {background-color: #d4ebff;}#sk-container-id-3 div.sk-serial::before {content: \"\";position: absolute;border-left: 1px solid gray;box-sizing: border-box;top: 0;bottom: 0;left: 50%;z-index: 0;}#sk-container-id-3 div.sk-serial {display: flex;flex-direction: column;align-items: center;background-color: white;padding-right: 0.2em;padding-left: 0.2em;position: relative;}#sk-container-id-3 div.sk-item {position: relative;z-index: 1;}#sk-container-id-3 div.sk-parallel {display: flex;align-items: stretch;justify-content: center;background-color: white;position: relative;}#sk-container-id-3 div.sk-item::before, #sk-container-id-3 div.sk-parallel-item::before {content: \"\";position: absolute;border-left: 1px solid gray;box-sizing: border-box;top: 0;bottom: 0;left: 50%;z-index: -1;}#sk-container-id-3 div.sk-parallel-item {display: flex;flex-direction: column;z-index: 1;position: relative;background-color: white;}#sk-container-id-3 div.sk-parallel-item:first-child::after {align-self: flex-end;width: 50%;}#sk-container-id-3 div.sk-parallel-item:last-child::after {align-self: flex-start;width: 50%;}#sk-container-id-3 div.sk-parallel-item:only-child::after {width: 0;}#sk-container-id-3 div.sk-dashed-wrapped {border: 1px dashed gray;margin: 0 0.4em 0.5em 0.4em;box-sizing: border-box;padding-bottom: 0.4em;background-color: white;}#sk-container-id-3 div.sk-label label {font-family: monospace;font-weight: bold;display: inline-block;line-height: 1.2em;}#sk-container-id-3 div.sk-label-container {text-align: center;}#sk-container-id-3 div.sk-container {/* jupyter's `normalize.less` sets `[hidden] { display: none; }` but bootstrap.min.css set `[hidden] { display: none !important; }` so we also need the `!important` here to be able to override the default hidden behavior on the sphinx rendered scikit-learn.org. See: https://github.com/scikit-learn/scikit-learn/issues/21755 */display: inline-block !important;position: relative;}#sk-container-id-3 div.sk-text-repr-fallback {display: none;}</style><div id=\"sk-container-id-3\" class=\"sk-top-container\"><div class=\"sk-text-repr-fallback\"><pre>Pipeline(steps=[(&#x27;cleaning&#x27;,\n",
       "                 ColumnTransformer(transformers=[(&#x27;num&#x27;,\n",
       "                                                  Pipeline(steps=[(&#x27;input_outlier&#x27;,\n",
       "                                                                   input_outlier()),\n",
       "                                                                  (&#x27;simpleimputer&#x27;,\n",
       "                                                                   SimpleImputer(strategy=&#x27;median&#x27;)),\n",
       "                                                                  (&#x27;functiontransformer&#x27;,\n",
       "                                                                   FunctionTransformer(feature_names_out=&#x27;one-to-one&#x27;,\n",
       "                                                                                       func=&lt;ufunc &#x27;log&#x27;&gt;,\n",
       "                                                                                       inverse_func=&lt;ufunc &#x27;exp&#x27;&gt;)),\n",
       "                                                                  (&#x27;standardscaler&#x27;,\n",
       "                                                                   StandardScaler())]),\n",
       "                                                  &lt;sklearn.compose._column_transformer.make_column_selector object at 0x00000226A5841060&gt;)])),\n",
       "                (&#x27;svm&#x27;, SVR(C=800, epsilon=1, gamma=2))])</pre><b>In a Jupyter environment, please rerun this cell to show the HTML representation or trust the notebook. <br />On GitHub, the HTML representation is unable to render, please try loading this page with nbviewer.org.</b></div><div class=\"sk-container\" hidden><div class=\"sk-item sk-dashed-wrapped\"><div class=\"sk-label-container\"><div class=\"sk-label sk-toggleable\"><input class=\"sk-toggleable__control sk-hidden--visually\" id=\"sk-estimator-id-16\" type=\"checkbox\" ><label for=\"sk-estimator-id-16\" class=\"sk-toggleable__label sk-toggleable__label-arrow\">Pipeline</label><div class=\"sk-toggleable__content\"><pre>Pipeline(steps=[(&#x27;cleaning&#x27;,\n",
       "                 ColumnTransformer(transformers=[(&#x27;num&#x27;,\n",
       "                                                  Pipeline(steps=[(&#x27;input_outlier&#x27;,\n",
       "                                                                   input_outlier()),\n",
       "                                                                  (&#x27;simpleimputer&#x27;,\n",
       "                                                                   SimpleImputer(strategy=&#x27;median&#x27;)),\n",
       "                                                                  (&#x27;functiontransformer&#x27;,\n",
       "                                                                   FunctionTransformer(feature_names_out=&#x27;one-to-one&#x27;,\n",
       "                                                                                       func=&lt;ufunc &#x27;log&#x27;&gt;,\n",
       "                                                                                       inverse_func=&lt;ufunc &#x27;exp&#x27;&gt;)),\n",
       "                                                                  (&#x27;standardscaler&#x27;,\n",
       "                                                                   StandardScaler())]),\n",
       "                                                  &lt;sklearn.compose._column_transformer.make_column_selector object at 0x00000226A5841060&gt;)])),\n",
       "                (&#x27;svm&#x27;, SVR(C=800, epsilon=1, gamma=2))])</pre></div></div></div><div class=\"sk-serial\"><div class=\"sk-item sk-dashed-wrapped\"><div class=\"sk-label-container\"><div class=\"sk-label sk-toggleable\"><input class=\"sk-toggleable__control sk-hidden--visually\" id=\"sk-estimator-id-17\" type=\"checkbox\" ><label for=\"sk-estimator-id-17\" class=\"sk-toggleable__label sk-toggleable__label-arrow\">cleaning: ColumnTransformer</label><div class=\"sk-toggleable__content\"><pre>ColumnTransformer(transformers=[(&#x27;num&#x27;,\n",
       "                                 Pipeline(steps=[(&#x27;input_outlier&#x27;,\n",
       "                                                  input_outlier()),\n",
       "                                                 (&#x27;simpleimputer&#x27;,\n",
       "                                                  SimpleImputer(strategy=&#x27;median&#x27;)),\n",
       "                                                 (&#x27;functiontransformer&#x27;,\n",
       "                                                  FunctionTransformer(feature_names_out=&#x27;one-to-one&#x27;,\n",
       "                                                                      func=&lt;ufunc &#x27;log&#x27;&gt;,\n",
       "                                                                      inverse_func=&lt;ufunc &#x27;exp&#x27;&gt;)),\n",
       "                                                 (&#x27;standardscaler&#x27;,\n",
       "                                                  StandardScaler())]),\n",
       "                                 &lt;sklearn.compose._column_transformer.make_column_selector object at 0x00000226A5841060&gt;)])</pre></div></div></div><div class=\"sk-parallel\"><div class=\"sk-parallel-item\"><div class=\"sk-item\"><div class=\"sk-label-container\"><div class=\"sk-label sk-toggleable\"><input class=\"sk-toggleable__control sk-hidden--visually\" id=\"sk-estimator-id-18\" type=\"checkbox\" ><label for=\"sk-estimator-id-18\" class=\"sk-toggleable__label sk-toggleable__label-arrow\">num</label><div class=\"sk-toggleable__content\"><pre>&lt;sklearn.compose._column_transformer.make_column_selector object at 0x00000226A5841060&gt;</pre></div></div></div><div class=\"sk-serial\"><div class=\"sk-item\"><div class=\"sk-serial\"><div class=\"sk-item\"><div class=\"sk-estimator sk-toggleable\"><input class=\"sk-toggleable__control sk-hidden--visually\" id=\"sk-estimator-id-19\" type=\"checkbox\" ><label for=\"sk-estimator-id-19\" class=\"sk-toggleable__label sk-toggleable__label-arrow\">input_outlier</label><div class=\"sk-toggleable__content\"><pre>input_outlier()</pre></div></div></div><div class=\"sk-item\"><div class=\"sk-estimator sk-toggleable\"><input class=\"sk-toggleable__control sk-hidden--visually\" id=\"sk-estimator-id-20\" type=\"checkbox\" ><label for=\"sk-estimator-id-20\" class=\"sk-toggleable__label sk-toggleable__label-arrow\">SimpleImputer</label><div class=\"sk-toggleable__content\"><pre>SimpleImputer(strategy=&#x27;median&#x27;)</pre></div></div></div><div class=\"sk-item\"><div class=\"sk-estimator sk-toggleable\"><input class=\"sk-toggleable__control sk-hidden--visually\" id=\"sk-estimator-id-21\" type=\"checkbox\" ><label for=\"sk-estimator-id-21\" class=\"sk-toggleable__label sk-toggleable__label-arrow\">FunctionTransformer</label><div class=\"sk-toggleable__content\"><pre>FunctionTransformer(feature_names_out=&#x27;one-to-one&#x27;, func=&lt;ufunc &#x27;log&#x27;&gt;,\n",
       "                    inverse_func=&lt;ufunc &#x27;exp&#x27;&gt;)</pre></div></div></div><div class=\"sk-item\"><div class=\"sk-estimator sk-toggleable\"><input class=\"sk-toggleable__control sk-hidden--visually\" id=\"sk-estimator-id-22\" type=\"checkbox\" ><label for=\"sk-estimator-id-22\" class=\"sk-toggleable__label sk-toggleable__label-arrow\">StandardScaler</label><div class=\"sk-toggleable__content\"><pre>StandardScaler()</pre></div></div></div></div></div></div></div></div></div></div><div class=\"sk-item\"><div class=\"sk-estimator sk-toggleable\"><input class=\"sk-toggleable__control sk-hidden--visually\" id=\"sk-estimator-id-23\" type=\"checkbox\" ><label for=\"sk-estimator-id-23\" class=\"sk-toggleable__label sk-toggleable__label-arrow\">SVR</label><div class=\"sk-toggleable__content\"><pre>SVR(C=800, epsilon=1, gamma=2)</pre></div></div></div></div></div></div></div>"
      ],
      "text/plain": [
       "Pipeline(steps=[('cleaning',\n",
       "                 ColumnTransformer(transformers=[('num',\n",
       "                                                  Pipeline(steps=[('input_outlier',\n",
       "                                                                   input_outlier()),\n",
       "                                                                  ('simpleimputer',\n",
       "                                                                   SimpleImputer(strategy='median')),\n",
       "                                                                  ('functiontransformer',\n",
       "                                                                   FunctionTransformer(feature_names_out='one-to-one',\n",
       "                                                                                       func=<ufunc 'log'>,\n",
       "                                                                                       inverse_func=<ufunc 'exp'>)),\n",
       "                                                                  ('standardscaler',\n",
       "                                                                   StandardScaler())]),\n",
       "                                                  <sklearn.compose._column_transformer.make_column_selector object at 0x00000226A5841060>)])),\n",
       "                ('svm', SVR(C=800, epsilon=1, gamma=2))])"
      ]
     },
     "execution_count": 22,
     "metadata": {},
     "output_type": "execute_result"
    }
   ],
   "source": [
    "# fit final svm model\n",
    "final_svm_reg.fit(X_train, y_train)"
   ]
  },
  {
   "cell_type": "code",
   "execution_count": 25,
   "id": "053d18f4",
   "metadata": {},
   "outputs": [
    {
     "data": {
      "text/plain": [
       "4.705967709317049"
      ]
     },
     "execution_count": 25,
     "metadata": {},
     "output_type": "execute_result"
    }
   ],
   "source": [
    "mean_squared_error(y_test, final_svm_reg.predict(X_test), squared=False)"
   ]
  },
  {
   "cell_type": "code",
   "execution_count": 57,
   "id": "afda6195",
   "metadata": {},
   "outputs": [
    {
     "data": {
      "text/plain": [
       "['trained_models/fish_SVM.plk']"
      ]
     },
     "execution_count": 57,
     "metadata": {},
     "output_type": "execute_result"
    }
   ],
   "source": [
    "joblib.dump(final_svm_reg, \"trained_models/fish_SVM.plk\")"
   ]
  },
  {
   "cell_type": "markdown",
   "id": "13609e78",
   "metadata": {},
   "source": [
    "# Linear Regression"
   ]
  },
  {
   "cell_type": "code",
   "execution_count": 66,
   "id": "4d1771d3",
   "metadata": {},
   "outputs": [],
   "source": [
    "from sklearn.linear_model import LinearRegression"
   ]
  },
  {
   "cell_type": "code",
   "execution_count": 67,
   "id": "ff230954",
   "metadata": {},
   "outputs": [],
   "source": [
    "lin_reg = Pipeline([\n",
    "    (\"cleaning\", cleaning),\n",
    "    (\"lin_reg\", LinearRegression())\n",
    "])"
   ]
  },
  {
   "cell_type": "code",
   "execution_count": 68,
   "id": "798f8891",
   "metadata": {},
   "outputs": [
    {
     "data": {
      "text/plain": [
       "28.409748305022855"
      ]
     },
     "execution_count": 68,
     "metadata": {},
     "output_type": "execute_result"
    }
   ],
   "source": [
    "cross_score = cross_val_score(lin_reg, X=X_train, y=y_train, cv=5, scoring=mse_scorer)\n",
    "cross_score.mean()"
   ]
  },
  {
   "cell_type": "markdown",
   "id": "87ca2b2c",
   "metadata": {},
   "source": [
    "# ADABoosting for SVM"
   ]
  },
  {
   "cell_type": "code",
   "execution_count": 14,
   "id": "6ba25c80",
   "metadata": {},
   "outputs": [],
   "source": [
    "svm_for_ada = SVR(C=800, epsilon=1, gamma=2, kernel=\"rbf\")\n",
    "ada_reg = AdaBoostRegressor(svm_for_ada, n_estimators=50, learning_rate=1, loss=\"square\")"
   ]
  },
  {
   "cell_type": "code",
   "execution_count": 15,
   "id": "d0e8cc44",
   "metadata": {},
   "outputs": [
    {
     "data": {
      "text/plain": [
       "8.453845417583306"
      ]
     },
     "execution_count": 15,
     "metadata": {},
     "output_type": "execute_result"
    }
   ],
   "source": [
    "ada_reg_cv = cross_val_score(ada_reg, X=X_train_clean, y=y_train, cv=2, scoring=mse_scorer, n_jobs=-1)\n",
    "ada_reg_cv.mean()"
   ]
  },
  {
   "cell_type": "code",
   "execution_count": 16,
   "id": "e7bd0ff9",
   "metadata": {},
   "outputs": [],
   "source": [
    "params = [{\n",
    "    \"n_estimators\":[10,5],\n",
    "    \"learning_rate\":[0.1, 0.3, 0.2],\n",
    "    \"loss\":[\"exponential\", \"square\"]\n",
    "}]\n",
    "\n",
    "ada_reg_grid = GridSearchCV(ada_reg, param_grid=params, n_jobs=-1, cv=3, scoring=mse_scorer, verbose=1)"
   ]
  },
  {
   "cell_type": "code",
   "execution_count": 17,
   "id": "d0cd2811",
   "metadata": {},
   "outputs": [
    {
     "name": "stdout",
     "output_type": "stream",
     "text": [
      "Fitting 3 folds for each of 12 candidates, totalling 36 fits\n"
     ]
    },
    {
     "data": {
      "text/html": [
       "<style>#sk-container-id-2 {color: black;background-color: white;}#sk-container-id-2 pre{padding: 0;}#sk-container-id-2 div.sk-toggleable {background-color: white;}#sk-container-id-2 label.sk-toggleable__label {cursor: pointer;display: block;width: 100%;margin-bottom: 0;padding: 0.3em;box-sizing: border-box;text-align: center;}#sk-container-id-2 label.sk-toggleable__label-arrow:before {content: \"▸\";float: left;margin-right: 0.25em;color: #696969;}#sk-container-id-2 label.sk-toggleable__label-arrow:hover:before {color: black;}#sk-container-id-2 div.sk-estimator:hover label.sk-toggleable__label-arrow:before {color: black;}#sk-container-id-2 div.sk-toggleable__content {max-height: 0;max-width: 0;overflow: hidden;text-align: left;background-color: #f0f8ff;}#sk-container-id-2 div.sk-toggleable__content pre {margin: 0.2em;color: black;border-radius: 0.25em;background-color: #f0f8ff;}#sk-container-id-2 input.sk-toggleable__control:checked~div.sk-toggleable__content {max-height: 200px;max-width: 100%;overflow: auto;}#sk-container-id-2 input.sk-toggleable__control:checked~label.sk-toggleable__label-arrow:before {content: \"▾\";}#sk-container-id-2 div.sk-estimator input.sk-toggleable__control:checked~label.sk-toggleable__label {background-color: #d4ebff;}#sk-container-id-2 div.sk-label input.sk-toggleable__control:checked~label.sk-toggleable__label {background-color: #d4ebff;}#sk-container-id-2 input.sk-hidden--visually {border: 0;clip: rect(1px 1px 1px 1px);clip: rect(1px, 1px, 1px, 1px);height: 1px;margin: -1px;overflow: hidden;padding: 0;position: absolute;width: 1px;}#sk-container-id-2 div.sk-estimator {font-family: monospace;background-color: #f0f8ff;border: 1px dotted black;border-radius: 0.25em;box-sizing: border-box;margin-bottom: 0.5em;}#sk-container-id-2 div.sk-estimator:hover {background-color: #d4ebff;}#sk-container-id-2 div.sk-parallel-item::after {content: \"\";width: 100%;border-bottom: 1px solid gray;flex-grow: 1;}#sk-container-id-2 div.sk-label:hover label.sk-toggleable__label {background-color: #d4ebff;}#sk-container-id-2 div.sk-serial::before {content: \"\";position: absolute;border-left: 1px solid gray;box-sizing: border-box;top: 0;bottom: 0;left: 50%;z-index: 0;}#sk-container-id-2 div.sk-serial {display: flex;flex-direction: column;align-items: center;background-color: white;padding-right: 0.2em;padding-left: 0.2em;position: relative;}#sk-container-id-2 div.sk-item {position: relative;z-index: 1;}#sk-container-id-2 div.sk-parallel {display: flex;align-items: stretch;justify-content: center;background-color: white;position: relative;}#sk-container-id-2 div.sk-item::before, #sk-container-id-2 div.sk-parallel-item::before {content: \"\";position: absolute;border-left: 1px solid gray;box-sizing: border-box;top: 0;bottom: 0;left: 50%;z-index: -1;}#sk-container-id-2 div.sk-parallel-item {display: flex;flex-direction: column;z-index: 1;position: relative;background-color: white;}#sk-container-id-2 div.sk-parallel-item:first-child::after {align-self: flex-end;width: 50%;}#sk-container-id-2 div.sk-parallel-item:last-child::after {align-self: flex-start;width: 50%;}#sk-container-id-2 div.sk-parallel-item:only-child::after {width: 0;}#sk-container-id-2 div.sk-dashed-wrapped {border: 1px dashed gray;margin: 0 0.4em 0.5em 0.4em;box-sizing: border-box;padding-bottom: 0.4em;background-color: white;}#sk-container-id-2 div.sk-label label {font-family: monospace;font-weight: bold;display: inline-block;line-height: 1.2em;}#sk-container-id-2 div.sk-label-container {text-align: center;}#sk-container-id-2 div.sk-container {/* jupyter's `normalize.less` sets `[hidden] { display: none; }` but bootstrap.min.css set `[hidden] { display: none !important; }` so we also need the `!important` here to be able to override the default hidden behavior on the sphinx rendered scikit-learn.org. See: https://github.com/scikit-learn/scikit-learn/issues/21755 */display: inline-block !important;position: relative;}#sk-container-id-2 div.sk-text-repr-fallback {display: none;}</style><div id=\"sk-container-id-2\" class=\"sk-top-container\"><div class=\"sk-text-repr-fallback\"><pre>GridSearchCV(cv=3,\n",
       "             estimator=AdaBoostRegressor(estimator=SVR(C=800, epsilon=1,\n",
       "                                                       gamma=2),\n",
       "                                         learning_rate=1, loss=&#x27;square&#x27;),\n",
       "             n_jobs=-1,\n",
       "             param_grid=[{&#x27;learning_rate&#x27;: [0.1, 0.3, 0.2],\n",
       "                          &#x27;loss&#x27;: [&#x27;exponential&#x27;, &#x27;square&#x27;],\n",
       "                          &#x27;n_estimators&#x27;: [10, 5]}],\n",
       "             scoring=make_scorer(mean_squared_error, squared=False), verbose=1)</pre><b>In a Jupyter environment, please rerun this cell to show the HTML representation or trust the notebook. <br />On GitHub, the HTML representation is unable to render, please try loading this page with nbviewer.org.</b></div><div class=\"sk-container\" hidden><div class=\"sk-item sk-dashed-wrapped\"><div class=\"sk-label-container\"><div class=\"sk-label sk-toggleable\"><input class=\"sk-toggleable__control sk-hidden--visually\" id=\"sk-estimator-id-7\" type=\"checkbox\" ><label for=\"sk-estimator-id-7\" class=\"sk-toggleable__label sk-toggleable__label-arrow\">GridSearchCV</label><div class=\"sk-toggleable__content\"><pre>GridSearchCV(cv=3,\n",
       "             estimator=AdaBoostRegressor(estimator=SVR(C=800, epsilon=1,\n",
       "                                                       gamma=2),\n",
       "                                         learning_rate=1, loss=&#x27;square&#x27;),\n",
       "             n_jobs=-1,\n",
       "             param_grid=[{&#x27;learning_rate&#x27;: [0.1, 0.3, 0.2],\n",
       "                          &#x27;loss&#x27;: [&#x27;exponential&#x27;, &#x27;square&#x27;],\n",
       "                          &#x27;n_estimators&#x27;: [10, 5]}],\n",
       "             scoring=make_scorer(mean_squared_error, squared=False), verbose=1)</pre></div></div></div><div class=\"sk-parallel\"><div class=\"sk-parallel-item\"><div class=\"sk-item\"><div class=\"sk-label-container\"><div class=\"sk-label sk-toggleable\"><input class=\"sk-toggleable__control sk-hidden--visually\" id=\"sk-estimator-id-8\" type=\"checkbox\" ><label for=\"sk-estimator-id-8\" class=\"sk-toggleable__label sk-toggleable__label-arrow\">estimator: AdaBoostRegressor</label><div class=\"sk-toggleable__content\"><pre>AdaBoostRegressor(estimator=SVR(C=800, epsilon=1, gamma=2), learning_rate=1,\n",
       "                  loss=&#x27;square&#x27;)</pre></div></div></div><div class=\"sk-serial\"><div class=\"sk-item sk-dashed-wrapped\"><div class=\"sk-parallel\"><div class=\"sk-parallel-item\"><div class=\"sk-item\"><div class=\"sk-label-container\"><div class=\"sk-label sk-toggleable\"><input class=\"sk-toggleable__control sk-hidden--visually\" id=\"sk-estimator-id-9\" type=\"checkbox\" ><label for=\"sk-estimator-id-9\" class=\"sk-toggleable__label sk-toggleable__label-arrow\">estimator: SVR</label><div class=\"sk-toggleable__content\"><pre>SVR(C=800, epsilon=1, gamma=2)</pre></div></div></div><div class=\"sk-serial\"><div class=\"sk-item\"><div class=\"sk-estimator sk-toggleable\"><input class=\"sk-toggleable__control sk-hidden--visually\" id=\"sk-estimator-id-10\" type=\"checkbox\" ><label for=\"sk-estimator-id-10\" class=\"sk-toggleable__label sk-toggleable__label-arrow\">SVR</label><div class=\"sk-toggleable__content\"><pre>SVR(C=800, epsilon=1, gamma=2)</pre></div></div></div></div></div></div></div></div></div></div></div></div></div></div></div>"
      ],
      "text/plain": [
       "GridSearchCV(cv=3,\n",
       "             estimator=AdaBoostRegressor(estimator=SVR(C=800, epsilon=1,\n",
       "                                                       gamma=2),\n",
       "                                         learning_rate=1, loss='square'),\n",
       "             n_jobs=-1,\n",
       "             param_grid=[{'learning_rate': [0.1, 0.3, 0.2],\n",
       "                          'loss': ['exponential', 'square'],\n",
       "                          'n_estimators': [10, 5]}],\n",
       "             scoring=make_scorer(mean_squared_error, squared=False), verbose=1)"
      ]
     },
     "execution_count": 17,
     "metadata": {},
     "output_type": "execute_result"
    }
   ],
   "source": [
    "ada_reg_grid.fit(X_train_clean, y_train)"
   ]
  },
  {
   "cell_type": "code",
   "execution_count": 18,
   "id": "82838523",
   "metadata": {},
   "outputs": [
    {
     "data": {
      "text/html": [
       "<div>\n",
       "<style scoped>\n",
       "    .dataframe tbody tr th:only-of-type {\n",
       "        vertical-align: middle;\n",
       "    }\n",
       "\n",
       "    .dataframe tbody tr th {\n",
       "        vertical-align: top;\n",
       "    }\n",
       "\n",
       "    .dataframe thead th {\n",
       "        text-align: right;\n",
       "    }\n",
       "</style>\n",
       "<table border=\"1\" class=\"dataframe\">\n",
       "  <thead>\n",
       "    <tr style=\"text-align: right;\">\n",
       "      <th></th>\n",
       "      <th>mean_fit_time</th>\n",
       "      <th>std_fit_time</th>\n",
       "      <th>mean_score_time</th>\n",
       "      <th>std_score_time</th>\n",
       "      <th>param_learning_rate</th>\n",
       "      <th>param_loss</th>\n",
       "      <th>param_n_estimators</th>\n",
       "      <th>params</th>\n",
       "      <th>split0_test_score</th>\n",
       "      <th>split1_test_score</th>\n",
       "      <th>split2_test_score</th>\n",
       "      <th>mean_test_score</th>\n",
       "      <th>std_test_score</th>\n",
       "      <th>rank_test_score</th>\n",
       "    </tr>\n",
       "  </thead>\n",
       "  <tbody>\n",
       "    <tr>\n",
       "      <th>10</th>\n",
       "      <td>61.804606</td>\n",
       "      <td>1.381815</td>\n",
       "      <td>4.13949</td>\n",
       "      <td>0.279557</td>\n",
       "      <td>0.2</td>\n",
       "      <td>square</td>\n",
       "      <td>10</td>\n",
       "      <td>{'learning_rate': 0.2, 'loss': 'square', 'n_es...</td>\n",
       "      <td>7.395529</td>\n",
       "      <td>6.327857</td>\n",
       "      <td>5.250081</td>\n",
       "      <td>6.324489</td>\n",
       "      <td>0.875879</td>\n",
       "      <td>12</td>\n",
       "    </tr>\n",
       "  </tbody>\n",
       "</table>\n",
       "</div>"
      ],
      "text/plain": [
       "    mean_fit_time  std_fit_time  mean_score_time  std_score_time  \\\n",
       "10      61.804606      1.381815          4.13949        0.279557   \n",
       "\n",
       "   param_learning_rate param_loss param_n_estimators  \\\n",
       "10                 0.2     square                 10   \n",
       "\n",
       "                                               params  split0_test_score  \\\n",
       "10  {'learning_rate': 0.2, 'loss': 'square', 'n_es...           7.395529   \n",
       "\n",
       "    split1_test_score  split2_test_score  mean_test_score  std_test_score  \\\n",
       "10           6.327857           5.250081         6.324489        0.875879   \n",
       "\n",
       "    rank_test_score  \n",
       "10               12  "
      ]
     },
     "execution_count": 18,
     "metadata": {},
     "output_type": "execute_result"
    }
   ],
   "source": [
    "pd.DataFrame(ada_reg_grid.cv_results_).sort_values(by=\"mean_test_score\", ascending=True).head(1)"
   ]
  },
  {
   "cell_type": "code",
   "execution_count": 16,
   "id": "c9cb6246",
   "metadata": {},
   "outputs": [],
   "source": [
    "final_ada_reg = AdaBoostRegressor(svm_for_ada, n_estimators=10, loss=\"square\", learning_rate=0.2)"
   ]
  },
  {
   "cell_type": "code",
   "execution_count": 17,
   "id": "61e08472",
   "metadata": {},
   "outputs": [
    {
     "data": {
      "text/plain": [
       "6.4666297613682415"
      ]
     },
     "execution_count": 17,
     "metadata": {},
     "output_type": "execute_result"
    }
   ],
   "source": [
    "final_ada_cv = cross_val_score(final_ada_reg, X=X_train_clean, y=y_train, cv=3, scoring=mse_scorer)\n",
    "final_ada_cv.mean()"
   ]
  },
  {
   "cell_type": "code",
   "execution_count": 19,
   "id": "ec6c4196",
   "metadata": {},
   "outputs": [
    {
     "data": {
      "text/plain": [
       "['trained_models/fish_AdaBoost.plk']"
      ]
     },
     "execution_count": 19,
     "metadata": {},
     "output_type": "execute_result"
    }
   ],
   "source": [
    "joblib.dump(final_ada_reg, \"trained_models/fish_AdaBoost.plk\")"
   ]
  },
  {
   "cell_type": "markdown",
   "id": "df9af0a1",
   "metadata": {},
   "source": [
    "# Gradient Boosting"
   ]
  },
  {
   "cell_type": "code",
   "execution_count": 20,
   "id": "34c492bc",
   "metadata": {},
   "outputs": [],
   "source": [
    "grbt_reg = GradientBoostingRegressor()"
   ]
  },
  {
   "cell_type": "code",
   "execution_count": 23,
   "id": "17e44471",
   "metadata": {},
   "outputs": [
    {
     "data": {
      "text/plain": [
       "10.022187134644872"
      ]
     },
     "execution_count": 23,
     "metadata": {},
     "output_type": "execute_result"
    }
   ],
   "source": [
    "grbt_reg_cv = cross_val_score(grbt_reg, X=X_train_clean, y=y_train, cv=3, scoring=mse_scorer)\n",
    "grbt_reg_cv.mean()"
   ]
  },
  {
   "cell_type": "code",
   "execution_count": 34,
   "id": "d8a93603",
   "metadata": {},
   "outputs": [],
   "source": [
    "params = [{\n",
    "    \"loss\":[\"absolute_error\"],\n",
    "    \"learning_rate\":[0.1, 0.01],\n",
    "    \"criterion\":['friedman_mse'],\n",
    "    \"max_depth\":[5, 10],\n",
    "    \"max_features\":[3],\n",
    "    \"n_estimators\":[50, 100,200, 400],\n",
    "    \"verbose\":[1],\n",
    "    \"n_iter_no_change\": [10]\n",
    "}]\n",
    "\n",
    "grbt_reg_grid = GridSearchCV(grbt_reg, param_grid=params, cv=3, n_jobs=-1, scoring=mse_scorer, verbose=3)"
   ]
  },
  {
   "cell_type": "code",
   "execution_count": 35,
   "id": "3b7c15b9",
   "metadata": {
    "collapsed": true
   },
   "outputs": [
    {
     "name": "stdout",
     "output_type": "stream",
     "text": [
      "Fitting 3 folds for each of 16 candidates, totalling 48 fits\n",
      "      Iter       Train Loss   Remaining Time \n",
      "         1          20.7869            2.55s\n",
      "         2          20.5509            2.52s\n",
      "         3          20.3960            2.38s\n",
      "         4          20.2539            2.31s\n",
      "         5          20.1121            2.36s\n",
      "         6          19.8958            2.40s\n",
      "         7          19.6922            2.41s\n",
      "         8          19.5110            2.33s\n",
      "         9          19.3731            2.29s\n",
      "        10          19.2337            2.27s\n",
      "        20          17.9257            1.69s\n",
      "        30          16.6892            1.10s\n",
      "        40          15.6213            0.55s\n",
      "        50          14.5352            0.00s\n"
     ]
    },
    {
     "data": {
      "text/html": [
       "<style>#sk-container-id-6 {color: black;background-color: white;}#sk-container-id-6 pre{padding: 0;}#sk-container-id-6 div.sk-toggleable {background-color: white;}#sk-container-id-6 label.sk-toggleable__label {cursor: pointer;display: block;width: 100%;margin-bottom: 0;padding: 0.3em;box-sizing: border-box;text-align: center;}#sk-container-id-6 label.sk-toggleable__label-arrow:before {content: \"▸\";float: left;margin-right: 0.25em;color: #696969;}#sk-container-id-6 label.sk-toggleable__label-arrow:hover:before {color: black;}#sk-container-id-6 div.sk-estimator:hover label.sk-toggleable__label-arrow:before {color: black;}#sk-container-id-6 div.sk-toggleable__content {max-height: 0;max-width: 0;overflow: hidden;text-align: left;background-color: #f0f8ff;}#sk-container-id-6 div.sk-toggleable__content pre {margin: 0.2em;color: black;border-radius: 0.25em;background-color: #f0f8ff;}#sk-container-id-6 input.sk-toggleable__control:checked~div.sk-toggleable__content {max-height: 200px;max-width: 100%;overflow: auto;}#sk-container-id-6 input.sk-toggleable__control:checked~label.sk-toggleable__label-arrow:before {content: \"▾\";}#sk-container-id-6 div.sk-estimator input.sk-toggleable__control:checked~label.sk-toggleable__label {background-color: #d4ebff;}#sk-container-id-6 div.sk-label input.sk-toggleable__control:checked~label.sk-toggleable__label {background-color: #d4ebff;}#sk-container-id-6 input.sk-hidden--visually {border: 0;clip: rect(1px 1px 1px 1px);clip: rect(1px, 1px, 1px, 1px);height: 1px;margin: -1px;overflow: hidden;padding: 0;position: absolute;width: 1px;}#sk-container-id-6 div.sk-estimator {font-family: monospace;background-color: #f0f8ff;border: 1px dotted black;border-radius: 0.25em;box-sizing: border-box;margin-bottom: 0.5em;}#sk-container-id-6 div.sk-estimator:hover {background-color: #d4ebff;}#sk-container-id-6 div.sk-parallel-item::after {content: \"\";width: 100%;border-bottom: 1px solid gray;flex-grow: 1;}#sk-container-id-6 div.sk-label:hover label.sk-toggleable__label {background-color: #d4ebff;}#sk-container-id-6 div.sk-serial::before {content: \"\";position: absolute;border-left: 1px solid gray;box-sizing: border-box;top: 0;bottom: 0;left: 50%;z-index: 0;}#sk-container-id-6 div.sk-serial {display: flex;flex-direction: column;align-items: center;background-color: white;padding-right: 0.2em;padding-left: 0.2em;position: relative;}#sk-container-id-6 div.sk-item {position: relative;z-index: 1;}#sk-container-id-6 div.sk-parallel {display: flex;align-items: stretch;justify-content: center;background-color: white;position: relative;}#sk-container-id-6 div.sk-item::before, #sk-container-id-6 div.sk-parallel-item::before {content: \"\";position: absolute;border-left: 1px solid gray;box-sizing: border-box;top: 0;bottom: 0;left: 50%;z-index: -1;}#sk-container-id-6 div.sk-parallel-item {display: flex;flex-direction: column;z-index: 1;position: relative;background-color: white;}#sk-container-id-6 div.sk-parallel-item:first-child::after {align-self: flex-end;width: 50%;}#sk-container-id-6 div.sk-parallel-item:last-child::after {align-self: flex-start;width: 50%;}#sk-container-id-6 div.sk-parallel-item:only-child::after {width: 0;}#sk-container-id-6 div.sk-dashed-wrapped {border: 1px dashed gray;margin: 0 0.4em 0.5em 0.4em;box-sizing: border-box;padding-bottom: 0.4em;background-color: white;}#sk-container-id-6 div.sk-label label {font-family: monospace;font-weight: bold;display: inline-block;line-height: 1.2em;}#sk-container-id-6 div.sk-label-container {text-align: center;}#sk-container-id-6 div.sk-container {/* jupyter's `normalize.less` sets `[hidden] { display: none; }` but bootstrap.min.css set `[hidden] { display: none !important; }` so we also need the `!important` here to be able to override the default hidden behavior on the sphinx rendered scikit-learn.org. See: https://github.com/scikit-learn/scikit-learn/issues/21755 */display: inline-block !important;position: relative;}#sk-container-id-6 div.sk-text-repr-fallback {display: none;}</style><div id=\"sk-container-id-6\" class=\"sk-top-container\"><div class=\"sk-text-repr-fallback\"><pre>GridSearchCV(cv=3, estimator=GradientBoostingRegressor(), n_jobs=-1,\n",
       "             param_grid=[{&#x27;criterion&#x27;: [&#x27;friedman_mse&#x27;],\n",
       "                          &#x27;learning_rate&#x27;: [0.1, 0.01],\n",
       "                          &#x27;loss&#x27;: [&#x27;absolute_error&#x27;], &#x27;max_depth&#x27;: [5, 10],\n",
       "                          &#x27;max_features&#x27;: [3],\n",
       "                          &#x27;n_estimators&#x27;: [50, 100, 200, 400],\n",
       "                          &#x27;n_iter_no_change&#x27;: [10], &#x27;verbose&#x27;: [1]}],\n",
       "             scoring=make_scorer(mean_squared_error, squared=False), verbose=3)</pre><b>In a Jupyter environment, please rerun this cell to show the HTML representation or trust the notebook. <br />On GitHub, the HTML representation is unable to render, please try loading this page with nbviewer.org.</b></div><div class=\"sk-container\" hidden><div class=\"sk-item sk-dashed-wrapped\"><div class=\"sk-label-container\"><div class=\"sk-label sk-toggleable\"><input class=\"sk-toggleable__control sk-hidden--visually\" id=\"sk-estimator-id-19\" type=\"checkbox\" ><label for=\"sk-estimator-id-19\" class=\"sk-toggleable__label sk-toggleable__label-arrow\">GridSearchCV</label><div class=\"sk-toggleable__content\"><pre>GridSearchCV(cv=3, estimator=GradientBoostingRegressor(), n_jobs=-1,\n",
       "             param_grid=[{&#x27;criterion&#x27;: [&#x27;friedman_mse&#x27;],\n",
       "                          &#x27;learning_rate&#x27;: [0.1, 0.01],\n",
       "                          &#x27;loss&#x27;: [&#x27;absolute_error&#x27;], &#x27;max_depth&#x27;: [5, 10],\n",
       "                          &#x27;max_features&#x27;: [3],\n",
       "                          &#x27;n_estimators&#x27;: [50, 100, 200, 400],\n",
       "                          &#x27;n_iter_no_change&#x27;: [10], &#x27;verbose&#x27;: [1]}],\n",
       "             scoring=make_scorer(mean_squared_error, squared=False), verbose=3)</pre></div></div></div><div class=\"sk-parallel\"><div class=\"sk-parallel-item\"><div class=\"sk-item\"><div class=\"sk-label-container\"><div class=\"sk-label sk-toggleable\"><input class=\"sk-toggleable__control sk-hidden--visually\" id=\"sk-estimator-id-20\" type=\"checkbox\" ><label for=\"sk-estimator-id-20\" class=\"sk-toggleable__label sk-toggleable__label-arrow\">estimator: GradientBoostingRegressor</label><div class=\"sk-toggleable__content\"><pre>GradientBoostingRegressor()</pre></div></div></div><div class=\"sk-serial\"><div class=\"sk-item\"><div class=\"sk-estimator sk-toggleable\"><input class=\"sk-toggleable__control sk-hidden--visually\" id=\"sk-estimator-id-21\" type=\"checkbox\" ><label for=\"sk-estimator-id-21\" class=\"sk-toggleable__label sk-toggleable__label-arrow\">GradientBoostingRegressor</label><div class=\"sk-toggleable__content\"><pre>GradientBoostingRegressor()</pre></div></div></div></div></div></div></div></div></div></div>"
      ],
      "text/plain": [
       "GridSearchCV(cv=3, estimator=GradientBoostingRegressor(), n_jobs=-1,\n",
       "             param_grid=[{'criterion': ['friedman_mse'],\n",
       "                          'learning_rate': [0.1, 0.01],\n",
       "                          'loss': ['absolute_error'], 'max_depth': [5, 10],\n",
       "                          'max_features': [3],\n",
       "                          'n_estimators': [50, 100, 200, 400],\n",
       "                          'n_iter_no_change': [10], 'verbose': [1]}],\n",
       "             scoring=make_scorer(mean_squared_error, squared=False), verbose=3)"
      ]
     },
     "execution_count": 35,
     "metadata": {},
     "output_type": "execute_result"
    }
   ],
   "source": [
    "grbt_reg_grid.fit(X_train_clean, y_train)"
   ]
  },
  {
   "cell_type": "code",
   "execution_count": 36,
   "id": "0c1b56e2",
   "metadata": {},
   "outputs": [
    {
     "data": {
      "text/html": [
       "<div>\n",
       "<style scoped>\n",
       "    .dataframe tbody tr th:only-of-type {\n",
       "        vertical-align: middle;\n",
       "    }\n",
       "\n",
       "    .dataframe tbody tr th {\n",
       "        vertical-align: top;\n",
       "    }\n",
       "\n",
       "    .dataframe thead th {\n",
       "        text-align: right;\n",
       "    }\n",
       "</style>\n",
       "<table border=\"1\" class=\"dataframe\">\n",
       "  <thead>\n",
       "    <tr style=\"text-align: right;\">\n",
       "      <th></th>\n",
       "      <th>mean_fit_time</th>\n",
       "      <th>std_fit_time</th>\n",
       "      <th>mean_score_time</th>\n",
       "      <th>std_score_time</th>\n",
       "      <th>param_criterion</th>\n",
       "      <th>param_learning_rate</th>\n",
       "      <th>param_loss</th>\n",
       "      <th>param_max_depth</th>\n",
       "      <th>param_max_features</th>\n",
       "      <th>param_n_estimators</th>\n",
       "      <th>param_n_iter_no_change</th>\n",
       "      <th>param_verbose</th>\n",
       "      <th>params</th>\n",
       "      <th>split0_test_score</th>\n",
       "      <th>split1_test_score</th>\n",
       "      <th>split2_test_score</th>\n",
       "      <th>mean_test_score</th>\n",
       "      <th>std_test_score</th>\n",
       "      <th>rank_test_score</th>\n",
       "    </tr>\n",
       "  </thead>\n",
       "  <tbody>\n",
       "    <tr>\n",
       "      <th>7</th>\n",
       "      <td>33.290085</td>\n",
       "      <td>4.09488</td>\n",
       "      <td>0.044292</td>\n",
       "      <td>0.009022</td>\n",
       "      <td>friedman_mse</td>\n",
       "      <td>0.1</td>\n",
       "      <td>absolute_error</td>\n",
       "      <td>10</td>\n",
       "      <td>3</td>\n",
       "      <td>400</td>\n",
       "      <td>10</td>\n",
       "      <td>1</td>\n",
       "      <td>{'criterion': 'friedman_mse', 'learning_rate':...</td>\n",
       "      <td>6.905296</td>\n",
       "      <td>7.415338</td>\n",
       "      <td>7.332493</td>\n",
       "      <td>7.217709</td>\n",
       "      <td>0.223483</td>\n",
       "      <td>16</td>\n",
       "    </tr>\n",
       "  </tbody>\n",
       "</table>\n",
       "</div>"
      ],
      "text/plain": [
       "   mean_fit_time  std_fit_time  mean_score_time  std_score_time  \\\n",
       "7      33.290085       4.09488         0.044292        0.009022   \n",
       "\n",
       "  param_criterion param_learning_rate      param_loss param_max_depth  \\\n",
       "7    friedman_mse                 0.1  absolute_error              10   \n",
       "\n",
       "  param_max_features param_n_estimators param_n_iter_no_change param_verbose  \\\n",
       "7                  3                400                     10             1   \n",
       "\n",
       "                                              params  split0_test_score  \\\n",
       "7  {'criterion': 'friedman_mse', 'learning_rate':...           6.905296   \n",
       "\n",
       "   split1_test_score  split2_test_score  mean_test_score  std_test_score  \\\n",
       "7           7.415338           7.332493         7.217709        0.223483   \n",
       "\n",
       "   rank_test_score  \n",
       "7               16  "
      ]
     },
     "execution_count": 36,
     "metadata": {},
     "output_type": "execute_result"
    }
   ],
   "source": [
    "pd.DataFrame(grbt_reg_grid.cv_results_).sort_values(by=\"mean_test_score\", ascending=True).head(1)"
   ]
  },
  {
   "cell_type": "code",
   "execution_count": 27,
   "id": "5b698ff2",
   "metadata": {
    "scrolled": true
   },
   "outputs": [
    {
     "data": {
      "text/html": [
       "<div>\n",
       "<style scoped>\n",
       "    .dataframe tbody tr th:only-of-type {\n",
       "        vertical-align: middle;\n",
       "    }\n",
       "\n",
       "    .dataframe tbody tr th {\n",
       "        vertical-align: top;\n",
       "    }\n",
       "\n",
       "    .dataframe thead th {\n",
       "        text-align: right;\n",
       "    }\n",
       "</style>\n",
       "<table border=\"1\" class=\"dataframe\">\n",
       "  <thead>\n",
       "    <tr style=\"text-align: right;\">\n",
       "      <th></th>\n",
       "      <th>mean_fit_time</th>\n",
       "      <th>std_fit_time</th>\n",
       "      <th>mean_score_time</th>\n",
       "      <th>std_score_time</th>\n",
       "      <th>param_criterion</th>\n",
       "      <th>param_learning_rate</th>\n",
       "      <th>param_loss</th>\n",
       "      <th>param_max_depth</th>\n",
       "      <th>param_max_features</th>\n",
       "      <th>param_n_estimators</th>\n",
       "      <th>param_n_iter_no_change</th>\n",
       "      <th>param_verbose</th>\n",
       "      <th>params</th>\n",
       "      <th>split0_test_score</th>\n",
       "      <th>split1_test_score</th>\n",
       "      <th>split2_test_score</th>\n",
       "      <th>mean_test_score</th>\n",
       "      <th>std_test_score</th>\n",
       "      <th>rank_test_score</th>\n",
       "    </tr>\n",
       "  </thead>\n",
       "  <tbody>\n",
       "    <tr>\n",
       "      <th>32</th>\n",
       "      <td>10.848259</td>\n",
       "      <td>1.54501</td>\n",
       "      <td>0.015319</td>\n",
       "      <td>0.002621</td>\n",
       "      <td>friedman_mse</td>\n",
       "      <td>0.1</td>\n",
       "      <td>absolute_error</td>\n",
       "      <td>10</td>\n",
       "      <td>3</td>\n",
       "      <td>200</td>\n",
       "      <td>10</td>\n",
       "      <td>1</td>\n",
       "      <td>{'criterion': 'friedman_mse', 'learning_rate':...</td>\n",
       "      <td>7.426</td>\n",
       "      <td>6.954485</td>\n",
       "      <td>6.871751</td>\n",
       "      <td>7.084079</td>\n",
       "      <td>0.244123</td>\n",
       "      <td>288</td>\n",
       "    </tr>\n",
       "  </tbody>\n",
       "</table>\n",
       "</div>"
      ],
      "text/plain": [
       "    mean_fit_time  std_fit_time  mean_score_time  std_score_time  \\\n",
       "32      10.848259       1.54501         0.015319        0.002621   \n",
       "\n",
       "   param_criterion param_learning_rate      param_loss param_max_depth  \\\n",
       "32    friedman_mse                 0.1  absolute_error              10   \n",
       "\n",
       "   param_max_features param_n_estimators param_n_iter_no_change param_verbose  \\\n",
       "32                  3                200                     10             1   \n",
       "\n",
       "                                               params  split0_test_score  \\\n",
       "32  {'criterion': 'friedman_mse', 'learning_rate':...              7.426   \n",
       "\n",
       "    split1_test_score  split2_test_score  mean_test_score  std_test_score  \\\n",
       "32           6.954485           6.871751         7.084079        0.244123   \n",
       "\n",
       "    rank_test_score  \n",
       "32              288  "
      ]
     },
     "execution_count": 27,
     "metadata": {},
     "output_type": "execute_result"
    }
   ],
   "source": [
    "pd.DataFrame(grbt_reg_grid.cv_results_).sort_values(by=\"mean_test_score\", ascending=True).head(1)"
   ]
  },
  {
   "cell_type": "code",
   "execution_count": 119,
   "id": "7dbfb2bf",
   "metadata": {},
   "outputs": [
    {
     "data": {
      "text/html": [
       "<div>\n",
       "<style scoped>\n",
       "    .dataframe tbody tr th:only-of-type {\n",
       "        vertical-align: middle;\n",
       "    }\n",
       "\n",
       "    .dataframe tbody tr th {\n",
       "        vertical-align: top;\n",
       "    }\n",
       "\n",
       "    .dataframe thead th {\n",
       "        text-align: right;\n",
       "    }\n",
       "</style>\n",
       "<table border=\"1\" class=\"dataframe\">\n",
       "  <thead>\n",
       "    <tr style=\"text-align: right;\">\n",
       "      <th></th>\n",
       "      <th>mean_fit_time</th>\n",
       "      <th>std_fit_time</th>\n",
       "      <th>mean_score_time</th>\n",
       "      <th>std_score_time</th>\n",
       "      <th>param_criterion</th>\n",
       "      <th>param_learning_rate</th>\n",
       "      <th>param_loss</th>\n",
       "      <th>param_max_depth</th>\n",
       "      <th>param_max_features</th>\n",
       "      <th>param_n_estimators</th>\n",
       "      <th>param_verbose</th>\n",
       "      <th>params</th>\n",
       "      <th>split0_test_score</th>\n",
       "      <th>split1_test_score</th>\n",
       "      <th>split2_test_score</th>\n",
       "      <th>mean_test_score</th>\n",
       "      <th>std_test_score</th>\n",
       "      <th>rank_test_score</th>\n",
       "    </tr>\n",
       "  </thead>\n",
       "  <tbody>\n",
       "    <tr>\n",
       "      <th>14</th>\n",
       "      <td>37.310782</td>\n",
       "      <td>0.650991</td>\n",
       "      <td>0.057288</td>\n",
       "      <td>0.007367</td>\n",
       "      <td>squared_error</td>\n",
       "      <td>0.1</td>\n",
       "      <td>absolute_error</td>\n",
       "      <td>10</td>\n",
       "      <td>5</td>\n",
       "      <td>900</td>\n",
       "      <td>1</td>\n",
       "      <td>{'criterion': 'squared_error', 'learning_rate'...</td>\n",
       "      <td>6.597483</td>\n",
       "      <td>5.920809</td>\n",
       "      <td>7.316557</td>\n",
       "      <td>6.611616</td>\n",
       "      <td>0.5699</td>\n",
       "      <td>16</td>\n",
       "    </tr>\n",
       "  </tbody>\n",
       "</table>\n",
       "</div>"
      ],
      "text/plain": [
       "    mean_fit_time  std_fit_time  mean_score_time  std_score_time  \\\n",
       "14      37.310782      0.650991         0.057288        0.007367   \n",
       "\n",
       "   param_criterion param_learning_rate      param_loss param_max_depth  \\\n",
       "14   squared_error                 0.1  absolute_error              10   \n",
       "\n",
       "   param_max_features param_n_estimators param_verbose  \\\n",
       "14                  5                900             1   \n",
       "\n",
       "                                               params  split0_test_score  \\\n",
       "14  {'criterion': 'squared_error', 'learning_rate'...           6.597483   \n",
       "\n",
       "    split1_test_score  split2_test_score  mean_test_score  std_test_score  \\\n",
       "14           5.920809           7.316557         6.611616          0.5699   \n",
       "\n",
       "    rank_test_score  \n",
       "14               16  "
      ]
     },
     "execution_count": 119,
     "metadata": {},
     "output_type": "execute_result"
    }
   ],
   "source": [
    "pd.DataFrame(grbt_reg_grid.cv_results_).sort_values(by=\"mean_test_score\", ascending=True).head(1)"
   ]
  },
  {
   "cell_type": "code",
   "execution_count": 42,
   "id": "4eeee3d4",
   "metadata": {},
   "outputs": [],
   "source": [
    "final_grbt_reg = GradientBoostingRegressor(n_estimators=900, max_features=5, max_depth=10, learning_rate=0.1,\n",
    "                                          loss=\"absolute_error\", criterion=\"squared_error\")"
   ]
  },
  {
   "cell_type": "code",
   "execution_count": 43,
   "id": "ac2f6292",
   "metadata": {},
   "outputs": [
    {
     "data": {
      "text/plain": [
       "7.481553117055558"
      ]
     },
     "execution_count": 43,
     "metadata": {},
     "output_type": "execute_result"
    }
   ],
   "source": [
    "final_grbt_reg_cv = cross_val_score(final_grbt_reg, X=X_train_clean, y=y_train, cv=3, scoring=mse_scorer)\n",
    "final_grbt_reg_cv.mean()"
   ]
  },
  {
   "cell_type": "code",
   "execution_count": 37,
   "id": "b70a94a2",
   "metadata": {},
   "outputs": [],
   "source": [
    "final_grbt_reg = GradientBoostingRegressor(n_estimators=1100, max_features=5, max_depth=10,\n",
    "                                          loss=\"absolute_error\", criterion=\"squared_error\")"
   ]
  },
  {
   "cell_type": "code",
   "execution_count": 38,
   "id": "fec65c29",
   "metadata": {},
   "outputs": [
    {
     "data": {
      "text/plain": [
       "7.319688106537701"
      ]
     },
     "execution_count": 38,
     "metadata": {},
     "output_type": "execute_result"
    }
   ],
   "source": [
    "final_grbt_reg_cv = cross_val_score(final_grbt_reg, X=X_train_clean, y=y_train, cv=3, scoring=mse_scorer)\n",
    "final_grbt_reg_cv.mean()"
   ]
  },
  {
   "cell_type": "markdown",
   "id": "ea8e7444",
   "metadata": {},
   "source": [
    "## All Fine-tuned Models"
   ]
  },
  {
   "cell_type": "code",
   "execution_count": 35,
   "id": "fab80fb2",
   "metadata": {},
   "outputs": [],
   "source": [
    "final_random_forest =RandomForestRegressor(ccp_alpha=0, criterion='squared_error', \n",
    "                                           max_features=\"sqrt\", max_depth=20, \n",
    "                                           min_samples_split=3, n_estimators=30, \n",
    "                                           n_jobs=-1)\n",
    "\n",
    "final_svm = SVR(C=800, epsilon=1, gamma=2, kernel=\"rbf\")\n",
    "\n",
    "final_ada_reg = AdaBoostRegressor(final_svm, n_estimators=10, loss=\"exponential\", learning_rate=0.3)\n",
    "\n",
    "final_grbt_reg = GradientBoostingRegressor(n_estimators=1100, max_features=5, max_depth=10,\n",
    "                                          loss=\"absolute_error\", criterion=\"squared_error\")\n",
    "voting_reg = VotingRegressor(estimators=[(\"random_forest\", final_random_forest),\n",
    "                                         (\"svm\", final_svm),\n",
    "                                         (\"adaBoost\", final_ada_reg),\n",
    "                                         (\"grbt\", final_grbt_reg)\n",
    "])\n"
   ]
  },
  {
   "cell_type": "code",
   "execution_count": 36,
   "id": "6fde3b7e",
   "metadata": {},
   "outputs": [
    {
     "data": {
      "text/html": [
       "<style>#sk-container-id-2 {color: black;background-color: white;}#sk-container-id-2 pre{padding: 0;}#sk-container-id-2 div.sk-toggleable {background-color: white;}#sk-container-id-2 label.sk-toggleable__label {cursor: pointer;display: block;width: 100%;margin-bottom: 0;padding: 0.3em;box-sizing: border-box;text-align: center;}#sk-container-id-2 label.sk-toggleable__label-arrow:before {content: \"▸\";float: left;margin-right: 0.25em;color: #696969;}#sk-container-id-2 label.sk-toggleable__label-arrow:hover:before {color: black;}#sk-container-id-2 div.sk-estimator:hover label.sk-toggleable__label-arrow:before {color: black;}#sk-container-id-2 div.sk-toggleable__content {max-height: 0;max-width: 0;overflow: hidden;text-align: left;background-color: #f0f8ff;}#sk-container-id-2 div.sk-toggleable__content pre {margin: 0.2em;color: black;border-radius: 0.25em;background-color: #f0f8ff;}#sk-container-id-2 input.sk-toggleable__control:checked~div.sk-toggleable__content {max-height: 200px;max-width: 100%;overflow: auto;}#sk-container-id-2 input.sk-toggleable__control:checked~label.sk-toggleable__label-arrow:before {content: \"▾\";}#sk-container-id-2 div.sk-estimator input.sk-toggleable__control:checked~label.sk-toggleable__label {background-color: #d4ebff;}#sk-container-id-2 div.sk-label input.sk-toggleable__control:checked~label.sk-toggleable__label {background-color: #d4ebff;}#sk-container-id-2 input.sk-hidden--visually {border: 0;clip: rect(1px 1px 1px 1px);clip: rect(1px, 1px, 1px, 1px);height: 1px;margin: -1px;overflow: hidden;padding: 0;position: absolute;width: 1px;}#sk-container-id-2 div.sk-estimator {font-family: monospace;background-color: #f0f8ff;border: 1px dotted black;border-radius: 0.25em;box-sizing: border-box;margin-bottom: 0.5em;}#sk-container-id-2 div.sk-estimator:hover {background-color: #d4ebff;}#sk-container-id-2 div.sk-parallel-item::after {content: \"\";width: 100%;border-bottom: 1px solid gray;flex-grow: 1;}#sk-container-id-2 div.sk-label:hover label.sk-toggleable__label {background-color: #d4ebff;}#sk-container-id-2 div.sk-serial::before {content: \"\";position: absolute;border-left: 1px solid gray;box-sizing: border-box;top: 0;bottom: 0;left: 50%;z-index: 0;}#sk-container-id-2 div.sk-serial {display: flex;flex-direction: column;align-items: center;background-color: white;padding-right: 0.2em;padding-left: 0.2em;position: relative;}#sk-container-id-2 div.sk-item {position: relative;z-index: 1;}#sk-container-id-2 div.sk-parallel {display: flex;align-items: stretch;justify-content: center;background-color: white;position: relative;}#sk-container-id-2 div.sk-item::before, #sk-container-id-2 div.sk-parallel-item::before {content: \"\";position: absolute;border-left: 1px solid gray;box-sizing: border-box;top: 0;bottom: 0;left: 50%;z-index: -1;}#sk-container-id-2 div.sk-parallel-item {display: flex;flex-direction: column;z-index: 1;position: relative;background-color: white;}#sk-container-id-2 div.sk-parallel-item:first-child::after {align-self: flex-end;width: 50%;}#sk-container-id-2 div.sk-parallel-item:last-child::after {align-self: flex-start;width: 50%;}#sk-container-id-2 div.sk-parallel-item:only-child::after {width: 0;}#sk-container-id-2 div.sk-dashed-wrapped {border: 1px dashed gray;margin: 0 0.4em 0.5em 0.4em;box-sizing: border-box;padding-bottom: 0.4em;background-color: white;}#sk-container-id-2 div.sk-label label {font-family: monospace;font-weight: bold;display: inline-block;line-height: 1.2em;}#sk-container-id-2 div.sk-label-container {text-align: center;}#sk-container-id-2 div.sk-container {/* jupyter's `normalize.less` sets `[hidden] { display: none; }` but bootstrap.min.css set `[hidden] { display: none !important; }` so we also need the `!important` here to be able to override the default hidden behavior on the sphinx rendered scikit-learn.org. See: https://github.com/scikit-learn/scikit-learn/issues/21755 */display: inline-block !important;position: relative;}#sk-container-id-2 div.sk-text-repr-fallback {display: none;}</style><div id=\"sk-container-id-2\" class=\"sk-top-container\"><div class=\"sk-text-repr-fallback\"><pre>VotingRegressor(estimators=[(&#x27;random_forest&#x27;,\n",
       "                             RandomForestRegressor(ccp_alpha=0, max_depth=20,\n",
       "                                                   max_features=&#x27;sqrt&#x27;,\n",
       "                                                   min_samples_split=3,\n",
       "                                                   n_estimators=30,\n",
       "                                                   n_jobs=-1)),\n",
       "                            (&#x27;svm&#x27;, SVR(C=800, epsilon=1, gamma=2)),\n",
       "                            (&#x27;adaBoost&#x27;,\n",
       "                             AdaBoostRegressor(estimator=SVR(C=800, epsilon=1,\n",
       "                                                             gamma=2),\n",
       "                                               learning_rate=0.3,\n",
       "                                               loss=&#x27;exponential&#x27;,\n",
       "                                               n_estimators=10)),\n",
       "                            (&#x27;grbt&#x27;,\n",
       "                             GradientBoostingRegressor(criterion=&#x27;squared_error&#x27;,\n",
       "                                                       loss=&#x27;absolute_error&#x27;,\n",
       "                                                       max_depth=10,\n",
       "                                                       max_features=5,\n",
       "                                                       n_estimators=1100))])</pre><b>In a Jupyter environment, please rerun this cell to show the HTML representation or trust the notebook. <br />On GitHub, the HTML representation is unable to render, please try loading this page with nbviewer.org.</b></div><div class=\"sk-container\" hidden><div class=\"sk-item sk-dashed-wrapped\"><div class=\"sk-label-container\"><div class=\"sk-label sk-toggleable\"><input class=\"sk-toggleable__control sk-hidden--visually\" id=\"sk-estimator-id-7\" type=\"checkbox\" ><label for=\"sk-estimator-id-7\" class=\"sk-toggleable__label sk-toggleable__label-arrow\">VotingRegressor</label><div class=\"sk-toggleable__content\"><pre>VotingRegressor(estimators=[(&#x27;random_forest&#x27;,\n",
       "                             RandomForestRegressor(ccp_alpha=0, max_depth=20,\n",
       "                                                   max_features=&#x27;sqrt&#x27;,\n",
       "                                                   min_samples_split=3,\n",
       "                                                   n_estimators=30,\n",
       "                                                   n_jobs=-1)),\n",
       "                            (&#x27;svm&#x27;, SVR(C=800, epsilon=1, gamma=2)),\n",
       "                            (&#x27;adaBoost&#x27;,\n",
       "                             AdaBoostRegressor(estimator=SVR(C=800, epsilon=1,\n",
       "                                                             gamma=2),\n",
       "                                               learning_rate=0.3,\n",
       "                                               loss=&#x27;exponential&#x27;,\n",
       "                                               n_estimators=10)),\n",
       "                            (&#x27;grbt&#x27;,\n",
       "                             GradientBoostingRegressor(criterion=&#x27;squared_error&#x27;,\n",
       "                                                       loss=&#x27;absolute_error&#x27;,\n",
       "                                                       max_depth=10,\n",
       "                                                       max_features=5,\n",
       "                                                       n_estimators=1100))])</pre></div></div></div><div class=\"sk-parallel\"><div class=\"sk-parallel-item\"><div class=\"sk-item\"><div class=\"sk-label-container\"><div class=\"sk-label sk-toggleable\"><label>random_forest</label></div></div><div class=\"sk-serial\"><div class=\"sk-item\"><div class=\"sk-estimator sk-toggleable\"><input class=\"sk-toggleable__control sk-hidden--visually\" id=\"sk-estimator-id-8\" type=\"checkbox\" ><label for=\"sk-estimator-id-8\" class=\"sk-toggleable__label sk-toggleable__label-arrow\">RandomForestRegressor</label><div class=\"sk-toggleable__content\"><pre>RandomForestRegressor(ccp_alpha=0, max_depth=20, max_features=&#x27;sqrt&#x27;,\n",
       "                      min_samples_split=3, n_estimators=30, n_jobs=-1)</pre></div></div></div></div></div></div><div class=\"sk-parallel-item\"><div class=\"sk-item\"><div class=\"sk-label-container\"><div class=\"sk-label sk-toggleable\"><label>svm</label></div></div><div class=\"sk-serial\"><div class=\"sk-item\"><div class=\"sk-estimator sk-toggleable\"><input class=\"sk-toggleable__control sk-hidden--visually\" id=\"sk-estimator-id-9\" type=\"checkbox\" ><label for=\"sk-estimator-id-9\" class=\"sk-toggleable__label sk-toggleable__label-arrow\">SVR</label><div class=\"sk-toggleable__content\"><pre>SVR(C=800, epsilon=1, gamma=2)</pre></div></div></div></div></div></div><div class=\"sk-parallel-item\"><div class=\"sk-item\"><div class=\"sk-label-container\"><div class=\"sk-label sk-toggleable\"><label>adaBoost</label></div></div><div class=\"sk-serial\"><div class=\"sk-item sk-dashed-wrapped\"><div class=\"sk-parallel\"><div class=\"sk-parallel-item\"><div class=\"sk-item\"><div class=\"sk-label-container\"><div class=\"sk-label sk-toggleable\"><input class=\"sk-toggleable__control sk-hidden--visually\" id=\"sk-estimator-id-10\" type=\"checkbox\" ><label for=\"sk-estimator-id-10\" class=\"sk-toggleable__label sk-toggleable__label-arrow\">estimator: SVR</label><div class=\"sk-toggleable__content\"><pre>SVR(C=800, epsilon=1, gamma=2)</pre></div></div></div><div class=\"sk-serial\"><div class=\"sk-item\"><div class=\"sk-estimator sk-toggleable\"><input class=\"sk-toggleable__control sk-hidden--visually\" id=\"sk-estimator-id-11\" type=\"checkbox\" ><label for=\"sk-estimator-id-11\" class=\"sk-toggleable__label sk-toggleable__label-arrow\">SVR</label><div class=\"sk-toggleable__content\"><pre>SVR(C=800, epsilon=1, gamma=2)</pre></div></div></div></div></div></div></div></div></div></div></div><div class=\"sk-parallel-item\"><div class=\"sk-item\"><div class=\"sk-label-container\"><div class=\"sk-label sk-toggleable\"><label>grbt</label></div></div><div class=\"sk-serial\"><div class=\"sk-item\"><div class=\"sk-estimator sk-toggleable\"><input class=\"sk-toggleable__control sk-hidden--visually\" id=\"sk-estimator-id-12\" type=\"checkbox\" ><label for=\"sk-estimator-id-12\" class=\"sk-toggleable__label sk-toggleable__label-arrow\">GradientBoostingRegressor</label><div class=\"sk-toggleable__content\"><pre>GradientBoostingRegressor(criterion=&#x27;squared_error&#x27;, loss=&#x27;absolute_error&#x27;,\n",
       "                          max_depth=10, max_features=5, n_estimators=1100)</pre></div></div></div></div></div></div></div></div></div></div>"
      ],
      "text/plain": [
       "VotingRegressor(estimators=[('random_forest',\n",
       "                             RandomForestRegressor(ccp_alpha=0, max_depth=20,\n",
       "                                                   max_features='sqrt',\n",
       "                                                   min_samples_split=3,\n",
       "                                                   n_estimators=30,\n",
       "                                                   n_jobs=-1)),\n",
       "                            ('svm', SVR(C=800, epsilon=1, gamma=2)),\n",
       "                            ('adaBoost',\n",
       "                             AdaBoostRegressor(estimator=SVR(C=800, epsilon=1,\n",
       "                                                             gamma=2),\n",
       "                                               learning_rate=0.3,\n",
       "                                               loss='exponential',\n",
       "                                               n_estimators=10)),\n",
       "                            ('grbt',\n",
       "                             GradientBoostingRegressor(criterion='squared_error',\n",
       "                                                       loss='absolute_error',\n",
       "                                                       max_depth=10,\n",
       "                                                       max_features=5,\n",
       "                                                       n_estimators=1100))])"
      ]
     },
     "execution_count": 36,
     "metadata": {},
     "output_type": "execute_result"
    }
   ],
   "source": [
    "final_random_forest.fit(X_train_clean, y_train)\n",
    "final_svm.fit(X_train_clean, y_train)\n",
    "final_ada_reg.fit(X_train_clean, y_train)\n",
    "final_grbt_reg.fit(X_train_clean, y_train)\n",
    "voting_reg.fit(X_train_clean, y_train)"
   ]
  },
  {
   "cell_type": "code",
   "execution_count": 37,
   "id": "a2ad1059",
   "metadata": {},
   "outputs": [
    {
     "data": {
      "text/plain": [
       "['trained_models/VotingReg.plk']"
      ]
     },
     "execution_count": 37,
     "metadata": {},
     "output_type": "execute_result"
    }
   ],
   "source": [
    "joblib.dump(final_random_forest, \"trained_models/RandomForest.plk\")\n",
    "joblib.dump(final_svm, \"trained_models/SVM.plk\")\n",
    "joblib.dump(final_ada_reg, \"trained_models/AdaBoost.plk\")\n",
    "joblib.dump(final_grbt_reg, \"trained_models/GradientBoost.plk\")\n",
    "joblib.dump(voting_reg, \"trained_models/VotingReg.plk\")"
   ]
  },
  {
   "cell_type": "markdown",
   "id": "1dd612cb",
   "metadata": {},
   "source": [
    "# Voting Classifier"
   ]
  },
  {
   "cell_type": "code",
   "execution_count": 17,
   "id": "0c99c792",
   "metadata": {},
   "outputs": [],
   "source": []
  },
  {
   "cell_type": "code",
   "execution_count": 131,
   "id": "e2f574f1",
   "metadata": {},
   "outputs": [
    {
     "data": {
      "text/plain": [
       "5.270647247786689"
      ]
     },
     "execution_count": 131,
     "metadata": {},
     "output_type": "execute_result"
    }
   ],
   "source": [
    "voting_reg_cv = cross_val_score(voting_reg, X=X_train_clean, y=y_train, cv=5, scoring=mse_scorer)\n",
    "voting_reg_cv.mean()"
   ]
  },
  {
   "cell_type": "markdown",
   "id": "37914d91",
   "metadata": {},
   "source": [
    "## Fine-tune Stack 1"
   ]
  },
  {
   "cell_type": "code",
   "execution_count": 19,
   "id": "966cc8f3",
   "metadata": {},
   "outputs": [],
   "source": [
    "rf_pred = final_random_forest.predict(X_train_clean)\n",
    "svm_pred = final_svm.predict(X_train_clean)\n",
    "ada_pred = final_ada_reg.predict(X_train_clean)\n",
    "grbt_pred = final_grbt_reg.predict(X_train_clean)"
   ]
  },
  {
   "cell_type": "code",
   "execution_count": 21,
   "id": "46e0187a",
   "metadata": {},
   "outputs": [
    {
     "data": {
      "text/html": [
       "<div>\n",
       "<style scoped>\n",
       "    .dataframe tbody tr th:only-of-type {\n",
       "        vertical-align: middle;\n",
       "    }\n",
       "\n",
       "    .dataframe tbody tr th {\n",
       "        vertical-align: top;\n",
       "    }\n",
       "\n",
       "    .dataframe thead th {\n",
       "        text-align: right;\n",
       "    }\n",
       "</style>\n",
       "<table border=\"1\" class=\"dataframe\">\n",
       "  <thead>\n",
       "    <tr style=\"text-align: right;\">\n",
       "      <th></th>\n",
       "      <th>random_forest</th>\n",
       "      <th>svm</th>\n",
       "      <th>ada_boost</th>\n",
       "      <th>gradient_boost</th>\n",
       "      <th>oxygen</th>\n",
       "    </tr>\n",
       "  </thead>\n",
       "  <tbody>\n",
       "    <tr>\n",
       "      <th>0</th>\n",
       "      <td>110.834714</td>\n",
       "      <td>110.556751</td>\n",
       "      <td>110.409815</td>\n",
       "      <td>110.980375</td>\n",
       "      <td>111.0</td>\n",
       "    </tr>\n",
       "    <tr>\n",
       "      <th>1</th>\n",
       "      <td>120.496278</td>\n",
       "      <td>120.446505</td>\n",
       "      <td>120.399774</td>\n",
       "      <td>121.416064</td>\n",
       "      <td>121.4</td>\n",
       "    </tr>\n",
       "    <tr>\n",
       "      <th>2</th>\n",
       "      <td>106.813346</td>\n",
       "      <td>107.078489</td>\n",
       "      <td>107.052083</td>\n",
       "      <td>106.849362</td>\n",
       "      <td>107.2</td>\n",
       "    </tr>\n",
       "    <tr>\n",
       "      <th>3</th>\n",
       "      <td>105.442652</td>\n",
       "      <td>104.699919</td>\n",
       "      <td>104.700178</td>\n",
       "      <td>105.230540</td>\n",
       "      <td>105.7</td>\n",
       "    </tr>\n",
       "    <tr>\n",
       "      <th>4</th>\n",
       "      <td>22.118611</td>\n",
       "      <td>0.499525</td>\n",
       "      <td>0.499803</td>\n",
       "      <td>1.497720</td>\n",
       "      <td>1.5</td>\n",
       "    </tr>\n",
       "  </tbody>\n",
       "</table>\n",
       "</div>"
      ],
      "text/plain": [
       "   random_forest         svm   ada_boost  gradient_boost  oxygen\n",
       "0     110.834714  110.556751  110.409815      110.980375   111.0\n",
       "1     120.496278  120.446505  120.399774      121.416064   121.4\n",
       "2     106.813346  107.078489  107.052083      106.849362   107.2\n",
       "3     105.442652  104.699919  104.700178      105.230540   105.7\n",
       "4      22.118611    0.499525    0.499803        1.497720     1.5"
      ]
     },
     "execution_count": 21,
     "metadata": {},
     "output_type": "execute_result"
    }
   ],
   "source": [
    "sub_pred_array = np.c_[rf_pred, svm_pred, ada_pred, grbt_pred, y_train.values]\n",
    "sub_pred_columns = [\"random_forest\", \"svm\", \"ada_boost\", \"gradient_boost\", \"oxygen\"]\n",
    "sub_pred_df = pd.DataFrame(sub_pred_array, columns=sub_pred_columns)\n",
    "sub_pred_df.head()"
   ]
  },
  {
   "cell_type": "code",
   "execution_count": 23,
   "id": "a6d09559",
   "metadata": {},
   "outputs": [],
   "source": [
    "sub_X_train, sub_y_train = sub_pred_df.iloc[:,:-1], sub_pred_df.iloc[:,-1]"
   ]
  },
  {
   "cell_type": "code",
   "execution_count": 26,
   "id": "2b0479d5",
   "metadata": {},
   "outputs": [],
   "source": [
    "sub_pred_df.to_csv(\"stacking_data.csv\", index=False)"
   ]
  },
  {
   "cell_type": "code",
   "execution_count": 28,
   "id": "cf26f78f",
   "metadata": {},
   "outputs": [],
   "source": [
    "sub_pred = pd.read_csv(\"stacking_data.csv\")\n",
    "sub_X_train, sub_y_train = sub_pred_df.iloc[:,:-1], sub_pred_df.iloc[:,-1]"
   ]
  },
  {
   "cell_type": "markdown",
   "id": "79783635",
   "metadata": {},
   "source": [
    "### Sub random forest"
   ]
  },
  {
   "cell_type": "code",
   "execution_count": 30,
   "id": "2616c769",
   "metadata": {},
   "outputs": [],
   "source": [
    "sub_random_forest = RandomForestRegressor()"
   ]
  },
  {
   "cell_type": "code",
   "execution_count": 34,
   "id": "7ccc81be",
   "metadata": {},
   "outputs": [
    {
     "data": {
      "text/plain": [
       "1.0175956340711771"
      ]
     },
     "execution_count": 34,
     "metadata": {},
     "output_type": "execute_result"
    }
   ],
   "source": [
    "cross_score=cross_val_score(sub_random_forest, cv=3, X=sub_X_train, y=sub_y_train, scoring=mse_scorer)\n",
    "cross_score.mean()"
   ]
  },
  {
   "cell_type": "code",
   "execution_count": 47,
   "id": "4e733272",
   "metadata": {},
   "outputs": [],
   "source": [
    "params = [{\"n_estimators\":[20, 15], \n",
    "           \"criterion\":[\"absolute_error\", \"friedman_mse\"],\n",
    "          \"max_depth\": [10, 7],\n",
    "          \"min_samples_split\": [2, 1],\n",
    "          \"max_features\": [3, 2, 5],\n",
    "          \"n_jobs\": [-1],\n",
    "          \"ccp_alpha\": [0],\n",
    "           \"bootstrap\": [False],\n",
    "          }]\n",
    "\n",
    "sub_forest_grid_search = GridSearchCV(sub_random_forest, cv=3, \n",
    "                                      param_grid = params, n_jobs=-1, \n",
    "                                      verbose=2, scoring=mse_scorer)"
   ]
  },
  {
   "cell_type": "code",
   "execution_count": 48,
   "id": "73f74393",
   "metadata": {},
   "outputs": [
    {
     "name": "stdout",
     "output_type": "stream",
     "text": [
      "Fitting 3 folds for each of 48 candidates, totalling 144 fits\n"
     ]
    },
    {
     "data": {
      "text/html": [
       "<style>#sk-container-id-5 {color: black;background-color: white;}#sk-container-id-5 pre{padding: 0;}#sk-container-id-5 div.sk-toggleable {background-color: white;}#sk-container-id-5 label.sk-toggleable__label {cursor: pointer;display: block;width: 100%;margin-bottom: 0;padding: 0.3em;box-sizing: border-box;text-align: center;}#sk-container-id-5 label.sk-toggleable__label-arrow:before {content: \"▸\";float: left;margin-right: 0.25em;color: #696969;}#sk-container-id-5 label.sk-toggleable__label-arrow:hover:before {color: black;}#sk-container-id-5 div.sk-estimator:hover label.sk-toggleable__label-arrow:before {color: black;}#sk-container-id-5 div.sk-toggleable__content {max-height: 0;max-width: 0;overflow: hidden;text-align: left;background-color: #f0f8ff;}#sk-container-id-5 div.sk-toggleable__content pre {margin: 0.2em;color: black;border-radius: 0.25em;background-color: #f0f8ff;}#sk-container-id-5 input.sk-toggleable__control:checked~div.sk-toggleable__content {max-height: 200px;max-width: 100%;overflow: auto;}#sk-container-id-5 input.sk-toggleable__control:checked~label.sk-toggleable__label-arrow:before {content: \"▾\";}#sk-container-id-5 div.sk-estimator input.sk-toggleable__control:checked~label.sk-toggleable__label {background-color: #d4ebff;}#sk-container-id-5 div.sk-label input.sk-toggleable__control:checked~label.sk-toggleable__label {background-color: #d4ebff;}#sk-container-id-5 input.sk-hidden--visually {border: 0;clip: rect(1px 1px 1px 1px);clip: rect(1px, 1px, 1px, 1px);height: 1px;margin: -1px;overflow: hidden;padding: 0;position: absolute;width: 1px;}#sk-container-id-5 div.sk-estimator {font-family: monospace;background-color: #f0f8ff;border: 1px dotted black;border-radius: 0.25em;box-sizing: border-box;margin-bottom: 0.5em;}#sk-container-id-5 div.sk-estimator:hover {background-color: #d4ebff;}#sk-container-id-5 div.sk-parallel-item::after {content: \"\";width: 100%;border-bottom: 1px solid gray;flex-grow: 1;}#sk-container-id-5 div.sk-label:hover label.sk-toggleable__label {background-color: #d4ebff;}#sk-container-id-5 div.sk-serial::before {content: \"\";position: absolute;border-left: 1px solid gray;box-sizing: border-box;top: 0;bottom: 0;left: 50%;z-index: 0;}#sk-container-id-5 div.sk-serial {display: flex;flex-direction: column;align-items: center;background-color: white;padding-right: 0.2em;padding-left: 0.2em;position: relative;}#sk-container-id-5 div.sk-item {position: relative;z-index: 1;}#sk-container-id-5 div.sk-parallel {display: flex;align-items: stretch;justify-content: center;background-color: white;position: relative;}#sk-container-id-5 div.sk-item::before, #sk-container-id-5 div.sk-parallel-item::before {content: \"\";position: absolute;border-left: 1px solid gray;box-sizing: border-box;top: 0;bottom: 0;left: 50%;z-index: -1;}#sk-container-id-5 div.sk-parallel-item {display: flex;flex-direction: column;z-index: 1;position: relative;background-color: white;}#sk-container-id-5 div.sk-parallel-item:first-child::after {align-self: flex-end;width: 50%;}#sk-container-id-5 div.sk-parallel-item:last-child::after {align-self: flex-start;width: 50%;}#sk-container-id-5 div.sk-parallel-item:only-child::after {width: 0;}#sk-container-id-5 div.sk-dashed-wrapped {border: 1px dashed gray;margin: 0 0.4em 0.5em 0.4em;box-sizing: border-box;padding-bottom: 0.4em;background-color: white;}#sk-container-id-5 div.sk-label label {font-family: monospace;font-weight: bold;display: inline-block;line-height: 1.2em;}#sk-container-id-5 div.sk-label-container {text-align: center;}#sk-container-id-5 div.sk-container {/* jupyter's `normalize.less` sets `[hidden] { display: none; }` but bootstrap.min.css set `[hidden] { display: none !important; }` so we also need the `!important` here to be able to override the default hidden behavior on the sphinx rendered scikit-learn.org. See: https://github.com/scikit-learn/scikit-learn/issues/21755 */display: inline-block !important;position: relative;}#sk-container-id-5 div.sk-text-repr-fallback {display: none;}</style><div id=\"sk-container-id-5\" class=\"sk-top-container\"><div class=\"sk-text-repr-fallback\"><pre>GridSearchCV(cv=3, estimator=RandomForestRegressor(), n_jobs=-1,\n",
       "             param_grid=[{&#x27;bootstrap&#x27;: [False], &#x27;ccp_alpha&#x27;: [0],\n",
       "                          &#x27;criterion&#x27;: [&#x27;absolute_error&#x27;, &#x27;friedman_mse&#x27;],\n",
       "                          &#x27;max_depth&#x27;: [10, 7], &#x27;max_features&#x27;: [3, 2, 5],\n",
       "                          &#x27;min_samples_split&#x27;: [2, 1], &#x27;n_estimators&#x27;: [20, 15],\n",
       "                          &#x27;n_jobs&#x27;: [-1]}],\n",
       "             scoring=make_scorer(mean_squared_error, squared=False), verbose=2)</pre><b>In a Jupyter environment, please rerun this cell to show the HTML representation or trust the notebook. <br />On GitHub, the HTML representation is unable to render, please try loading this page with nbviewer.org.</b></div><div class=\"sk-container\" hidden><div class=\"sk-item sk-dashed-wrapped\"><div class=\"sk-label-container\"><div class=\"sk-label sk-toggleable\"><input class=\"sk-toggleable__control sk-hidden--visually\" id=\"sk-estimator-id-11\" type=\"checkbox\" ><label for=\"sk-estimator-id-11\" class=\"sk-toggleable__label sk-toggleable__label-arrow\">GridSearchCV</label><div class=\"sk-toggleable__content\"><pre>GridSearchCV(cv=3, estimator=RandomForestRegressor(), n_jobs=-1,\n",
       "             param_grid=[{&#x27;bootstrap&#x27;: [False], &#x27;ccp_alpha&#x27;: [0],\n",
       "                          &#x27;criterion&#x27;: [&#x27;absolute_error&#x27;, &#x27;friedman_mse&#x27;],\n",
       "                          &#x27;max_depth&#x27;: [10, 7], &#x27;max_features&#x27;: [3, 2, 5],\n",
       "                          &#x27;min_samples_split&#x27;: [2, 1], &#x27;n_estimators&#x27;: [20, 15],\n",
       "                          &#x27;n_jobs&#x27;: [-1]}],\n",
       "             scoring=make_scorer(mean_squared_error, squared=False), verbose=2)</pre></div></div></div><div class=\"sk-parallel\"><div class=\"sk-parallel-item\"><div class=\"sk-item\"><div class=\"sk-label-container\"><div class=\"sk-label sk-toggleable\"><input class=\"sk-toggleable__control sk-hidden--visually\" id=\"sk-estimator-id-12\" type=\"checkbox\" ><label for=\"sk-estimator-id-12\" class=\"sk-toggleable__label sk-toggleable__label-arrow\">estimator: RandomForestRegressor</label><div class=\"sk-toggleable__content\"><pre>RandomForestRegressor()</pre></div></div></div><div class=\"sk-serial\"><div class=\"sk-item\"><div class=\"sk-estimator sk-toggleable\"><input class=\"sk-toggleable__control sk-hidden--visually\" id=\"sk-estimator-id-13\" type=\"checkbox\" ><label for=\"sk-estimator-id-13\" class=\"sk-toggleable__label sk-toggleable__label-arrow\">RandomForestRegressor</label><div class=\"sk-toggleable__content\"><pre>RandomForestRegressor()</pre></div></div></div></div></div></div></div></div></div></div>"
      ],
      "text/plain": [
       "GridSearchCV(cv=3, estimator=RandomForestRegressor(), n_jobs=-1,\n",
       "             param_grid=[{'bootstrap': [False], 'ccp_alpha': [0],\n",
       "                          'criterion': ['absolute_error', 'friedman_mse'],\n",
       "                          'max_depth': [10, 7], 'max_features': [3, 2, 5],\n",
       "                          'min_samples_split': [2, 1], 'n_estimators': [20, 15],\n",
       "                          'n_jobs': [-1]}],\n",
       "             scoring=make_scorer(mean_squared_error, squared=False), verbose=2)"
      ]
     },
     "execution_count": 48,
     "metadata": {},
     "output_type": "execute_result"
    }
   ],
   "source": [
    "sub_forest_grid_search.fit(sub_X_train, sub_y_train)"
   ]
  },
  {
   "cell_type": "code",
   "execution_count": 49,
   "id": "fb1d0f03",
   "metadata": {},
   "outputs": [
    {
     "data": {
      "text/html": [
       "<div>\n",
       "<style scoped>\n",
       "    .dataframe tbody tr th:only-of-type {\n",
       "        vertical-align: middle;\n",
       "    }\n",
       "\n",
       "    .dataframe tbody tr th {\n",
       "        vertical-align: top;\n",
       "    }\n",
       "\n",
       "    .dataframe thead th {\n",
       "        text-align: right;\n",
       "    }\n",
       "</style>\n",
       "<table border=\"1\" class=\"dataframe\">\n",
       "  <thead>\n",
       "    <tr style=\"text-align: right;\">\n",
       "      <th></th>\n",
       "      <th>mean_fit_time</th>\n",
       "      <th>std_fit_time</th>\n",
       "      <th>mean_score_time</th>\n",
       "      <th>std_score_time</th>\n",
       "      <th>param_bootstrap</th>\n",
       "      <th>param_ccp_alpha</th>\n",
       "      <th>param_criterion</th>\n",
       "      <th>param_max_depth</th>\n",
       "      <th>param_max_features</th>\n",
       "      <th>param_min_samples_split</th>\n",
       "      <th>param_n_estimators</th>\n",
       "      <th>param_n_jobs</th>\n",
       "      <th>params</th>\n",
       "      <th>split0_test_score</th>\n",
       "      <th>split1_test_score</th>\n",
       "      <th>split2_test_score</th>\n",
       "      <th>mean_test_score</th>\n",
       "      <th>std_test_score</th>\n",
       "      <th>rank_test_score</th>\n",
       "    </tr>\n",
       "  </thead>\n",
       "  <tbody>\n",
       "    <tr>\n",
       "      <th>26</th>\n",
       "      <td>0.272489</td>\n",
       "      <td>0.015962</td>\n",
       "      <td>0.078122</td>\n",
       "      <td>0.012757</td>\n",
       "      <td>False</td>\n",
       "      <td>0</td>\n",
       "      <td>friedman_mse</td>\n",
       "      <td>10</td>\n",
       "      <td>3</td>\n",
       "      <td>1</td>\n",
       "      <td>20</td>\n",
       "      <td>-1</td>\n",
       "      <td>{'bootstrap': False, 'ccp_alpha': 0, 'criterio...</td>\n",
       "      <td>1.031215</td>\n",
       "      <td>1.228839</td>\n",
       "      <td>0.894714</td>\n",
       "      <td>1.051589</td>\n",
       "      <td>0.137165</td>\n",
       "      <td>48</td>\n",
       "    </tr>\n",
       "    <tr>\n",
       "      <th>25</th>\n",
       "      <td>0.296508</td>\n",
       "      <td>0.103947</td>\n",
       "      <td>0.131561</td>\n",
       "      <td>0.015780</td>\n",
       "      <td>False</td>\n",
       "      <td>0</td>\n",
       "      <td>friedman_mse</td>\n",
       "      <td>10</td>\n",
       "      <td>3</td>\n",
       "      <td>2</td>\n",
       "      <td>15</td>\n",
       "      <td>-1</td>\n",
       "      <td>{'bootstrap': False, 'ccp_alpha': 0, 'criterio...</td>\n",
       "      <td>1.092656</td>\n",
       "      <td>1.273897</td>\n",
       "      <td>0.846569</td>\n",
       "      <td>1.071041</td>\n",
       "      <td>0.175124</td>\n",
       "      <td>47</td>\n",
       "    </tr>\n",
       "    <tr>\n",
       "      <th>3</th>\n",
       "      <td>4.491948</td>\n",
       "      <td>0.337113</td>\n",
       "      <td>1.044410</td>\n",
       "      <td>0.630794</td>\n",
       "      <td>False</td>\n",
       "      <td>0</td>\n",
       "      <td>absolute_error</td>\n",
       "      <td>10</td>\n",
       "      <td>3</td>\n",
       "      <td>1</td>\n",
       "      <td>15</td>\n",
       "      <td>-1</td>\n",
       "      <td>{'bootstrap': False, 'ccp_alpha': 0, 'criterio...</td>\n",
       "      <td>1.107645</td>\n",
       "      <td>1.158406</td>\n",
       "      <td>0.958340</td>\n",
       "      <td>1.074797</td>\n",
       "      <td>0.084915</td>\n",
       "      <td>46</td>\n",
       "    </tr>\n",
       "  </tbody>\n",
       "</table>\n",
       "</div>"
      ],
      "text/plain": [
       "    mean_fit_time  std_fit_time  mean_score_time  std_score_time  \\\n",
       "26       0.272489      0.015962         0.078122        0.012757   \n",
       "25       0.296508      0.103947         0.131561        0.015780   \n",
       "3        4.491948      0.337113         1.044410        0.630794   \n",
       "\n",
       "   param_bootstrap param_ccp_alpha param_criterion param_max_depth  \\\n",
       "26           False               0    friedman_mse              10   \n",
       "25           False               0    friedman_mse              10   \n",
       "3            False               0  absolute_error              10   \n",
       "\n",
       "   param_max_features param_min_samples_split param_n_estimators param_n_jobs  \\\n",
       "26                  3                       1                 20           -1   \n",
       "25                  3                       2                 15           -1   \n",
       "3                   3                       1                 15           -1   \n",
       "\n",
       "                                               params  split0_test_score  \\\n",
       "26  {'bootstrap': False, 'ccp_alpha': 0, 'criterio...           1.031215   \n",
       "25  {'bootstrap': False, 'ccp_alpha': 0, 'criterio...           1.092656   \n",
       "3   {'bootstrap': False, 'ccp_alpha': 0, 'criterio...           1.107645   \n",
       "\n",
       "    split1_test_score  split2_test_score  mean_test_score  std_test_score  \\\n",
       "26           1.228839           0.894714         1.051589        0.137165   \n",
       "25           1.273897           0.846569         1.071041        0.175124   \n",
       "3            1.158406           0.958340         1.074797        0.084915   \n",
       "\n",
       "    rank_test_score  \n",
       "26               48  \n",
       "25               47  \n",
       "3                46  "
      ]
     },
     "execution_count": 49,
     "metadata": {},
     "output_type": "execute_result"
    }
   ],
   "source": [
    "sub_forest_grid_result = sub_forest_grid_search.cv_results_\n",
    "pd.DataFrame(sub_forest_grid_result).sort_values(by=\"mean_test_score\").head(3)"
   ]
  },
  {
   "cell_type": "code",
   "execution_count": 54,
   "id": "1137d2d4",
   "metadata": {},
   "outputs": [
    {
     "data": {
      "text/html": [
       "<style>#sk-container-id-7 {color: black;background-color: white;}#sk-container-id-7 pre{padding: 0;}#sk-container-id-7 div.sk-toggleable {background-color: white;}#sk-container-id-7 label.sk-toggleable__label {cursor: pointer;display: block;width: 100%;margin-bottom: 0;padding: 0.3em;box-sizing: border-box;text-align: center;}#sk-container-id-7 label.sk-toggleable__label-arrow:before {content: \"▸\";float: left;margin-right: 0.25em;color: #696969;}#sk-container-id-7 label.sk-toggleable__label-arrow:hover:before {color: black;}#sk-container-id-7 div.sk-estimator:hover label.sk-toggleable__label-arrow:before {color: black;}#sk-container-id-7 div.sk-toggleable__content {max-height: 0;max-width: 0;overflow: hidden;text-align: left;background-color: #f0f8ff;}#sk-container-id-7 div.sk-toggleable__content pre {margin: 0.2em;color: black;border-radius: 0.25em;background-color: #f0f8ff;}#sk-container-id-7 input.sk-toggleable__control:checked~div.sk-toggleable__content {max-height: 200px;max-width: 100%;overflow: auto;}#sk-container-id-7 input.sk-toggleable__control:checked~label.sk-toggleable__label-arrow:before {content: \"▾\";}#sk-container-id-7 div.sk-estimator input.sk-toggleable__control:checked~label.sk-toggleable__label {background-color: #d4ebff;}#sk-container-id-7 div.sk-label input.sk-toggleable__control:checked~label.sk-toggleable__label {background-color: #d4ebff;}#sk-container-id-7 input.sk-hidden--visually {border: 0;clip: rect(1px 1px 1px 1px);clip: rect(1px, 1px, 1px, 1px);height: 1px;margin: -1px;overflow: hidden;padding: 0;position: absolute;width: 1px;}#sk-container-id-7 div.sk-estimator {font-family: monospace;background-color: #f0f8ff;border: 1px dotted black;border-radius: 0.25em;box-sizing: border-box;margin-bottom: 0.5em;}#sk-container-id-7 div.sk-estimator:hover {background-color: #d4ebff;}#sk-container-id-7 div.sk-parallel-item::after {content: \"\";width: 100%;border-bottom: 1px solid gray;flex-grow: 1;}#sk-container-id-7 div.sk-label:hover label.sk-toggleable__label {background-color: #d4ebff;}#sk-container-id-7 div.sk-serial::before {content: \"\";position: absolute;border-left: 1px solid gray;box-sizing: border-box;top: 0;bottom: 0;left: 50%;z-index: 0;}#sk-container-id-7 div.sk-serial {display: flex;flex-direction: column;align-items: center;background-color: white;padding-right: 0.2em;padding-left: 0.2em;position: relative;}#sk-container-id-7 div.sk-item {position: relative;z-index: 1;}#sk-container-id-7 div.sk-parallel {display: flex;align-items: stretch;justify-content: center;background-color: white;position: relative;}#sk-container-id-7 div.sk-item::before, #sk-container-id-7 div.sk-parallel-item::before {content: \"\";position: absolute;border-left: 1px solid gray;box-sizing: border-box;top: 0;bottom: 0;left: 50%;z-index: -1;}#sk-container-id-7 div.sk-parallel-item {display: flex;flex-direction: column;z-index: 1;position: relative;background-color: white;}#sk-container-id-7 div.sk-parallel-item:first-child::after {align-self: flex-end;width: 50%;}#sk-container-id-7 div.sk-parallel-item:last-child::after {align-self: flex-start;width: 50%;}#sk-container-id-7 div.sk-parallel-item:only-child::after {width: 0;}#sk-container-id-7 div.sk-dashed-wrapped {border: 1px dashed gray;margin: 0 0.4em 0.5em 0.4em;box-sizing: border-box;padding-bottom: 0.4em;background-color: white;}#sk-container-id-7 div.sk-label label {font-family: monospace;font-weight: bold;display: inline-block;line-height: 1.2em;}#sk-container-id-7 div.sk-label-container {text-align: center;}#sk-container-id-7 div.sk-container {/* jupyter's `normalize.less` sets `[hidden] { display: none; }` but bootstrap.min.css set `[hidden] { display: none !important; }` so we also need the `!important` here to be able to override the default hidden behavior on the sphinx rendered scikit-learn.org. See: https://github.com/scikit-learn/scikit-learn/issues/21755 */display: inline-block !important;position: relative;}#sk-container-id-7 div.sk-text-repr-fallback {display: none;}</style><div id=\"sk-container-id-7\" class=\"sk-top-container\"><div class=\"sk-text-repr-fallback\"><pre>StackingRegressor(estimators=[(&#x27;random_forest&#x27;,\n",
       "                               RandomForestRegressor(ccp_alpha=0, max_depth=20,\n",
       "                                                     max_features=&#x27;sqrt&#x27;,\n",
       "                                                     min_samples_split=3,\n",
       "                                                     n_estimators=30,\n",
       "                                                     n_jobs=-1)),\n",
       "                              (&#x27;svm&#x27;, SVR(C=800, epsilon=1, gamma=2)),\n",
       "                              (&#x27;adaBoost&#x27;,\n",
       "                               AdaBoostRegressor(estimator=SVR(C=800, epsilon=1,\n",
       "                                                               gamma=2),\n",
       "                                                 learning_rate=0.3,\n",
       "                                                 loss=&#x27;exponential&#x27;,\n",
       "                                                 n_estimators=10)),\n",
       "                              (&#x27;grbt&#x27;,\n",
       "                               GradientBoostingRegressor(criterion=&#x27;squared_error&#x27;,\n",
       "                                                         loss=&#x27;absolute_error&#x27;,\n",
       "                                                         max_depth=10,\n",
       "                                                         max_features=5,\n",
       "                                                         n_estimators=1100))],\n",
       "                  final_estimator=RandomForestRegressor(bootstrap=False,\n",
       "                                                        criterion=&#x27;friedman_mse&#x27;,\n",
       "                                                        max_depth=10,\n",
       "                                                        max_features=3,\n",
       "                                                        min_samples_split=1,\n",
       "                                                        n_estimators=20,\n",
       "                                                        n_jobs=-1))</pre><b>In a Jupyter environment, please rerun this cell to show the HTML representation or trust the notebook. <br />On GitHub, the HTML representation is unable to render, please try loading this page with nbviewer.org.</b></div><div class=\"sk-container\" hidden><div class=\"sk-item sk-dashed-wrapped\"><div class=\"sk-label-container\"><div class=\"sk-label sk-toggleable\"><input class=\"sk-toggleable__control sk-hidden--visually\" id=\"sk-estimator-id-21\" type=\"checkbox\" ><label for=\"sk-estimator-id-21\" class=\"sk-toggleable__label sk-toggleable__label-arrow\">StackingRegressor</label><div class=\"sk-toggleable__content\"><pre>StackingRegressor(estimators=[(&#x27;random_forest&#x27;,\n",
       "                               RandomForestRegressor(ccp_alpha=0, max_depth=20,\n",
       "                                                     max_features=&#x27;sqrt&#x27;,\n",
       "                                                     min_samples_split=3,\n",
       "                                                     n_estimators=30,\n",
       "                                                     n_jobs=-1)),\n",
       "                              (&#x27;svm&#x27;, SVR(C=800, epsilon=1, gamma=2)),\n",
       "                              (&#x27;adaBoost&#x27;,\n",
       "                               AdaBoostRegressor(estimator=SVR(C=800, epsilon=1,\n",
       "                                                               gamma=2),\n",
       "                                                 learning_rate=0.3,\n",
       "                                                 loss=&#x27;exponential&#x27;,\n",
       "                                                 n_estimators=10)),\n",
       "                              (&#x27;grbt&#x27;,\n",
       "                               GradientBoostingRegressor(criterion=&#x27;squared_error&#x27;,\n",
       "                                                         loss=&#x27;absolute_error&#x27;,\n",
       "                                                         max_depth=10,\n",
       "                                                         max_features=5,\n",
       "                                                         n_estimators=1100))],\n",
       "                  final_estimator=RandomForestRegressor(bootstrap=False,\n",
       "                                                        criterion=&#x27;friedman_mse&#x27;,\n",
       "                                                        max_depth=10,\n",
       "                                                        max_features=3,\n",
       "                                                        min_samples_split=1,\n",
       "                                                        n_estimators=20,\n",
       "                                                        n_jobs=-1))</pre></div></div></div><div class=\"sk-serial\"><div class=\"sk-item\"><div class=\"sk-parallel\"><div class=\"sk-parallel-item\"><div class=\"sk-item\"><div class=\"sk-label-container\"><div class=\"sk-label sk-toggleable\"><label>random_forest</label></div></div><div class=\"sk-serial\"><div class=\"sk-item\"><div class=\"sk-estimator sk-toggleable\"><input class=\"sk-toggleable__control sk-hidden--visually\" id=\"sk-estimator-id-22\" type=\"checkbox\" ><label for=\"sk-estimator-id-22\" class=\"sk-toggleable__label sk-toggleable__label-arrow\">RandomForestRegressor</label><div class=\"sk-toggleable__content\"><pre>RandomForestRegressor(ccp_alpha=0, max_depth=20, max_features=&#x27;sqrt&#x27;,\n",
       "                      min_samples_split=3, n_estimators=30, n_jobs=-1)</pre></div></div></div></div></div></div><div class=\"sk-parallel-item\"><div class=\"sk-item\"><div class=\"sk-label-container\"><div class=\"sk-label sk-toggleable\"><label>svm</label></div></div><div class=\"sk-serial\"><div class=\"sk-item\"><div class=\"sk-estimator sk-toggleable\"><input class=\"sk-toggleable__control sk-hidden--visually\" id=\"sk-estimator-id-23\" type=\"checkbox\" ><label for=\"sk-estimator-id-23\" class=\"sk-toggleable__label sk-toggleable__label-arrow\">SVR</label><div class=\"sk-toggleable__content\"><pre>SVR(C=800, epsilon=1, gamma=2)</pre></div></div></div></div></div></div><div class=\"sk-parallel-item\"><div class=\"sk-item\"><div class=\"sk-label-container\"><div class=\"sk-label sk-toggleable\"><label>adaBoost</label></div></div><div class=\"sk-serial\"><div class=\"sk-item sk-dashed-wrapped\"><div class=\"sk-parallel\"><div class=\"sk-parallel-item\"><div class=\"sk-item\"><div class=\"sk-label-container\"><div class=\"sk-label sk-toggleable\"><input class=\"sk-toggleable__control sk-hidden--visually\" id=\"sk-estimator-id-24\" type=\"checkbox\" ><label for=\"sk-estimator-id-24\" class=\"sk-toggleable__label sk-toggleable__label-arrow\">estimator: SVR</label><div class=\"sk-toggleable__content\"><pre>SVR(C=800, epsilon=1, gamma=2)</pre></div></div></div><div class=\"sk-serial\"><div class=\"sk-item\"><div class=\"sk-estimator sk-toggleable\"><input class=\"sk-toggleable__control sk-hidden--visually\" id=\"sk-estimator-id-25\" type=\"checkbox\" ><label for=\"sk-estimator-id-25\" class=\"sk-toggleable__label sk-toggleable__label-arrow\">SVR</label><div class=\"sk-toggleable__content\"><pre>SVR(C=800, epsilon=1, gamma=2)</pre></div></div></div></div></div></div></div></div></div></div></div><div class=\"sk-parallel-item\"><div class=\"sk-item\"><div class=\"sk-label-container\"><div class=\"sk-label sk-toggleable\"><label>grbt</label></div></div><div class=\"sk-serial\"><div class=\"sk-item\"><div class=\"sk-estimator sk-toggleable\"><input class=\"sk-toggleable__control sk-hidden--visually\" id=\"sk-estimator-id-26\" type=\"checkbox\" ><label for=\"sk-estimator-id-26\" class=\"sk-toggleable__label sk-toggleable__label-arrow\">GradientBoostingRegressor</label><div class=\"sk-toggleable__content\"><pre>GradientBoostingRegressor(criterion=&#x27;squared_error&#x27;, loss=&#x27;absolute_error&#x27;,\n",
       "                          max_depth=10, max_features=5, n_estimators=1100)</pre></div></div></div></div></div></div></div></div><div class=\"sk-item\"><div class=\"sk-parallel\"><div class=\"sk-parallel-item\"><div class=\"sk-item\"><div class=\"sk-label-container\"><div class=\"sk-label sk-toggleable\"><label>final_estimator</label></div></div><div class=\"sk-serial\"><div class=\"sk-item\"><div class=\"sk-estimator sk-toggleable\"><input class=\"sk-toggleable__control sk-hidden--visually\" id=\"sk-estimator-id-27\" type=\"checkbox\" ><label for=\"sk-estimator-id-27\" class=\"sk-toggleable__label sk-toggleable__label-arrow\">RandomForestRegressor</label><div class=\"sk-toggleable__content\"><pre>RandomForestRegressor(bootstrap=False, criterion=&#x27;friedman_mse&#x27;, max_depth=10,\n",
       "                      max_features=3, min_samples_split=1, n_estimators=20,\n",
       "                      n_jobs=-1)</pre></div></div></div></div></div></div></div></div></div></div></div></div>"
      ],
      "text/plain": [
       "StackingRegressor(estimators=[('random_forest',\n",
       "                               RandomForestRegressor(ccp_alpha=0, max_depth=20,\n",
       "                                                     max_features='sqrt',\n",
       "                                                     min_samples_split=3,\n",
       "                                                     n_estimators=30,\n",
       "                                                     n_jobs=-1)),\n",
       "                              ('svm', SVR(C=800, epsilon=1, gamma=2)),\n",
       "                              ('adaBoost',\n",
       "                               AdaBoostRegressor(estimator=SVR(C=800, epsilon=1,\n",
       "                                                               gamma=2),\n",
       "                                                 learning_rate=0.3,\n",
       "                                                 loss='exponential',\n",
       "                                                 n_estimators=10)),\n",
       "                              ('grbt',\n",
       "                               GradientBoostingRegressor(criterion='squared_error',\n",
       "                                                         loss='absolute_error',\n",
       "                                                         max_depth=10,\n",
       "                                                         max_features=5,\n",
       "                                                         n_estimators=1100))],\n",
       "                  final_estimator=RandomForestRegressor(bootstrap=False,\n",
       "                                                        criterion='friedman_mse',\n",
       "                                                        max_depth=10,\n",
       "                                                        max_features=3,\n",
       "                                                        min_samples_split=1,\n",
       "                                                        n_estimators=20,\n",
       "                                                        n_jobs=-1))"
      ]
     },
     "execution_count": 54,
     "metadata": {},
     "output_type": "execute_result"
    }
   ],
   "source": [
    "estimators = [\n",
    "    (\"random_forest\", final_random_forest),\n",
    "    (\"svm\", final_svm),\n",
    "    (\"adaBoost\", final_ada_reg),\n",
    "    (\"grbt\", final_grbt_reg)\n",
    "]\n",
    "\n",
    "stacking_regressor_1_1 = StackingRegressor(estimators=estimators, \n",
    "                                       final_estimator=RandomForestRegressor(n_estimators=20,\n",
    "                                                                            n_jobs=-1, min_samples_split=1,\n",
    "                                                                            max_features=3, max_depth=10,\n",
    "                                                                            criterion=\"friedman_mse\", bootstrap=False,\n",
    "                                                                            ))\n",
    "stacking_regressor"
   ]
  },
  {
   "cell_type": "code",
   "execution_count": 56,
   "id": "749c007d",
   "metadata": {},
   "outputs": [
    {
     "data": {
      "text/plain": [
       "5.5602338526116775"
      ]
     },
     "execution_count": 56,
     "metadata": {},
     "output_type": "execute_result"
    }
   ],
   "source": [
    "cross_score=cross_val_score(stacking_regressor_1_1, cv=3, X=X_train_clean, y=y_train, scoring=mse_scorer)\n",
    "cross_score.mean()"
   ]
  },
  {
   "cell_type": "code",
   "execution_count": 67,
   "id": "c6eedb7b",
   "metadata": {},
   "outputs": [
    {
     "data": {
      "text/html": [
       "<style>#sk-container-id-8 {color: black;background-color: white;}#sk-container-id-8 pre{padding: 0;}#sk-container-id-8 div.sk-toggleable {background-color: white;}#sk-container-id-8 label.sk-toggleable__label {cursor: pointer;display: block;width: 100%;margin-bottom: 0;padding: 0.3em;box-sizing: border-box;text-align: center;}#sk-container-id-8 label.sk-toggleable__label-arrow:before {content: \"▸\";float: left;margin-right: 0.25em;color: #696969;}#sk-container-id-8 label.sk-toggleable__label-arrow:hover:before {color: black;}#sk-container-id-8 div.sk-estimator:hover label.sk-toggleable__label-arrow:before {color: black;}#sk-container-id-8 div.sk-toggleable__content {max-height: 0;max-width: 0;overflow: hidden;text-align: left;background-color: #f0f8ff;}#sk-container-id-8 div.sk-toggleable__content pre {margin: 0.2em;color: black;border-radius: 0.25em;background-color: #f0f8ff;}#sk-container-id-8 input.sk-toggleable__control:checked~div.sk-toggleable__content {max-height: 200px;max-width: 100%;overflow: auto;}#sk-container-id-8 input.sk-toggleable__control:checked~label.sk-toggleable__label-arrow:before {content: \"▾\";}#sk-container-id-8 div.sk-estimator input.sk-toggleable__control:checked~label.sk-toggleable__label {background-color: #d4ebff;}#sk-container-id-8 div.sk-label input.sk-toggleable__control:checked~label.sk-toggleable__label {background-color: #d4ebff;}#sk-container-id-8 input.sk-hidden--visually {border: 0;clip: rect(1px 1px 1px 1px);clip: rect(1px, 1px, 1px, 1px);height: 1px;margin: -1px;overflow: hidden;padding: 0;position: absolute;width: 1px;}#sk-container-id-8 div.sk-estimator {font-family: monospace;background-color: #f0f8ff;border: 1px dotted black;border-radius: 0.25em;box-sizing: border-box;margin-bottom: 0.5em;}#sk-container-id-8 div.sk-estimator:hover {background-color: #d4ebff;}#sk-container-id-8 div.sk-parallel-item::after {content: \"\";width: 100%;border-bottom: 1px solid gray;flex-grow: 1;}#sk-container-id-8 div.sk-label:hover label.sk-toggleable__label {background-color: #d4ebff;}#sk-container-id-8 div.sk-serial::before {content: \"\";position: absolute;border-left: 1px solid gray;box-sizing: border-box;top: 0;bottom: 0;left: 50%;z-index: 0;}#sk-container-id-8 div.sk-serial {display: flex;flex-direction: column;align-items: center;background-color: white;padding-right: 0.2em;padding-left: 0.2em;position: relative;}#sk-container-id-8 div.sk-item {position: relative;z-index: 1;}#sk-container-id-8 div.sk-parallel {display: flex;align-items: stretch;justify-content: center;background-color: white;position: relative;}#sk-container-id-8 div.sk-item::before, #sk-container-id-8 div.sk-parallel-item::before {content: \"\";position: absolute;border-left: 1px solid gray;box-sizing: border-box;top: 0;bottom: 0;left: 50%;z-index: -1;}#sk-container-id-8 div.sk-parallel-item {display: flex;flex-direction: column;z-index: 1;position: relative;background-color: white;}#sk-container-id-8 div.sk-parallel-item:first-child::after {align-self: flex-end;width: 50%;}#sk-container-id-8 div.sk-parallel-item:last-child::after {align-self: flex-start;width: 50%;}#sk-container-id-8 div.sk-parallel-item:only-child::after {width: 0;}#sk-container-id-8 div.sk-dashed-wrapped {border: 1px dashed gray;margin: 0 0.4em 0.5em 0.4em;box-sizing: border-box;padding-bottom: 0.4em;background-color: white;}#sk-container-id-8 div.sk-label label {font-family: monospace;font-weight: bold;display: inline-block;line-height: 1.2em;}#sk-container-id-8 div.sk-label-container {text-align: center;}#sk-container-id-8 div.sk-container {/* jupyter's `normalize.less` sets `[hidden] { display: none; }` but bootstrap.min.css set `[hidden] { display: none !important; }` so we also need the `!important` here to be able to override the default hidden behavior on the sphinx rendered scikit-learn.org. See: https://github.com/scikit-learn/scikit-learn/issues/21755 */display: inline-block !important;position: relative;}#sk-container-id-8 div.sk-text-repr-fallback {display: none;}</style><div id=\"sk-container-id-8\" class=\"sk-top-container\"><div class=\"sk-text-repr-fallback\"><pre>StackingRegressor(estimators=[(&#x27;random_forest&#x27;,\n",
       "                               RandomForestRegressor(ccp_alpha=0, max_depth=20,\n",
       "                                                     max_features=&#x27;sqrt&#x27;,\n",
       "                                                     min_samples_split=3,\n",
       "                                                     n_estimators=30,\n",
       "                                                     n_jobs=-1)),\n",
       "                              (&#x27;svm&#x27;, SVR(C=800, epsilon=1, gamma=2)),\n",
       "                              (&#x27;adaBoost&#x27;,\n",
       "                               AdaBoostRegressor(estimator=SVR(C=800, epsilon=1,\n",
       "                                                               gamma=2),\n",
       "                                                 learning_rate=0.3,\n",
       "                                                 loss=&#x27;exponential&#x27;,\n",
       "                                                 n_estimators=10)),\n",
       "                              (&#x27;grbt&#x27;,\n",
       "                               GradientBoostingRegressor(criterion=&#x27;squared_error&#x27;,\n",
       "                                                         loss=&#x27;absolute_error&#x27;,\n",
       "                                                         max_depth=10,\n",
       "                                                         max_features=5,\n",
       "                                                         n_estimators=1100))],\n",
       "                  final_estimator=RandomForestRegressor(bootstrap=False,\n",
       "                                                        criterion=&#x27;friedman_mse&#x27;,\n",
       "                                                        max_depth=10,\n",
       "                                                        max_features=3,\n",
       "                                                        min_samples_split=1,\n",
       "                                                        n_estimators=20,\n",
       "                                                        n_jobs=-1))</pre><b>In a Jupyter environment, please rerun this cell to show the HTML representation or trust the notebook. <br />On GitHub, the HTML representation is unable to render, please try loading this page with nbviewer.org.</b></div><div class=\"sk-container\" hidden><div class=\"sk-item sk-dashed-wrapped\"><div class=\"sk-label-container\"><div class=\"sk-label sk-toggleable\"><input class=\"sk-toggleable__control sk-hidden--visually\" id=\"sk-estimator-id-28\" type=\"checkbox\" ><label for=\"sk-estimator-id-28\" class=\"sk-toggleable__label sk-toggleable__label-arrow\">StackingRegressor</label><div class=\"sk-toggleable__content\"><pre>StackingRegressor(estimators=[(&#x27;random_forest&#x27;,\n",
       "                               RandomForestRegressor(ccp_alpha=0, max_depth=20,\n",
       "                                                     max_features=&#x27;sqrt&#x27;,\n",
       "                                                     min_samples_split=3,\n",
       "                                                     n_estimators=30,\n",
       "                                                     n_jobs=-1)),\n",
       "                              (&#x27;svm&#x27;, SVR(C=800, epsilon=1, gamma=2)),\n",
       "                              (&#x27;adaBoost&#x27;,\n",
       "                               AdaBoostRegressor(estimator=SVR(C=800, epsilon=1,\n",
       "                                                               gamma=2),\n",
       "                                                 learning_rate=0.3,\n",
       "                                                 loss=&#x27;exponential&#x27;,\n",
       "                                                 n_estimators=10)),\n",
       "                              (&#x27;grbt&#x27;,\n",
       "                               GradientBoostingRegressor(criterion=&#x27;squared_error&#x27;,\n",
       "                                                         loss=&#x27;absolute_error&#x27;,\n",
       "                                                         max_depth=10,\n",
       "                                                         max_features=5,\n",
       "                                                         n_estimators=1100))],\n",
       "                  final_estimator=RandomForestRegressor(bootstrap=False,\n",
       "                                                        criterion=&#x27;friedman_mse&#x27;,\n",
       "                                                        max_depth=10,\n",
       "                                                        max_features=3,\n",
       "                                                        min_samples_split=1,\n",
       "                                                        n_estimators=20,\n",
       "                                                        n_jobs=-1))</pre></div></div></div><div class=\"sk-serial\"><div class=\"sk-item\"><div class=\"sk-parallel\"><div class=\"sk-parallel-item\"><div class=\"sk-item\"><div class=\"sk-label-container\"><div class=\"sk-label sk-toggleable\"><label>random_forest</label></div></div><div class=\"sk-serial\"><div class=\"sk-item\"><div class=\"sk-estimator sk-toggleable\"><input class=\"sk-toggleable__control sk-hidden--visually\" id=\"sk-estimator-id-29\" type=\"checkbox\" ><label for=\"sk-estimator-id-29\" class=\"sk-toggleable__label sk-toggleable__label-arrow\">RandomForestRegressor</label><div class=\"sk-toggleable__content\"><pre>RandomForestRegressor(ccp_alpha=0, max_depth=20, max_features=&#x27;sqrt&#x27;,\n",
       "                      min_samples_split=3, n_estimators=30, n_jobs=-1)</pre></div></div></div></div></div></div><div class=\"sk-parallel-item\"><div class=\"sk-item\"><div class=\"sk-label-container\"><div class=\"sk-label sk-toggleable\"><label>svm</label></div></div><div class=\"sk-serial\"><div class=\"sk-item\"><div class=\"sk-estimator sk-toggleable\"><input class=\"sk-toggleable__control sk-hidden--visually\" id=\"sk-estimator-id-30\" type=\"checkbox\" ><label for=\"sk-estimator-id-30\" class=\"sk-toggleable__label sk-toggleable__label-arrow\">SVR</label><div class=\"sk-toggleable__content\"><pre>SVR(C=800, epsilon=1, gamma=2)</pre></div></div></div></div></div></div><div class=\"sk-parallel-item\"><div class=\"sk-item\"><div class=\"sk-label-container\"><div class=\"sk-label sk-toggleable\"><label>adaBoost</label></div></div><div class=\"sk-serial\"><div class=\"sk-item sk-dashed-wrapped\"><div class=\"sk-parallel\"><div class=\"sk-parallel-item\"><div class=\"sk-item\"><div class=\"sk-label-container\"><div class=\"sk-label sk-toggleable\"><input class=\"sk-toggleable__control sk-hidden--visually\" id=\"sk-estimator-id-31\" type=\"checkbox\" ><label for=\"sk-estimator-id-31\" class=\"sk-toggleable__label sk-toggleable__label-arrow\">estimator: SVR</label><div class=\"sk-toggleable__content\"><pre>SVR(C=800, epsilon=1, gamma=2)</pre></div></div></div><div class=\"sk-serial\"><div class=\"sk-item\"><div class=\"sk-estimator sk-toggleable\"><input class=\"sk-toggleable__control sk-hidden--visually\" id=\"sk-estimator-id-32\" type=\"checkbox\" ><label for=\"sk-estimator-id-32\" class=\"sk-toggleable__label sk-toggleable__label-arrow\">SVR</label><div class=\"sk-toggleable__content\"><pre>SVR(C=800, epsilon=1, gamma=2)</pre></div></div></div></div></div></div></div></div></div></div></div><div class=\"sk-parallel-item\"><div class=\"sk-item\"><div class=\"sk-label-container\"><div class=\"sk-label sk-toggleable\"><label>grbt</label></div></div><div class=\"sk-serial\"><div class=\"sk-item\"><div class=\"sk-estimator sk-toggleable\"><input class=\"sk-toggleable__control sk-hidden--visually\" id=\"sk-estimator-id-33\" type=\"checkbox\" ><label for=\"sk-estimator-id-33\" class=\"sk-toggleable__label sk-toggleable__label-arrow\">GradientBoostingRegressor</label><div class=\"sk-toggleable__content\"><pre>GradientBoostingRegressor(criterion=&#x27;squared_error&#x27;, loss=&#x27;absolute_error&#x27;,\n",
       "                          max_depth=10, max_features=5, n_estimators=1100)</pre></div></div></div></div></div></div></div></div><div class=\"sk-item\"><div class=\"sk-parallel\"><div class=\"sk-parallel-item\"><div class=\"sk-item\"><div class=\"sk-label-container\"><div class=\"sk-label sk-toggleable\"><label>final_estimator</label></div></div><div class=\"sk-serial\"><div class=\"sk-item\"><div class=\"sk-estimator sk-toggleable\"><input class=\"sk-toggleable__control sk-hidden--visually\" id=\"sk-estimator-id-34\" type=\"checkbox\" ><label for=\"sk-estimator-id-34\" class=\"sk-toggleable__label sk-toggleable__label-arrow\">RandomForestRegressor</label><div class=\"sk-toggleable__content\"><pre>RandomForestRegressor(bootstrap=False, criterion=&#x27;friedman_mse&#x27;, max_depth=10,\n",
       "                      max_features=3, min_samples_split=1, n_estimators=20,\n",
       "                      n_jobs=-1)</pre></div></div></div></div></div></div></div></div></div></div></div></div>"
      ],
      "text/plain": [
       "StackingRegressor(estimators=[('random_forest',\n",
       "                               RandomForestRegressor(ccp_alpha=0, max_depth=20,\n",
       "                                                     max_features='sqrt',\n",
       "                                                     min_samples_split=3,\n",
       "                                                     n_estimators=30,\n",
       "                                                     n_jobs=-1)),\n",
       "                              ('svm', SVR(C=800, epsilon=1, gamma=2)),\n",
       "                              ('adaBoost',\n",
       "                               AdaBoostRegressor(estimator=SVR(C=800, epsilon=1,\n",
       "                                                               gamma=2),\n",
       "                                                 learning_rate=0.3,\n",
       "                                                 loss='exponential',\n",
       "                                                 n_estimators=10)),\n",
       "                              ('grbt',\n",
       "                               GradientBoostingRegressor(criterion='squared_error',\n",
       "                                                         loss='absolute_error',\n",
       "                                                         max_depth=10,\n",
       "                                                         max_features=5,\n",
       "                                                         n_estimators=1100))],\n",
       "                  final_estimator=RandomForestRegressor(bootstrap=False,\n",
       "                                                        criterion='friedman_mse',\n",
       "                                                        max_depth=10,\n",
       "                                                        max_features=3,\n",
       "                                                        min_samples_split=1,\n",
       "                                                        n_estimators=20,\n",
       "                                                        n_jobs=-1))"
      ]
     },
     "execution_count": 67,
     "metadata": {},
     "output_type": "execute_result"
    }
   ],
   "source": [
    "stacking_regressor_1_1.fit(X_train_clean, y_train)"
   ]
  },
  {
   "cell_type": "code",
   "execution_count": 70,
   "id": "8455d689",
   "metadata": {},
   "outputs": [
    {
     "data": {
      "text/plain": [
       "['trained_models/Stack1.plk']"
      ]
     },
     "execution_count": 70,
     "metadata": {},
     "output_type": "execute_result"
    }
   ],
   "source": [
    "joblib.dump(stacking_regressor_1_1, \"trained_models/Stack1.plk\")"
   ]
  },
  {
   "cell_type": "markdown",
   "id": "68dc8003",
   "metadata": {},
   "source": [
    "## Fine-tune stack 2"
   ]
  },
  {
   "cell_type": "code",
   "execution_count": 23,
   "id": "dacd0eab",
   "metadata": {},
   "outputs": [],
   "source": [
    "# get cross validation prediction of all the models\n",
    "random_forest_cv_pred = cross_val_predict(final_random_forest, X=X_train_clean, y=y_train,method=\"predict\")\n",
    "svm_cv_pred = cross_val_predict(final_svm, X=X_train_clean, y=y_train, method=\"predict\")\n",
    "ada_pred = cross_val_predict(final_ada_reg, X=X_train_clean, y=y_train, method=\"predict\")\n",
    "grbt_cv_pred = cross_val_predict(final_grbt_reg, X=X_train_clean, y=y_train, method=\"predict\")\n",
    "\n",
    "#create data to train the blender for stacking ensembler\n",
    "blender_X_train = np.c_[random_forest_cv_pred, svm_cv_pred, ada_pred, grbt_cv_pred]\n",
    "columns = [\"random_forest\", \"svm\", \"ada_boost\", \"grbt\"]\n",
    "blender_data = pd.DataFrame(blender_X_train, columns=columns)\n",
    "\n",
    "blender_data.to_csv(\"blender_data1.csv\", index=False) # save blender data to csv"
   ]
  },
  {
   "cell_type": "code",
   "execution_count": 19,
   "id": "d6904ba7",
   "metadata": {},
   "outputs": [],
   "source": [
    "blender_data=pd.read_csv(\"blender_data1.csv\")"
   ]
  },
  {
   "cell_type": "code",
   "execution_count": 20,
   "id": "82aaa448",
   "metadata": {},
   "outputs": [],
   "source": [
    "random_forest_blender = RandomForestRegressor()"
   ]
  },
  {
   "cell_type": "code",
   "execution_count": 37,
   "id": "9191ad8f",
   "metadata": {},
   "outputs": [
    {
     "data": {
      "text/plain": [
       "4.760093471426114"
      ]
     },
     "execution_count": 37,
     "metadata": {},
     "output_type": "execute_result"
    }
   ],
   "source": [
    "cross_score = cross_val_score(random_forest_blender, X=blender_data, y=y_train, cv=3, scoring=mse_scorer)\n",
    "cross_score.mean()"
   ]
  },
  {
   "cell_type": "code",
   "execution_count": 106,
   "id": "86b0e8a1",
   "metadata": {},
   "outputs": [],
   "source": [
    "# Fine-tune the Blender\n",
    "\n",
    "params = [{\"n_estimators\":[80, 100], \n",
    "           \"criterion\":[\"absolute_error\", \"friedman_mse\", \"squared_error\"],\n",
    "           \"max_depth\": [10, 7], \n",
    "           \"min_samples_split\": [3, 2, 1], \n",
    "           \"max_features\": [3, 2, 1], \n",
    "           \"n_jobs\": [-1], \n",
    "           \"ccp_alpha\": [0], \n",
    "           \"bootstrap\": [False, True],\n",
    "           \"max_samples\":[50,100]\n",
    "          }]\n",
    "\n",
    "params2 = [{\"n_estimators\":[5000], \n",
    "           \"criterion\":[\"friedman_mse\", ],\n",
    "           \"max_depth\": [100, 200], \n",
    "           \"min_samples_split\": [2, 8], \n",
    "           \"max_features\": [1,2], \n",
    "           \"n_jobs\": [-1], \n",
    "           \"ccp_alpha\": [0], \n",
    "           \"bootstrap\": [True],\n",
    "           \"max_samples\":[2000]\n",
    "          }]\n",
    "\n",
    "random_forest_blender_grid_search = GridSearchCV(random_forest_blender, \n",
    "                                                 cv=3, \n",
    "                                                 param_grid=params2, \n",
    "                                                 n_jobs=-1, \n",
    "                                                 verbose=2,\n",
    "                                                 scoring=mse_scorer)\n",
    "# increase max_features and max_samples, reduce max_depth"
   ]
  },
  {
   "cell_type": "code",
   "execution_count": 107,
   "id": "a882cf7a",
   "metadata": {},
   "outputs": [
    {
     "name": "stdout",
     "output_type": "stream",
     "text": [
      "Fitting 3 folds for each of 8 candidates, totalling 24 fits\n"
     ]
    },
    {
     "data": {
      "text/html": [
       "<style>#sk-container-id-20 {color: black;background-color: white;}#sk-container-id-20 pre{padding: 0;}#sk-container-id-20 div.sk-toggleable {background-color: white;}#sk-container-id-20 label.sk-toggleable__label {cursor: pointer;display: block;width: 100%;margin-bottom: 0;padding: 0.3em;box-sizing: border-box;text-align: center;}#sk-container-id-20 label.sk-toggleable__label-arrow:before {content: \"▸\";float: left;margin-right: 0.25em;color: #696969;}#sk-container-id-20 label.sk-toggleable__label-arrow:hover:before {color: black;}#sk-container-id-20 div.sk-estimator:hover label.sk-toggleable__label-arrow:before {color: black;}#sk-container-id-20 div.sk-toggleable__content {max-height: 0;max-width: 0;overflow: hidden;text-align: left;background-color: #f0f8ff;}#sk-container-id-20 div.sk-toggleable__content pre {margin: 0.2em;color: black;border-radius: 0.25em;background-color: #f0f8ff;}#sk-container-id-20 input.sk-toggleable__control:checked~div.sk-toggleable__content {max-height: 200px;max-width: 100%;overflow: auto;}#sk-container-id-20 input.sk-toggleable__control:checked~label.sk-toggleable__label-arrow:before {content: \"▾\";}#sk-container-id-20 div.sk-estimator input.sk-toggleable__control:checked~label.sk-toggleable__label {background-color: #d4ebff;}#sk-container-id-20 div.sk-label input.sk-toggleable__control:checked~label.sk-toggleable__label {background-color: #d4ebff;}#sk-container-id-20 input.sk-hidden--visually {border: 0;clip: rect(1px 1px 1px 1px);clip: rect(1px, 1px, 1px, 1px);height: 1px;margin: -1px;overflow: hidden;padding: 0;position: absolute;width: 1px;}#sk-container-id-20 div.sk-estimator {font-family: monospace;background-color: #f0f8ff;border: 1px dotted black;border-radius: 0.25em;box-sizing: border-box;margin-bottom: 0.5em;}#sk-container-id-20 div.sk-estimator:hover {background-color: #d4ebff;}#sk-container-id-20 div.sk-parallel-item::after {content: \"\";width: 100%;border-bottom: 1px solid gray;flex-grow: 1;}#sk-container-id-20 div.sk-label:hover label.sk-toggleable__label {background-color: #d4ebff;}#sk-container-id-20 div.sk-serial::before {content: \"\";position: absolute;border-left: 1px solid gray;box-sizing: border-box;top: 0;bottom: 0;left: 50%;z-index: 0;}#sk-container-id-20 div.sk-serial {display: flex;flex-direction: column;align-items: center;background-color: white;padding-right: 0.2em;padding-left: 0.2em;position: relative;}#sk-container-id-20 div.sk-item {position: relative;z-index: 1;}#sk-container-id-20 div.sk-parallel {display: flex;align-items: stretch;justify-content: center;background-color: white;position: relative;}#sk-container-id-20 div.sk-item::before, #sk-container-id-20 div.sk-parallel-item::before {content: \"\";position: absolute;border-left: 1px solid gray;box-sizing: border-box;top: 0;bottom: 0;left: 50%;z-index: -1;}#sk-container-id-20 div.sk-parallel-item {display: flex;flex-direction: column;z-index: 1;position: relative;background-color: white;}#sk-container-id-20 div.sk-parallel-item:first-child::after {align-self: flex-end;width: 50%;}#sk-container-id-20 div.sk-parallel-item:last-child::after {align-self: flex-start;width: 50%;}#sk-container-id-20 div.sk-parallel-item:only-child::after {width: 0;}#sk-container-id-20 div.sk-dashed-wrapped {border: 1px dashed gray;margin: 0 0.4em 0.5em 0.4em;box-sizing: border-box;padding-bottom: 0.4em;background-color: white;}#sk-container-id-20 div.sk-label label {font-family: monospace;font-weight: bold;display: inline-block;line-height: 1.2em;}#sk-container-id-20 div.sk-label-container {text-align: center;}#sk-container-id-20 div.sk-container {/* jupyter's `normalize.less` sets `[hidden] { display: none; }` but bootstrap.min.css set `[hidden] { display: none !important; }` so we also need the `!important` here to be able to override the default hidden behavior on the sphinx rendered scikit-learn.org. See: https://github.com/scikit-learn/scikit-learn/issues/21755 */display: inline-block !important;position: relative;}#sk-container-id-20 div.sk-text-repr-fallback {display: none;}</style><div id=\"sk-container-id-20\" class=\"sk-top-container\"><div class=\"sk-text-repr-fallback\"><pre>GridSearchCV(cv=3, estimator=RandomForestRegressor(), n_jobs=-1,\n",
       "             param_grid=[{&#x27;bootstrap&#x27;: [True], &#x27;ccp_alpha&#x27;: [0],\n",
       "                          &#x27;criterion&#x27;: [&#x27;friedman_mse&#x27;],\n",
       "                          &#x27;max_depth&#x27;: [100, 200], &#x27;max_features&#x27;: [1, 2],\n",
       "                          &#x27;max_samples&#x27;: [2000], &#x27;min_samples_split&#x27;: [2, 8],\n",
       "                          &#x27;n_estimators&#x27;: [5000], &#x27;n_jobs&#x27;: [-1]}],\n",
       "             scoring=make_scorer(mean_squared_error, squared=False), verbose=2)</pre><b>In a Jupyter environment, please rerun this cell to show the HTML representation or trust the notebook. <br />On GitHub, the HTML representation is unable to render, please try loading this page with nbviewer.org.</b></div><div class=\"sk-container\" hidden><div class=\"sk-item sk-dashed-wrapped\"><div class=\"sk-label-container\"><div class=\"sk-label sk-toggleable\"><input class=\"sk-toggleable__control sk-hidden--visually\" id=\"sk-estimator-id-58\" type=\"checkbox\" ><label for=\"sk-estimator-id-58\" class=\"sk-toggleable__label sk-toggleable__label-arrow\">GridSearchCV</label><div class=\"sk-toggleable__content\"><pre>GridSearchCV(cv=3, estimator=RandomForestRegressor(), n_jobs=-1,\n",
       "             param_grid=[{&#x27;bootstrap&#x27;: [True], &#x27;ccp_alpha&#x27;: [0],\n",
       "                          &#x27;criterion&#x27;: [&#x27;friedman_mse&#x27;],\n",
       "                          &#x27;max_depth&#x27;: [100, 200], &#x27;max_features&#x27;: [1, 2],\n",
       "                          &#x27;max_samples&#x27;: [2000], &#x27;min_samples_split&#x27;: [2, 8],\n",
       "                          &#x27;n_estimators&#x27;: [5000], &#x27;n_jobs&#x27;: [-1]}],\n",
       "             scoring=make_scorer(mean_squared_error, squared=False), verbose=2)</pre></div></div></div><div class=\"sk-parallel\"><div class=\"sk-parallel-item\"><div class=\"sk-item\"><div class=\"sk-label-container\"><div class=\"sk-label sk-toggleable\"><input class=\"sk-toggleable__control sk-hidden--visually\" id=\"sk-estimator-id-59\" type=\"checkbox\" ><label for=\"sk-estimator-id-59\" class=\"sk-toggleable__label sk-toggleable__label-arrow\">estimator: RandomForestRegressor</label><div class=\"sk-toggleable__content\"><pre>RandomForestRegressor()</pre></div></div></div><div class=\"sk-serial\"><div class=\"sk-item\"><div class=\"sk-estimator sk-toggleable\"><input class=\"sk-toggleable__control sk-hidden--visually\" id=\"sk-estimator-id-60\" type=\"checkbox\" ><label for=\"sk-estimator-id-60\" class=\"sk-toggleable__label sk-toggleable__label-arrow\">RandomForestRegressor</label><div class=\"sk-toggleable__content\"><pre>RandomForestRegressor()</pre></div></div></div></div></div></div></div></div></div></div>"
      ],
      "text/plain": [
       "GridSearchCV(cv=3, estimator=RandomForestRegressor(), n_jobs=-1,\n",
       "             param_grid=[{'bootstrap': [True], 'ccp_alpha': [0],\n",
       "                          'criterion': ['friedman_mse'],\n",
       "                          'max_depth': [100, 200], 'max_features': [1, 2],\n",
       "                          'max_samples': [2000], 'min_samples_split': [2, 8],\n",
       "                          'n_estimators': [5000], 'n_jobs': [-1]}],\n",
       "             scoring=make_scorer(mean_squared_error, squared=False), verbose=2)"
      ]
     },
     "execution_count": 107,
     "metadata": {},
     "output_type": "execute_result"
    }
   ],
   "source": [
    "random_forest_blender_grid_search.fit(blender_data, y_train)"
   ]
  },
  {
   "cell_type": "code",
   "execution_count": 108,
   "id": "fd869ea5",
   "metadata": {},
   "outputs": [
    {
     "data": {
      "text/html": [
       "<div>\n",
       "<style scoped>\n",
       "    .dataframe tbody tr th:only-of-type {\n",
       "        vertical-align: middle;\n",
       "    }\n",
       "\n",
       "    .dataframe tbody tr th {\n",
       "        vertical-align: top;\n",
       "    }\n",
       "\n",
       "    .dataframe thead th {\n",
       "        text-align: right;\n",
       "    }\n",
       "</style>\n",
       "<table border=\"1\" class=\"dataframe\">\n",
       "  <thead>\n",
       "    <tr style=\"text-align: right;\">\n",
       "      <th></th>\n",
       "      <th>mean_fit_time</th>\n",
       "      <th>std_fit_time</th>\n",
       "      <th>mean_score_time</th>\n",
       "      <th>std_score_time</th>\n",
       "      <th>param_bootstrap</th>\n",
       "      <th>param_ccp_alpha</th>\n",
       "      <th>param_criterion</th>\n",
       "      <th>param_max_depth</th>\n",
       "      <th>param_max_features</th>\n",
       "      <th>param_max_samples</th>\n",
       "      <th>param_min_samples_split</th>\n",
       "      <th>param_n_estimators</th>\n",
       "      <th>param_n_jobs</th>\n",
       "      <th>params</th>\n",
       "      <th>split0_test_score</th>\n",
       "      <th>split1_test_score</th>\n",
       "      <th>split2_test_score</th>\n",
       "      <th>mean_test_score</th>\n",
       "      <th>std_test_score</th>\n",
       "      <th>rank_test_score</th>\n",
       "    </tr>\n",
       "  </thead>\n",
       "  <tbody>\n",
       "    <tr>\n",
       "      <th>4</th>\n",
       "      <td>70.171920</td>\n",
       "      <td>1.196871</td>\n",
       "      <td>3.958152</td>\n",
       "      <td>0.626315</td>\n",
       "      <td>True</td>\n",
       "      <td>0</td>\n",
       "      <td>friedman_mse</td>\n",
       "      <td>200</td>\n",
       "      <td>1</td>\n",
       "      <td>2000</td>\n",
       "      <td>2</td>\n",
       "      <td>5000</td>\n",
       "      <td>-1</td>\n",
       "      <td>{'bootstrap': True, 'ccp_alpha': 0, 'criterion...</td>\n",
       "      <td>4.708354</td>\n",
       "      <td>4.035841</td>\n",
       "      <td>4.490389</td>\n",
       "      <td>4.411528</td>\n",
       "      <td>0.280158</td>\n",
       "      <td>8</td>\n",
       "    </tr>\n",
       "    <tr>\n",
       "      <th>0</th>\n",
       "      <td>72.858223</td>\n",
       "      <td>0.570566</td>\n",
       "      <td>2.567590</td>\n",
       "      <td>0.261859</td>\n",
       "      <td>True</td>\n",
       "      <td>0</td>\n",
       "      <td>friedman_mse</td>\n",
       "      <td>100</td>\n",
       "      <td>1</td>\n",
       "      <td>2000</td>\n",
       "      <td>2</td>\n",
       "      <td>5000</td>\n",
       "      <td>-1</td>\n",
       "      <td>{'bootstrap': True, 'ccp_alpha': 0, 'criterion...</td>\n",
       "      <td>4.723450</td>\n",
       "      <td>4.018497</td>\n",
       "      <td>4.515765</td>\n",
       "      <td>4.419237</td>\n",
       "      <td>0.295779</td>\n",
       "      <td>7</td>\n",
       "    </tr>\n",
       "    <tr>\n",
       "      <th>5</th>\n",
       "      <td>57.717438</td>\n",
       "      <td>2.732298</td>\n",
       "      <td>3.564757</td>\n",
       "      <td>0.692632</td>\n",
       "      <td>True</td>\n",
       "      <td>0</td>\n",
       "      <td>friedman_mse</td>\n",
       "      <td>200</td>\n",
       "      <td>1</td>\n",
       "      <td>2000</td>\n",
       "      <td>8</td>\n",
       "      <td>5000</td>\n",
       "      <td>-1</td>\n",
       "      <td>{'bootstrap': True, 'ccp_alpha': 0, 'criterion...</td>\n",
       "      <td>4.789727</td>\n",
       "      <td>3.999457</td>\n",
       "      <td>4.585211</td>\n",
       "      <td>4.458132</td>\n",
       "      <td>0.334906</td>\n",
       "      <td>6</td>\n",
       "    </tr>\n",
       "  </tbody>\n",
       "</table>\n",
       "</div>"
      ],
      "text/plain": [
       "   mean_fit_time  std_fit_time  mean_score_time  std_score_time  \\\n",
       "4      70.171920      1.196871         3.958152        0.626315   \n",
       "0      72.858223      0.570566         2.567590        0.261859   \n",
       "5      57.717438      2.732298         3.564757        0.692632   \n",
       "\n",
       "  param_bootstrap param_ccp_alpha param_criterion param_max_depth  \\\n",
       "4            True               0    friedman_mse             200   \n",
       "0            True               0    friedman_mse             100   \n",
       "5            True               0    friedman_mse             200   \n",
       "\n",
       "  param_max_features param_max_samples param_min_samples_split  \\\n",
       "4                  1              2000                       2   \n",
       "0                  1              2000                       2   \n",
       "5                  1              2000                       8   \n",
       "\n",
       "  param_n_estimators param_n_jobs  \\\n",
       "4               5000           -1   \n",
       "0               5000           -1   \n",
       "5               5000           -1   \n",
       "\n",
       "                                              params  split0_test_score  \\\n",
       "4  {'bootstrap': True, 'ccp_alpha': 0, 'criterion...           4.708354   \n",
       "0  {'bootstrap': True, 'ccp_alpha': 0, 'criterion...           4.723450   \n",
       "5  {'bootstrap': True, 'ccp_alpha': 0, 'criterion...           4.789727   \n",
       "\n",
       "   split1_test_score  split2_test_score  mean_test_score  std_test_score  \\\n",
       "4           4.035841           4.490389         4.411528        0.280158   \n",
       "0           4.018497           4.515765         4.419237        0.295779   \n",
       "5           3.999457           4.585211         4.458132        0.334906   \n",
       "\n",
       "   rank_test_score  \n",
       "4                8  \n",
       "0                7  \n",
       "5                6  "
      ]
     },
     "execution_count": 108,
     "metadata": {},
     "output_type": "execute_result"
    }
   ],
   "source": [
    "random_forest_blender_grid_results = random_forest_blender_grid_search.cv_results_\n",
    "pd.DataFrame(random_forest_blender_grid_results).sort_values(by=\"mean_test_score\", ascending=True).head(3)"
   ]
  },
  {
   "cell_type": "code",
   "execution_count": null,
   "id": "dad76bcf",
   "metadata": {},
   "outputs": [],
   "source": []
  },
  {
   "cell_type": "code",
   "execution_count": 17,
   "id": "6b52e621",
   "metadata": {},
   "outputs": [],
   "source": [
    "final_random_forest_blender = RandomForestRegressor(n_estimators=5000, \n",
    "                                                    min_samples_split=2,\n",
    "                                                   n_jobs=-1,\n",
    "                                                   max_samples=2000,\n",
    "                                                   max_features=1,\n",
    "                                                   max_depth=200,\n",
    "                                                   criterion=\"friedman_mse\",\n",
    "                                                   bootstrap=True,\n",
    "                                                   ccp_alpha=0)"
   ]
  },
  {
   "cell_type": "code",
   "execution_count": 22,
   "id": "04d10f7c",
   "metadata": {},
   "outputs": [
    {
     "data": {
      "text/plain": [
       "4.416756014061174"
      ]
     },
     "execution_count": 22,
     "metadata": {},
     "output_type": "execute_result"
    }
   ],
   "source": [
    "cross_score = cross_val_score(final_random_forest_blender, X=blender_data, y=y_train, cv=3, scoring=mse_scorer)\n",
    "cross_score.mean()"
   ]
  },
  {
   "cell_type": "code",
   "execution_count": 20,
   "id": "c52db072",
   "metadata": {},
   "outputs": [
    {
     "data": {
      "text/html": [
       "<style>#sk-container-id-1 {color: black;background-color: white;}#sk-container-id-1 pre{padding: 0;}#sk-container-id-1 div.sk-toggleable {background-color: white;}#sk-container-id-1 label.sk-toggleable__label {cursor: pointer;display: block;width: 100%;margin-bottom: 0;padding: 0.3em;box-sizing: border-box;text-align: center;}#sk-container-id-1 label.sk-toggleable__label-arrow:before {content: \"▸\";float: left;margin-right: 0.25em;color: #696969;}#sk-container-id-1 label.sk-toggleable__label-arrow:hover:before {color: black;}#sk-container-id-1 div.sk-estimator:hover label.sk-toggleable__label-arrow:before {color: black;}#sk-container-id-1 div.sk-toggleable__content {max-height: 0;max-width: 0;overflow: hidden;text-align: left;background-color: #f0f8ff;}#sk-container-id-1 div.sk-toggleable__content pre {margin: 0.2em;color: black;border-radius: 0.25em;background-color: #f0f8ff;}#sk-container-id-1 input.sk-toggleable__control:checked~div.sk-toggleable__content {max-height: 200px;max-width: 100%;overflow: auto;}#sk-container-id-1 input.sk-toggleable__control:checked~label.sk-toggleable__label-arrow:before {content: \"▾\";}#sk-container-id-1 div.sk-estimator input.sk-toggleable__control:checked~label.sk-toggleable__label {background-color: #d4ebff;}#sk-container-id-1 div.sk-label input.sk-toggleable__control:checked~label.sk-toggleable__label {background-color: #d4ebff;}#sk-container-id-1 input.sk-hidden--visually {border: 0;clip: rect(1px 1px 1px 1px);clip: rect(1px, 1px, 1px, 1px);height: 1px;margin: -1px;overflow: hidden;padding: 0;position: absolute;width: 1px;}#sk-container-id-1 div.sk-estimator {font-family: monospace;background-color: #f0f8ff;border: 1px dotted black;border-radius: 0.25em;box-sizing: border-box;margin-bottom: 0.5em;}#sk-container-id-1 div.sk-estimator:hover {background-color: #d4ebff;}#sk-container-id-1 div.sk-parallel-item::after {content: \"\";width: 100%;border-bottom: 1px solid gray;flex-grow: 1;}#sk-container-id-1 div.sk-label:hover label.sk-toggleable__label {background-color: #d4ebff;}#sk-container-id-1 div.sk-serial::before {content: \"\";position: absolute;border-left: 1px solid gray;box-sizing: border-box;top: 0;bottom: 0;left: 50%;z-index: 0;}#sk-container-id-1 div.sk-serial {display: flex;flex-direction: column;align-items: center;background-color: white;padding-right: 0.2em;padding-left: 0.2em;position: relative;}#sk-container-id-1 div.sk-item {position: relative;z-index: 1;}#sk-container-id-1 div.sk-parallel {display: flex;align-items: stretch;justify-content: center;background-color: white;position: relative;}#sk-container-id-1 div.sk-item::before, #sk-container-id-1 div.sk-parallel-item::before {content: \"\";position: absolute;border-left: 1px solid gray;box-sizing: border-box;top: 0;bottom: 0;left: 50%;z-index: -1;}#sk-container-id-1 div.sk-parallel-item {display: flex;flex-direction: column;z-index: 1;position: relative;background-color: white;}#sk-container-id-1 div.sk-parallel-item:first-child::after {align-self: flex-end;width: 50%;}#sk-container-id-1 div.sk-parallel-item:last-child::after {align-self: flex-start;width: 50%;}#sk-container-id-1 div.sk-parallel-item:only-child::after {width: 0;}#sk-container-id-1 div.sk-dashed-wrapped {border: 1px dashed gray;margin: 0 0.4em 0.5em 0.4em;box-sizing: border-box;padding-bottom: 0.4em;background-color: white;}#sk-container-id-1 div.sk-label label {font-family: monospace;font-weight: bold;display: inline-block;line-height: 1.2em;}#sk-container-id-1 div.sk-label-container {text-align: center;}#sk-container-id-1 div.sk-container {/* jupyter's `normalize.less` sets `[hidden] { display: none; }` but bootstrap.min.css set `[hidden] { display: none !important; }` so we also need the `!important` here to be able to override the default hidden behavior on the sphinx rendered scikit-learn.org. See: https://github.com/scikit-learn/scikit-learn/issues/21755 */display: inline-block !important;position: relative;}#sk-container-id-1 div.sk-text-repr-fallback {display: none;}</style><div id=\"sk-container-id-1\" class=\"sk-top-container\"><div class=\"sk-text-repr-fallback\"><pre>StackingRegressor(estimators=[(&#x27;random_forest&#x27;,\n",
       "                               RandomForestRegressor(ccp_alpha=0, max_depth=20,\n",
       "                                                     max_features=&#x27;sqrt&#x27;,\n",
       "                                                     min_samples_split=3,\n",
       "                                                     n_estimators=30,\n",
       "                                                     n_jobs=-1)),\n",
       "                              (&#x27;svm&#x27;, SVR(C=800, epsilon=1, gamma=2)),\n",
       "                              (&#x27;adaBoost&#x27;,\n",
       "                               AdaBoostRegressor(estimator=SVR(C=800, epsilon=1,\n",
       "                                                               gamma=2),\n",
       "                                                 learning_rate=0.3,\n",
       "                                                 loss=&#x27;exponential&#x27;,\n",
       "                                                 n_estimators=10)),\n",
       "                              (&#x27;grbt&#x27;,\n",
       "                               GradientBoostingRegressor(criterion=&#x27;squared_error&#x27;,\n",
       "                                                         loss=&#x27;absolute_error&#x27;,\n",
       "                                                         max_depth=10,\n",
       "                                                         max_features=5,\n",
       "                                                         n_estimators=1100))],\n",
       "                  final_estimator=RandomForestRegressor(ccp_alpha=0,\n",
       "                                                        criterion=&#x27;friedman_mse&#x27;,\n",
       "                                                        max_depth=200,\n",
       "                                                        max_features=1,\n",
       "                                                        max_samples=2000,\n",
       "                                                        n_estimators=5000,\n",
       "                                                        n_jobs=-1))</pre><b>In a Jupyter environment, please rerun this cell to show the HTML representation or trust the notebook. <br />On GitHub, the HTML representation is unable to render, please try loading this page with nbviewer.org.</b></div><div class=\"sk-container\" hidden><div class=\"sk-item sk-dashed-wrapped\"><div class=\"sk-label-container\"><div class=\"sk-label sk-toggleable\"><input class=\"sk-toggleable__control sk-hidden--visually\" id=\"sk-estimator-id-1\" type=\"checkbox\" ><label for=\"sk-estimator-id-1\" class=\"sk-toggleable__label sk-toggleable__label-arrow\">StackingRegressor</label><div class=\"sk-toggleable__content\"><pre>StackingRegressor(estimators=[(&#x27;random_forest&#x27;,\n",
       "                               RandomForestRegressor(ccp_alpha=0, max_depth=20,\n",
       "                                                     max_features=&#x27;sqrt&#x27;,\n",
       "                                                     min_samples_split=3,\n",
       "                                                     n_estimators=30,\n",
       "                                                     n_jobs=-1)),\n",
       "                              (&#x27;svm&#x27;, SVR(C=800, epsilon=1, gamma=2)),\n",
       "                              (&#x27;adaBoost&#x27;,\n",
       "                               AdaBoostRegressor(estimator=SVR(C=800, epsilon=1,\n",
       "                                                               gamma=2),\n",
       "                                                 learning_rate=0.3,\n",
       "                                                 loss=&#x27;exponential&#x27;,\n",
       "                                                 n_estimators=10)),\n",
       "                              (&#x27;grbt&#x27;,\n",
       "                               GradientBoostingRegressor(criterion=&#x27;squared_error&#x27;,\n",
       "                                                         loss=&#x27;absolute_error&#x27;,\n",
       "                                                         max_depth=10,\n",
       "                                                         max_features=5,\n",
       "                                                         n_estimators=1100))],\n",
       "                  final_estimator=RandomForestRegressor(ccp_alpha=0,\n",
       "                                                        criterion=&#x27;friedman_mse&#x27;,\n",
       "                                                        max_depth=200,\n",
       "                                                        max_features=1,\n",
       "                                                        max_samples=2000,\n",
       "                                                        n_estimators=5000,\n",
       "                                                        n_jobs=-1))</pre></div></div></div><div class=\"sk-serial\"><div class=\"sk-item\"><div class=\"sk-parallel\"><div class=\"sk-parallel-item\"><div class=\"sk-item\"><div class=\"sk-label-container\"><div class=\"sk-label sk-toggleable\"><label>random_forest</label></div></div><div class=\"sk-serial\"><div class=\"sk-item\"><div class=\"sk-estimator sk-toggleable\"><input class=\"sk-toggleable__control sk-hidden--visually\" id=\"sk-estimator-id-2\" type=\"checkbox\" ><label for=\"sk-estimator-id-2\" class=\"sk-toggleable__label sk-toggleable__label-arrow\">RandomForestRegressor</label><div class=\"sk-toggleable__content\"><pre>RandomForestRegressor(ccp_alpha=0, max_depth=20, max_features=&#x27;sqrt&#x27;,\n",
       "                      min_samples_split=3, n_estimators=30, n_jobs=-1)</pre></div></div></div></div></div></div><div class=\"sk-parallel-item\"><div class=\"sk-item\"><div class=\"sk-label-container\"><div class=\"sk-label sk-toggleable\"><label>svm</label></div></div><div class=\"sk-serial\"><div class=\"sk-item\"><div class=\"sk-estimator sk-toggleable\"><input class=\"sk-toggleable__control sk-hidden--visually\" id=\"sk-estimator-id-3\" type=\"checkbox\" ><label for=\"sk-estimator-id-3\" class=\"sk-toggleable__label sk-toggleable__label-arrow\">SVR</label><div class=\"sk-toggleable__content\"><pre>SVR(C=800, epsilon=1, gamma=2)</pre></div></div></div></div></div></div><div class=\"sk-parallel-item\"><div class=\"sk-item\"><div class=\"sk-label-container\"><div class=\"sk-label sk-toggleable\"><label>adaBoost</label></div></div><div class=\"sk-serial\"><div class=\"sk-item sk-dashed-wrapped\"><div class=\"sk-parallel\"><div class=\"sk-parallel-item\"><div class=\"sk-item\"><div class=\"sk-label-container\"><div class=\"sk-label sk-toggleable\"><input class=\"sk-toggleable__control sk-hidden--visually\" id=\"sk-estimator-id-4\" type=\"checkbox\" ><label for=\"sk-estimator-id-4\" class=\"sk-toggleable__label sk-toggleable__label-arrow\">estimator: SVR</label><div class=\"sk-toggleable__content\"><pre>SVR(C=800, epsilon=1, gamma=2)</pre></div></div></div><div class=\"sk-serial\"><div class=\"sk-item\"><div class=\"sk-estimator sk-toggleable\"><input class=\"sk-toggleable__control sk-hidden--visually\" id=\"sk-estimator-id-5\" type=\"checkbox\" ><label for=\"sk-estimator-id-5\" class=\"sk-toggleable__label sk-toggleable__label-arrow\">SVR</label><div class=\"sk-toggleable__content\"><pre>SVR(C=800, epsilon=1, gamma=2)</pre></div></div></div></div></div></div></div></div></div></div></div><div class=\"sk-parallel-item\"><div class=\"sk-item\"><div class=\"sk-label-container\"><div class=\"sk-label sk-toggleable\"><label>grbt</label></div></div><div class=\"sk-serial\"><div class=\"sk-item\"><div class=\"sk-estimator sk-toggleable\"><input class=\"sk-toggleable__control sk-hidden--visually\" id=\"sk-estimator-id-6\" type=\"checkbox\" ><label for=\"sk-estimator-id-6\" class=\"sk-toggleable__label sk-toggleable__label-arrow\">GradientBoostingRegressor</label><div class=\"sk-toggleable__content\"><pre>GradientBoostingRegressor(criterion=&#x27;squared_error&#x27;, loss=&#x27;absolute_error&#x27;,\n",
       "                          max_depth=10, max_features=5, n_estimators=1100)</pre></div></div></div></div></div></div></div></div><div class=\"sk-item\"><div class=\"sk-parallel\"><div class=\"sk-parallel-item\"><div class=\"sk-item\"><div class=\"sk-label-container\"><div class=\"sk-label sk-toggleable\"><label>final_estimator</label></div></div><div class=\"sk-serial\"><div class=\"sk-item\"><div class=\"sk-estimator sk-toggleable\"><input class=\"sk-toggleable__control sk-hidden--visually\" id=\"sk-estimator-id-7\" type=\"checkbox\" ><label for=\"sk-estimator-id-7\" class=\"sk-toggleable__label sk-toggleable__label-arrow\">RandomForestRegressor</label><div class=\"sk-toggleable__content\"><pre>RandomForestRegressor(ccp_alpha=0, criterion=&#x27;friedman_mse&#x27;, max_depth=200,\n",
       "                      max_features=1, max_samples=2000, n_estimators=5000,\n",
       "                      n_jobs=-1)</pre></div></div></div></div></div></div></div></div></div></div></div></div>"
      ],
      "text/plain": [
       "StackingRegressor(estimators=[('random_forest',\n",
       "                               RandomForestRegressor(ccp_alpha=0, max_depth=20,\n",
       "                                                     max_features='sqrt',\n",
       "                                                     min_samples_split=3,\n",
       "                                                     n_estimators=30,\n",
       "                                                     n_jobs=-1)),\n",
       "                              ('svm', SVR(C=800, epsilon=1, gamma=2)),\n",
       "                              ('adaBoost',\n",
       "                               AdaBoostRegressor(estimator=SVR(C=800, epsilon=1,\n",
       "                                                               gamma=2),\n",
       "                                                 learning_rate=0.3,\n",
       "                                                 loss='exponential',\n",
       "                                                 n_estimators=10)),\n",
       "                              ('grbt',\n",
       "                               GradientBoostingRegressor(criterion='squared_error',\n",
       "                                                         loss='absolute_error',\n",
       "                                                         max_depth=10,\n",
       "                                                         max_features=5,\n",
       "                                                         n_estimators=1100))],\n",
       "                  final_estimator=RandomForestRegressor(ccp_alpha=0,\n",
       "                                                        criterion='friedman_mse',\n",
       "                                                        max_depth=200,\n",
       "                                                        max_features=1,\n",
       "                                                        max_samples=2000,\n",
       "                                                        n_estimators=5000,\n",
       "                                                        n_jobs=-1))"
      ]
     },
     "execution_count": 20,
     "metadata": {},
     "output_type": "execute_result"
    }
   ],
   "source": [
    "estimators = [\n",
    "    (\"random_forest\", final_random_forest),\n",
    "    (\"svm\", final_svm),\n",
    "    (\"adaBoost\", final_ada_reg),\n",
    "    (\"grbt\", final_grbt_reg)\n",
    "]\n",
    "\n",
    "stacking_regressor_1_2 = StackingRegressor(estimators=estimators, \n",
    "                                       final_estimator=RandomForestRegressor(n_estimators=5000, \n",
    "                                                    min_samples_split=2,\n",
    "                                                   n_jobs=-1,\n",
    "                                                   max_samples=2000,\n",
    "                                                   max_features=1,\n",
    "                                                   max_depth=200,\n",
    "                                                   criterion=\"friedman_mse\",\n",
    "                                                   bootstrap=True,\n",
    "                                                   ccp_alpha=0))\n",
    "stacking_regressor_1_2"
   ]
  },
  {
   "cell_type": "code",
   "execution_count": 24,
   "id": "c01a2598",
   "metadata": {},
   "outputs": [
    {
     "data": {
      "text/plain": [
       "5.020432208254001"
      ]
     },
     "execution_count": 24,
     "metadata": {},
     "output_type": "execute_result"
    }
   ],
   "source": [
    "cross_score = cross_val_score(stacking_regressor_1_2, X=X_train_clean, y=y_train, cv=3, scoring=mse_scorer)\n",
    "cross_score.mean()"
   ]
  },
  {
   "cell_type": "code",
   "execution_count": 21,
   "id": "9ca06d6b",
   "metadata": {},
   "outputs": [
    {
     "data": {
      "text/html": [
       "<style>#sk-container-id-2 {color: black;background-color: white;}#sk-container-id-2 pre{padding: 0;}#sk-container-id-2 div.sk-toggleable {background-color: white;}#sk-container-id-2 label.sk-toggleable__label {cursor: pointer;display: block;width: 100%;margin-bottom: 0;padding: 0.3em;box-sizing: border-box;text-align: center;}#sk-container-id-2 label.sk-toggleable__label-arrow:before {content: \"▸\";float: left;margin-right: 0.25em;color: #696969;}#sk-container-id-2 label.sk-toggleable__label-arrow:hover:before {color: black;}#sk-container-id-2 div.sk-estimator:hover label.sk-toggleable__label-arrow:before {color: black;}#sk-container-id-2 div.sk-toggleable__content {max-height: 0;max-width: 0;overflow: hidden;text-align: left;background-color: #f0f8ff;}#sk-container-id-2 div.sk-toggleable__content pre {margin: 0.2em;color: black;border-radius: 0.25em;background-color: #f0f8ff;}#sk-container-id-2 input.sk-toggleable__control:checked~div.sk-toggleable__content {max-height: 200px;max-width: 100%;overflow: auto;}#sk-container-id-2 input.sk-toggleable__control:checked~label.sk-toggleable__label-arrow:before {content: \"▾\";}#sk-container-id-2 div.sk-estimator input.sk-toggleable__control:checked~label.sk-toggleable__label {background-color: #d4ebff;}#sk-container-id-2 div.sk-label input.sk-toggleable__control:checked~label.sk-toggleable__label {background-color: #d4ebff;}#sk-container-id-2 input.sk-hidden--visually {border: 0;clip: rect(1px 1px 1px 1px);clip: rect(1px, 1px, 1px, 1px);height: 1px;margin: -1px;overflow: hidden;padding: 0;position: absolute;width: 1px;}#sk-container-id-2 div.sk-estimator {font-family: monospace;background-color: #f0f8ff;border: 1px dotted black;border-radius: 0.25em;box-sizing: border-box;margin-bottom: 0.5em;}#sk-container-id-2 div.sk-estimator:hover {background-color: #d4ebff;}#sk-container-id-2 div.sk-parallel-item::after {content: \"\";width: 100%;border-bottom: 1px solid gray;flex-grow: 1;}#sk-container-id-2 div.sk-label:hover label.sk-toggleable__label {background-color: #d4ebff;}#sk-container-id-2 div.sk-serial::before {content: \"\";position: absolute;border-left: 1px solid gray;box-sizing: border-box;top: 0;bottom: 0;left: 50%;z-index: 0;}#sk-container-id-2 div.sk-serial {display: flex;flex-direction: column;align-items: center;background-color: white;padding-right: 0.2em;padding-left: 0.2em;position: relative;}#sk-container-id-2 div.sk-item {position: relative;z-index: 1;}#sk-container-id-2 div.sk-parallel {display: flex;align-items: stretch;justify-content: center;background-color: white;position: relative;}#sk-container-id-2 div.sk-item::before, #sk-container-id-2 div.sk-parallel-item::before {content: \"\";position: absolute;border-left: 1px solid gray;box-sizing: border-box;top: 0;bottom: 0;left: 50%;z-index: -1;}#sk-container-id-2 div.sk-parallel-item {display: flex;flex-direction: column;z-index: 1;position: relative;background-color: white;}#sk-container-id-2 div.sk-parallel-item:first-child::after {align-self: flex-end;width: 50%;}#sk-container-id-2 div.sk-parallel-item:last-child::after {align-self: flex-start;width: 50%;}#sk-container-id-2 div.sk-parallel-item:only-child::after {width: 0;}#sk-container-id-2 div.sk-dashed-wrapped {border: 1px dashed gray;margin: 0 0.4em 0.5em 0.4em;box-sizing: border-box;padding-bottom: 0.4em;background-color: white;}#sk-container-id-2 div.sk-label label {font-family: monospace;font-weight: bold;display: inline-block;line-height: 1.2em;}#sk-container-id-2 div.sk-label-container {text-align: center;}#sk-container-id-2 div.sk-container {/* jupyter's `normalize.less` sets `[hidden] { display: none; }` but bootstrap.min.css set `[hidden] { display: none !important; }` so we also need the `!important` here to be able to override the default hidden behavior on the sphinx rendered scikit-learn.org. See: https://github.com/scikit-learn/scikit-learn/issues/21755 */display: inline-block !important;position: relative;}#sk-container-id-2 div.sk-text-repr-fallback {display: none;}</style><div id=\"sk-container-id-2\" class=\"sk-top-container\"><div class=\"sk-text-repr-fallback\"><pre>StackingRegressor(estimators=[(&#x27;random_forest&#x27;,\n",
       "                               RandomForestRegressor(ccp_alpha=0, max_depth=20,\n",
       "                                                     max_features=&#x27;sqrt&#x27;,\n",
       "                                                     min_samples_split=3,\n",
       "                                                     n_estimators=30,\n",
       "                                                     n_jobs=-1)),\n",
       "                              (&#x27;svm&#x27;, SVR(C=800, epsilon=1, gamma=2)),\n",
       "                              (&#x27;adaBoost&#x27;,\n",
       "                               AdaBoostRegressor(estimator=SVR(C=800, epsilon=1,\n",
       "                                                               gamma=2),\n",
       "                                                 learning_rate=0.3,\n",
       "                                                 loss=&#x27;exponential&#x27;,\n",
       "                                                 n_estimators=10)),\n",
       "                              (&#x27;grbt&#x27;,\n",
       "                               GradientBoostingRegressor(criterion=&#x27;squared_error&#x27;,\n",
       "                                                         loss=&#x27;absolute_error&#x27;,\n",
       "                                                         max_depth=10,\n",
       "                                                         max_features=5,\n",
       "                                                         n_estimators=1100))],\n",
       "                  final_estimator=RandomForestRegressor(ccp_alpha=0,\n",
       "                                                        criterion=&#x27;friedman_mse&#x27;,\n",
       "                                                        max_depth=200,\n",
       "                                                        max_features=1,\n",
       "                                                        max_samples=2000,\n",
       "                                                        n_estimators=5000,\n",
       "                                                        n_jobs=-1))</pre><b>In a Jupyter environment, please rerun this cell to show the HTML representation or trust the notebook. <br />On GitHub, the HTML representation is unable to render, please try loading this page with nbviewer.org.</b></div><div class=\"sk-container\" hidden><div class=\"sk-item sk-dashed-wrapped\"><div class=\"sk-label-container\"><div class=\"sk-label sk-toggleable\"><input class=\"sk-toggleable__control sk-hidden--visually\" id=\"sk-estimator-id-8\" type=\"checkbox\" ><label for=\"sk-estimator-id-8\" class=\"sk-toggleable__label sk-toggleable__label-arrow\">StackingRegressor</label><div class=\"sk-toggleable__content\"><pre>StackingRegressor(estimators=[(&#x27;random_forest&#x27;,\n",
       "                               RandomForestRegressor(ccp_alpha=0, max_depth=20,\n",
       "                                                     max_features=&#x27;sqrt&#x27;,\n",
       "                                                     min_samples_split=3,\n",
       "                                                     n_estimators=30,\n",
       "                                                     n_jobs=-1)),\n",
       "                              (&#x27;svm&#x27;, SVR(C=800, epsilon=1, gamma=2)),\n",
       "                              (&#x27;adaBoost&#x27;,\n",
       "                               AdaBoostRegressor(estimator=SVR(C=800, epsilon=1,\n",
       "                                                               gamma=2),\n",
       "                                                 learning_rate=0.3,\n",
       "                                                 loss=&#x27;exponential&#x27;,\n",
       "                                                 n_estimators=10)),\n",
       "                              (&#x27;grbt&#x27;,\n",
       "                               GradientBoostingRegressor(criterion=&#x27;squared_error&#x27;,\n",
       "                                                         loss=&#x27;absolute_error&#x27;,\n",
       "                                                         max_depth=10,\n",
       "                                                         max_features=5,\n",
       "                                                         n_estimators=1100))],\n",
       "                  final_estimator=RandomForestRegressor(ccp_alpha=0,\n",
       "                                                        criterion=&#x27;friedman_mse&#x27;,\n",
       "                                                        max_depth=200,\n",
       "                                                        max_features=1,\n",
       "                                                        max_samples=2000,\n",
       "                                                        n_estimators=5000,\n",
       "                                                        n_jobs=-1))</pre></div></div></div><div class=\"sk-serial\"><div class=\"sk-item\"><div class=\"sk-parallel\"><div class=\"sk-parallel-item\"><div class=\"sk-item\"><div class=\"sk-label-container\"><div class=\"sk-label sk-toggleable\"><label>random_forest</label></div></div><div class=\"sk-serial\"><div class=\"sk-item\"><div class=\"sk-estimator sk-toggleable\"><input class=\"sk-toggleable__control sk-hidden--visually\" id=\"sk-estimator-id-9\" type=\"checkbox\" ><label for=\"sk-estimator-id-9\" class=\"sk-toggleable__label sk-toggleable__label-arrow\">RandomForestRegressor</label><div class=\"sk-toggleable__content\"><pre>RandomForestRegressor(ccp_alpha=0, max_depth=20, max_features=&#x27;sqrt&#x27;,\n",
       "                      min_samples_split=3, n_estimators=30, n_jobs=-1)</pre></div></div></div></div></div></div><div class=\"sk-parallel-item\"><div class=\"sk-item\"><div class=\"sk-label-container\"><div class=\"sk-label sk-toggleable\"><label>svm</label></div></div><div class=\"sk-serial\"><div class=\"sk-item\"><div class=\"sk-estimator sk-toggleable\"><input class=\"sk-toggleable__control sk-hidden--visually\" id=\"sk-estimator-id-10\" type=\"checkbox\" ><label for=\"sk-estimator-id-10\" class=\"sk-toggleable__label sk-toggleable__label-arrow\">SVR</label><div class=\"sk-toggleable__content\"><pre>SVR(C=800, epsilon=1, gamma=2)</pre></div></div></div></div></div></div><div class=\"sk-parallel-item\"><div class=\"sk-item\"><div class=\"sk-label-container\"><div class=\"sk-label sk-toggleable\"><label>adaBoost</label></div></div><div class=\"sk-serial\"><div class=\"sk-item sk-dashed-wrapped\"><div class=\"sk-parallel\"><div class=\"sk-parallel-item\"><div class=\"sk-item\"><div class=\"sk-label-container\"><div class=\"sk-label sk-toggleable\"><input class=\"sk-toggleable__control sk-hidden--visually\" id=\"sk-estimator-id-11\" type=\"checkbox\" ><label for=\"sk-estimator-id-11\" class=\"sk-toggleable__label sk-toggleable__label-arrow\">estimator: SVR</label><div class=\"sk-toggleable__content\"><pre>SVR(C=800, epsilon=1, gamma=2)</pre></div></div></div><div class=\"sk-serial\"><div class=\"sk-item\"><div class=\"sk-estimator sk-toggleable\"><input class=\"sk-toggleable__control sk-hidden--visually\" id=\"sk-estimator-id-12\" type=\"checkbox\" ><label for=\"sk-estimator-id-12\" class=\"sk-toggleable__label sk-toggleable__label-arrow\">SVR</label><div class=\"sk-toggleable__content\"><pre>SVR(C=800, epsilon=1, gamma=2)</pre></div></div></div></div></div></div></div></div></div></div></div><div class=\"sk-parallel-item\"><div class=\"sk-item\"><div class=\"sk-label-container\"><div class=\"sk-label sk-toggleable\"><label>grbt</label></div></div><div class=\"sk-serial\"><div class=\"sk-item\"><div class=\"sk-estimator sk-toggleable\"><input class=\"sk-toggleable__control sk-hidden--visually\" id=\"sk-estimator-id-13\" type=\"checkbox\" ><label for=\"sk-estimator-id-13\" class=\"sk-toggleable__label sk-toggleable__label-arrow\">GradientBoostingRegressor</label><div class=\"sk-toggleable__content\"><pre>GradientBoostingRegressor(criterion=&#x27;squared_error&#x27;, loss=&#x27;absolute_error&#x27;,\n",
       "                          max_depth=10, max_features=5, n_estimators=1100)</pre></div></div></div></div></div></div></div></div><div class=\"sk-item\"><div class=\"sk-parallel\"><div class=\"sk-parallel-item\"><div class=\"sk-item\"><div class=\"sk-label-container\"><div class=\"sk-label sk-toggleable\"><label>final_estimator</label></div></div><div class=\"sk-serial\"><div class=\"sk-item\"><div class=\"sk-estimator sk-toggleable\"><input class=\"sk-toggleable__control sk-hidden--visually\" id=\"sk-estimator-id-14\" type=\"checkbox\" ><label for=\"sk-estimator-id-14\" class=\"sk-toggleable__label sk-toggleable__label-arrow\">RandomForestRegressor</label><div class=\"sk-toggleable__content\"><pre>RandomForestRegressor(ccp_alpha=0, criterion=&#x27;friedman_mse&#x27;, max_depth=200,\n",
       "                      max_features=1, max_samples=2000, n_estimators=5000,\n",
       "                      n_jobs=-1)</pre></div></div></div></div></div></div></div></div></div></div></div></div>"
      ],
      "text/plain": [
       "StackingRegressor(estimators=[('random_forest',\n",
       "                               RandomForestRegressor(ccp_alpha=0, max_depth=20,\n",
       "                                                     max_features='sqrt',\n",
       "                                                     min_samples_split=3,\n",
       "                                                     n_estimators=30,\n",
       "                                                     n_jobs=-1)),\n",
       "                              ('svm', SVR(C=800, epsilon=1, gamma=2)),\n",
       "                              ('adaBoost',\n",
       "                               AdaBoostRegressor(estimator=SVR(C=800, epsilon=1,\n",
       "                                                               gamma=2),\n",
       "                                                 learning_rate=0.3,\n",
       "                                                 loss='exponential',\n",
       "                                                 n_estimators=10)),\n",
       "                              ('grbt',\n",
       "                               GradientBoostingRegressor(criterion='squared_error',\n",
       "                                                         loss='absolute_error',\n",
       "                                                         max_depth=10,\n",
       "                                                         max_features=5,\n",
       "                                                         n_estimators=1100))],\n",
       "                  final_estimator=RandomForestRegressor(ccp_alpha=0,\n",
       "                                                        criterion='friedman_mse',\n",
       "                                                        max_depth=200,\n",
       "                                                        max_features=1,\n",
       "                                                        max_samples=2000,\n",
       "                                                        n_estimators=5000,\n",
       "                                                        n_jobs=-1))"
      ]
     },
     "execution_count": 21,
     "metadata": {},
     "output_type": "execute_result"
    }
   ],
   "source": [
    "stacking_regressor_1_2.fit(X_train_clean, y_train)"
   ]
  },
  {
   "cell_type": "code",
   "execution_count": 22,
   "id": "5e30d72f",
   "metadata": {},
   "outputs": [
    {
     "data": {
      "text/plain": [
       "['trained_models/Stack2.plk']"
      ]
     },
     "execution_count": 22,
     "metadata": {},
     "output_type": "execute_result"
    }
   ],
   "source": [
    "joblib.dump(stacking_regressor_1_2, \"trained_models/Stack2.plk\")"
   ]
  },
  {
   "cell_type": "code",
   "execution_count": null,
   "id": "7330b26d",
   "metadata": {},
   "outputs": [],
   "source": []
  }
 ],
 "metadata": {
  "kernelspec": {
   "display_name": "Python 3 (ipykernel)",
   "language": "python",
   "name": "python3"
  },
  "language_info": {
   "codemirror_mode": {
    "name": "ipython",
    "version": 3
   },
   "file_extension": ".py",
   "mimetype": "text/x-python",
   "name": "python",
   "nbconvert_exporter": "python",
   "pygments_lexer": "ipython3",
   "version": "3.10.9"
  }
 },
 "nbformat": 4,
 "nbformat_minor": 5
}
